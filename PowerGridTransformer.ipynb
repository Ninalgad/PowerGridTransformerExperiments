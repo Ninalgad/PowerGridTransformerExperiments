{
  "cells": [
    {
      "cell_type": "markdown",
      "metadata": {
        "id": "ux-kgzZwxOlY"
      },
      "source": [
        "[coda](https://www.codabench.org/competitions/2378/) [git](https://github.com/IRT-SystemX/LIPS/tree/fb4048e274fb75dd963bd538429b6ece2df757d8) [example](https://github.com/IRT-SystemX/LIPS/blob/fb4048e274fb75dd963bd538429b6ece2df757d8/getting_started/PowerGridUsecase/04_Complete_example.ipynb) [paper](https://openreview.net/pdf?id=ObD_o92z4p)"
      ]
    },
    {
      "cell_type": "markdown",
      "metadata": {
        "id": "vO2maIkrpZ7R"
      },
      "source": [
        "# Setup"
      ]
    },
    {
      "cell_type": "code",
      "execution_count": 1,
      "metadata": {
        "id": "Thbgwr86xIkE",
        "colab": {
          "base_uri": "https://localhost:8080/"
        },
        "outputId": "a8debf6d-2ca5-4f17-9917-9ef363d29a6d"
      },
      "outputs": [
        {
          "output_type": "stream",
          "name": "stdout",
          "text": [
            "Cloning into 'LIPS'...\n",
            "remote: Enumerating objects: 7175, done.\u001b[K\n",
            "remote: Counting objects: 100% (827/827), done.\u001b[K\n",
            "remote: Compressing objects: 100% (245/245), done.\u001b[K\n",
            "remote: Total 7175 (delta 713), reused 593 (delta 581), pack-reused 6348\u001b[K\n",
            "Receiving objects: 100% (7175/7175), 628.51 MiB | 36.28 MiB/s, done.\n",
            "Resolving deltas: 100% (2794/2794), done.\n"
          ]
        }
      ],
      "source": [
        "!git clone https://github.com/IRT-SystemX/LIPS.git"
      ]
    },
    {
      "cell_type": "code",
      "execution_count": 2,
      "metadata": {
        "id": "wD3hK5wN1y8S",
        "colab": {
          "base_uri": "https://localhost:8080/"
        },
        "outputId": "a7150c60-be01-4d44-a163-cf13f9a3629b",
        "collapsed": true
      },
      "outputs": [
        {
          "output_type": "stream",
          "name": "stdout",
          "text": [
            "\u001b[2K     \u001b[90m━━━━━━━━━━━━━━━━━━━━━━━━━━━━━━━━━━━━━━━━\u001b[0m \u001b[32m16.6/16.6 MB\u001b[0m \u001b[31m12.9 MB/s\u001b[0m eta \u001b[36m0:00:00\u001b[0m\n",
            "\u001b[2K     \u001b[90m━━━━━━━━━━━━━━━━━━━━━━━━━━━━━━━━━━━━━━━━\u001b[0m \u001b[32m62.6/62.6 kB\u001b[0m \u001b[31m10.3 MB/s\u001b[0m eta \u001b[36m0:00:00\u001b[0m\n",
            "\u001b[?25h  Preparing metadata (setup.py) ... \u001b[?25l\u001b[?25hdone\n",
            "\u001b[2K     \u001b[90m━━━━━━━━━━━━━━━━━━━━━━━━━━━━━━━━━━━━━━━━\u001b[0m \u001b[32m17.1/17.1 MB\u001b[0m \u001b[31m55.4 MB/s\u001b[0m eta \u001b[36m0:00:00\u001b[0m\n",
            "\u001b[2K     \u001b[90m━━━━━━━━━━━━━━━━━━━━━━━━━━━━━━━━━━━━━━━━\u001b[0m \u001b[32m820.3/820.3 kB\u001b[0m \u001b[31m69.7 MB/s\u001b[0m eta \u001b[36m0:00:00\u001b[0m\n",
            "\u001b[2K     \u001b[90m━━━━━━━━━━━━━━━━━━━━━━━━━━━━━━━━━━━━━━━━\u001b[0m \u001b[32m13.2/13.2 MB\u001b[0m \u001b[31m100.8 MB/s\u001b[0m eta \u001b[36m0:00:00\u001b[0m\n",
            "\u001b[?25h  Preparing metadata (setup.py) ... \u001b[?25l\u001b[?25hdone\n",
            "\u001b[2K     \u001b[90m━━━━━━━━━━━━━━━━━━━━━━━━━━━━━━━━━━━━━━━━\u001b[0m \u001b[32m80.8/80.8 kB\u001b[0m \u001b[31m11.9 MB/s\u001b[0m eta \u001b[36m0:00:00\u001b[0m\n",
            "\u001b[?25h  Building wheel for leap-net (setup.py) ... \u001b[?25l\u001b[?25hdone\n",
            "  Building wheel for pandapower (setup.py) ... \u001b[?25l\u001b[?25hdone\n",
            "\u001b[31mERROR: pip's dependency resolver does not currently take into account all the packages that are installed. This behaviour is the source of the following dependency conflicts.\n",
            "chex 0.1.86 requires numpy>=1.24.1, but you have numpy 1.23.5 which is incompatible.\n",
            "pandas-stubs 2.0.3.230814 requires numpy>=1.25.0; python_version >= \"3.9\", but you have numpy 1.23.5 which is incompatible.\u001b[0m\u001b[31m\n",
            "\u001b[0m"
          ]
        }
      ],
      "source": [
        "!pip install -q Grid2Op==1.9.8 leap-net==0.0.5 \"numpy<1.24\" lightsim2grid #==0.7.5"
      ]
    },
    {
      "cell_type": "code",
      "execution_count": 3,
      "metadata": {
        "id": "5QbAmNYQelmY"
      },
      "outputs": [],
      "source": [
        "exit()"
      ]
    },
    {
      "cell_type": "markdown",
      "metadata": {
        "id": "AP4kI0xWX5mF"
      },
      "source": [
        "## custom model"
      ]
    },
    {
      "cell_type": "code",
      "execution_count": 4,
      "metadata": {
        "colab": {
          "base_uri": "https://localhost:8080/"
        },
        "id": "fzljtZNgxBZh",
        "outputId": "f77d666f-7f95-4384-dbdd-766bad45db17"
      },
      "outputs": [
        {
          "output_type": "stream",
          "name": "stdout",
          "text": [
            "Writing /content/LIPS/lips/augmented_simulators/tensorflow_models/transformer_utils.py\n"
          ]
        }
      ],
      "source": [
        "%%writefile /content/LIPS/lips/augmented_simulators/tensorflow_models/transformer_utils.py\n",
        "import numpy as np\n",
        "import tensorflow as tf\n",
        "\n",
        "\n",
        "def get_angles(pos, i, d_model):\n",
        "  angle_rates = 1 / np.power(10000, (2 * (i//2)) / np.float32(d_model))\n",
        "  return pos * angle_rates\n",
        "\n",
        "def positional_encoding(position, d_model):\n",
        "  angle_rads = get_angles(np.arange(position)[:, np.newaxis],\n",
        "                          np.arange(d_model)[np.newaxis, :],\n",
        "                          d_model)\n",
        "\n",
        "  # apply sin to even indices in the array; 2i\n",
        "  angle_rads[:, 0::2] = np.sin(angle_rads[:, 0::2])\n",
        "\n",
        "  # apply cos to odd indices in the array; 2i+1\n",
        "  angle_rads[:, 1::2] = np.cos(angle_rads[:, 1::2])\n",
        "\n",
        "  pos_encoding = angle_rads[np.newaxis, ...]\n",
        "\n",
        "  return tf.cast(pos_encoding, dtype=tf.float32)\n",
        "\n",
        "def scaled_dot_product_attention(q, k, v, mask):\n",
        "  \"\"\"Calculate the attention weights.\n",
        "  q, k, v must have matching leading dimensions.\n",
        "  k, v must have matching penultimate dimension, i.e.: seq_len_k = seq_len_v.\n",
        "  The mask has different shapes depending on its type(padding or look ahead)\n",
        "  but it must be broadcastable for addition.\n",
        "\n",
        "  Args:\n",
        "    q: query shape == (..., seq_len_q, depth)\n",
        "    k: key shape == (..., seq_len_k, depth)\n",
        "    v: value shape == (..., seq_len_v, depth_v)\n",
        "    mask: Float tensor with shape broadcastable\n",
        "          to (..., seq_len_q, seq_len_k). Defaults to None.\n",
        "\n",
        "  Returns:\n",
        "    output, attention_weights\n",
        "  \"\"\"\n",
        "\n",
        "  matmul_qk = tf.matmul(q, k, transpose_b=True)  # (..., seq_len_q, seq_len_k)\n",
        "\n",
        "  # scale matmul_qk\n",
        "  dk = tf.cast(tf.shape(k)[-1], tf.float32)\n",
        "  scaled_attention_logits = matmul_qk / tf.math.sqrt(dk)\n",
        "\n",
        "  # add the mask to the scaled tensor.\n",
        "  if mask is not None:\n",
        "    scaled_attention_logits += (mask * -1e9)\n",
        "\n",
        "  # softmax is normalized on the last axis (seq_len_k) so that the scores\n",
        "  # add up to 1.\n",
        "  attention_weights = tf.nn.softmax(scaled_attention_logits, axis=-1)  # (..., seq_len_q, seq_len_k)\n",
        "  output = tf.matmul(attention_weights, v)  # (..., seq_len_q, depth_v)\n",
        "\n",
        "  return output, attention_weights\n",
        "\n",
        "\n",
        "class MultiHeadAttention(tf.keras.layers.Layer):\n",
        "  def __init__(self, d_model, num_heads):\n",
        "    super(MultiHeadAttention, self).__init__()\n",
        "    self.num_heads = num_heads\n",
        "    self.d_model = d_model\n",
        "\n",
        "    assert d_model % self.num_heads == 0\n",
        "\n",
        "    self.wq = tf.keras.layers.Dense(d_model)\n",
        "    self.wk = tf.keras.layers.Dense(d_model)\n",
        "    self.wv = tf.keras.layers.Dense(d_model)\n",
        "\n",
        "    self.dense = tf.keras.layers.Dense(d_model)\n",
        "\n",
        "  def split_heads(self, x):\n",
        "    heads = tf.split(x, self.num_heads, axis=-1)\n",
        "    x = tf.stack(heads, axis=1)\n",
        "    return x\n",
        "\n",
        "  def call(self, v, k, q, mask=None, training=False):\n",
        "    seq_len_q = tf.shape(q)[1]\n",
        "\n",
        "    q = self.wq(q)  # (batch_size, seq_len, d_model)\n",
        "    k = self.wk(k)  # (batch_size, seq_len, d_model)\n",
        "    v = self.wv(v)  # (batch_size, seq_len, d_model)\n",
        "\n",
        "    q = self.split_heads(q)  # (batch_size, num_heads, seq_len_q, depth)\n",
        "    k = self.split_heads(k)  # (batch_size, num_heads, seq_len_k, depth)\n",
        "    v = self.split_heads(v)  # (batch_size, num_heads, seq_len_v, depth)\n",
        "\n",
        "    # q = tf.keras.layers.GaussianNoise(.1)(q, training=training)\n",
        "    attention_weights = {}\n",
        "    # scaled_attention.shape == (batch_size, num_heads, seq_len_q, depth)\n",
        "    # attention_weights.shape == (batch_size, num_heads, seq_len_q, seq_len_k)\n",
        "    scaled_attention, attention_weights = scaled_dot_product_attention(\n",
        "        q, k, v, mask)\n",
        "\n",
        "    scaled_attention = tf.transpose(scaled_attention, perm=[0, 2, 1, 3])  # (batch_size, seq_len_q, num_heads, depth)\n",
        "\n",
        "    concat_attention = tf.reshape(scaled_attention,\n",
        "                                  (-1, seq_len_q, self.d_model))  # (batch_size, seq_len_q, d_model)\n",
        "\n",
        "    output = self.dense(concat_attention)  # (batch_size, seq_len_q, d_model)\n",
        "\n",
        "    return output, attention_weights\n",
        "\n",
        "def point_wise_feed_forward_network(d_model, dff):\n",
        "  return tf.keras.Sequential([\n",
        "      tf.keras.layers.Dense(dff, activation=tf.keras.activations.gelu),  # (batch_size, seq_len, dff)\n",
        "      tf.keras.layers.Dense(d_model)  # (batch_size, seq_len, d_model)\n",
        "  ])\n",
        "\n",
        "\n",
        "class ReZero(tf.keras.layers.Layer):\n",
        "    def __init__(self, name):\n",
        "        super(ReZero, self).__init__(name=name)\n",
        "        a_init = tf.zeros_initializer()\n",
        "        self.alpha = tf.Variable(name=self.name + '-alpha',\n",
        "            initial_value=a_init(shape=(1,), dtype=\"float32\"), trainable=True\n",
        "        )\n",
        "\n",
        "    def call(self, inputs):\n",
        "        return self.alpha * inputs\n",
        "\n",
        "\n",
        "class EncoderLayer(tf.keras.layers.Layer):\n",
        "  def __init__(self, d_model, num_heads, dff, rate=0.1):\n",
        "    super(EncoderLayer, self).__init__()\n",
        "\n",
        "    self.mha = MultiHeadAttention(d_model, num_heads)\n",
        "    self.ffn = point_wise_feed_forward_network(d_model, dff)\n",
        "\n",
        "    self.layernorm1 = tf.keras.layers.LayerNormalization(epsilon=1e-6)\n",
        "    self.layernorm2 = tf.keras.layers.LayerNormalization(epsilon=1e-6)\n",
        "    #self.rz1 = ReZero(self.name+'rz1')\n",
        "    #self.rz2 = ReZero(self.name+'rz2')\n",
        "\n",
        "    #self.dropout1 = tf.keras.layers.Dropout(rate)\n",
        "    #self.dropout2 = tf.keras.layers.Dropout(rate)\n",
        "\n",
        "  def call(self, x, training=False, mask=None):\n",
        "\n",
        "    #inp1 = x\n",
        "    #x = self.layernorm1(x)\n",
        "    attn_output, attention_weights = self.mha(x, x, x, mask, training=training)  # (batch_size, input_seq_len, d_model)\n",
        "    #attn_output = self.dropout1(attn_output, training=training)\n",
        "    #out1 = x + self.layernorm1(attn_output)  # (batch_size, input_seq_len, d_model)\n",
        "    # out1 = x + self.rz1(attn_output)\n",
        "    out1 = self.layernorm1(x + attn_output)\n",
        "\n",
        "    #out1 = self.layernorm1(out1)\n",
        "    ffn_output = self.ffn(out1)  # (batch_size, input_seq_len, d_model)\n",
        "    #ffn_output = self.dropout2(ffn_output, training=training)\n",
        "    # out2 = out1 + self.layernorm2(ffn_output)  # (batch_size, input_seq_len, d_model)\n",
        "    # out2 = out1 + self.rz2(ffn_output)\n",
        "    out2 = self.layernorm2(out1 + ffn_output)\n",
        "\n",
        "    return out2, attention_weights\n",
        "\n",
        "\n",
        "class AttentionPool(tf.keras.layers.Layer):\n",
        "    def __init__(self, d_model, dff):\n",
        "        super(AttentionPool, self).__init__()\n",
        "        self.mha = MultiHeadAttention(d_model, num_heads=2)\n",
        "        self.ffn = point_wise_feed_forward_network(d_model, dff)\n",
        "        self.rz = ReZero(self.name+'rz')\n",
        "        # self.layernorm = tf.keras.layers.LayerNormalization(epsilon=1e-6)\n",
        "\n",
        "    def call(self, x, t, training=False):\n",
        "        x, _ = self.mha(x, x, t, training=training)\n",
        "        out1 = tf.math.reduce_mean(x, axis=1)\n",
        "\n",
        "        ffn_output = self.ffn(out1)  # (batch_size, input_seq_len, d_model)\n",
        "        #ffn_output = self.dropout2(ffn_output, training=training)\n",
        "        # out2 = out1 + self.layernorm(ffn_output)  # (batch_size, input_seq_len, d_model)\n",
        "        out2 = out1 + self.rz(ffn_output)\n",
        "\n",
        "        return out2\n",
        "\n",
        "\n",
        "class CrossAttention(tf.keras.layers.Layer):\n",
        "    def __init__(self, d_model, dff):\n",
        "        super(CrossAttention, self).__init__()\n",
        "        self.mha = MultiHeadAttention(d_model, num_heads=2)\n",
        "        self.ffn = point_wise_feed_forward_network(d_model, dff)\n",
        "        self.rz = ReZero(self.name+'rz')\n",
        "        # self.layernorm = tf.keras.layers.LayerNormalization(epsilon=1e-6)\n",
        "\n",
        "    def call(self, q, kv, training=False):\n",
        "        x, _ = self.mha(kv, kv, q, training=training)\n",
        "\n",
        "        ffn_output = self.ffn(x)  # (batch_size, q_seq_len, d_model)\n",
        "        out2 = q + self.rz(ffn_output)\n",
        "\n",
        "        return out2\n",
        "\n",
        "\n",
        "class TransformerEncoder(tf.keras.layers.Layer):\n",
        "  def __init__(self, output_dim, x_attr_sizes, t_attr_sizes, num_layers, d_model, num_heads, dff):\n",
        "    super(TransformerEncoder, self).__init__()\n",
        "\n",
        "    self.attr_sizes = list(x_attr_sizes) + list(t_attr_sizes)\n",
        "    self.n_tau_attr = len(t_attr_sizes)\n",
        "\n",
        "    self.embeddings = [tf.keras.layers.Dense(d_model) for _ in self.attr_sizes]\n",
        "    self.ffn = point_wise_feed_forward_network(d_model, dff)\n",
        "\n",
        "    self.enc_layers = [EncoderLayer(d_model, num_heads, dff)\n",
        "                       for _ in range(num_layers)]\n",
        "\n",
        "    self.pool = AttentionPool(d_model, dff)\n",
        "    self.output_layer = point_wise_feed_forward_network(output_dim, dff)\n",
        "\n",
        "  def call(self, x):\n",
        "    n = self.n_tau_attr\n",
        "\n",
        "    x = tf.split(x, self.attr_sizes, axis=1)\n",
        "    x = [tf.expand_dims(lay(inp), axis=1) for (lay, inp) in zip(self.embeddings, x)]\n",
        "    x, t = x[:-n], x[-n:]\n",
        "    x, t = tf.concat(x, axis=1), tf.concat(t, axis=1)\n",
        "    x = tf.concat([t, x], axis=1)\n",
        "\n",
        "    x = self.ffn(x)\n",
        "\n",
        "    for lay in self.enc_layers:\n",
        "      x, _ = lay(x)\n",
        "\n",
        "    x = self.pool(x[:, :n], x[:, :n])\n",
        "    x = self.output_layer(x)\n",
        "    return x\n",
        "\n",
        "\n",
        "from leap_net.LtauNoAdd import LtauNoAdd\n",
        "\n",
        "\n",
        "class TransformerEncoder(tf.keras.layers.Layer):\n",
        "  def __init__(self, output_dim, x_attr_sizes, t_attr_sizes, y_attr_sizes,\n",
        "               num_layers, d_model, num_heads, dff):\n",
        "    super(TransformerEncoder, self).__init__()\n",
        "\n",
        "    self.attr_sizes = list(x_attr_sizes) + list(t_attr_sizes)\n",
        "\n",
        "    self.embeddings = [tf.keras.layers.Dense(d_model) for _ in self.attr_sizes]\n",
        "    self.ffn = point_wise_feed_forward_network(d_model, dff)\n",
        "\n",
        "    self.enc_layers = [EncoderLayer(d_model, num_heads, dff)\n",
        "                       for _ in range(num_layers)]\n",
        "    self.leap_layer = LtauNoAdd()\n",
        "\n",
        "    self.output_emb_layer = point_wise_feed_forward_network(d_model, dff)\n",
        "    self.output_layer = point_wise_feed_forward_network(output_dim, dff)\n",
        "\n",
        "  def call(self, x):\n",
        "    x = tf.split(x, self.attr_sizes, axis=1)\n",
        "    x = [tf.expand_dims(lay(inp), axis=1)\n",
        "         for (lay, inp) in zip(self.embeddings, x)]\n",
        "    x = tf.concat(x, axis=1)\n",
        "\n",
        "    x = self.ffn(x)\n",
        "\n",
        "    for lay in self.enc_layers:\n",
        "      x, _ = lay(x)\n",
        "\n",
        "    x = tf.reduce_max(x, axis=1)\n",
        "    x = self.output_emb_layer(x)\n",
        "    x = self.leap_layer([x, x])\n",
        "\n",
        "    x = self.output_layer(x)\n",
        "    return x\n",
        "\n",
        "\n",
        "class TransformerEncoderTrans(tf.keras.layers.Layer):\n",
        "  def __init__(self, output_dim, x_attr_sizes, t_attr_sizes, y_attr_sizes,\n",
        "               num_layers, d_model, num_heads, dff):\n",
        "    super(TransformerEncoderTrans, self).__init__()\n",
        "\n",
        "    self.attr_sizes = list(x_attr_sizes) + list(t_attr_sizes)\n",
        "\n",
        "    self.seq_len = len(y_attr_sizes)\n",
        "    print('attr_sizes', x_attr_sizes, t_attr_sizes, y_attr_sizes)\n",
        "    self.latent_emb = tf.keras.layers.Embedding(len(y_attr_sizes), d_model)\n",
        "    self.cross = CrossAttention(d_model, dff)\n",
        "\n",
        "    self.embeddings = [tf.keras.layers.Dense(d_model, activation='elu')\n",
        "                       for _ in self.attr_sizes]\n",
        "\n",
        "    self.ffn = point_wise_feed_forward_network(d_model, dff)\n",
        "    self.d_model = d_model\n",
        "\n",
        "    self.enc_layers = [EncoderLayer(d_model, num_heads, dff)\n",
        "                       for _ in range(num_layers)]\n",
        "\n",
        "    self.dec_emb_layer = point_wise_feed_forward_network(output_dim, dff)\n",
        "    self.dec_layers = [point_wise_feed_forward_network(s, 2*s)\n",
        "                       for s in y_attr_sizes]\n",
        "\n",
        "  def call(self, inp):\n",
        "    split = tf.split(inp, self.attr_sizes, axis=1)\n",
        "    x = [tf.expand_dims(lay(inp), axis=1)\n",
        "         for (lay, inp) in zip(self.embeddings, split)]\n",
        "    x = tf.concat(x, axis=1)\n",
        "    x = self.ffn(x)\n",
        "    print(\"inp\", x.shape)\n",
        "\n",
        "    lat = self.latent_emb(tf.range(self.seq_len)[None])\n",
        "    x = self.cross(lat, x)\n",
        "\n",
        "    print('cross', x.shape)\n",
        "    for lay in self.enc_layers:\n",
        "      x, _ = lay(x)\n",
        "\n",
        "    x = self.dec_emb_layer(x)\n",
        "    split = tf.unstack(x, axis=1)\n",
        "    x = [lay(z) for (lay, z) in zip(self.dec_layers, split)]\n",
        "    x = tf.concat(x, axis=-1)\n",
        "    return x\n"
      ]
    },
    {
      "cell_type": "code",
      "execution_count": 5,
      "metadata": {
        "colab": {
          "base_uri": "https://localhost:8080/"
        },
        "id": "5dzhcKv2wpFm",
        "outputId": "d93f29de-a5ed-4140-b44f-e42b962b69ec"
      },
      "outputs": [
        {
          "output_type": "stream",
          "name": "stdout",
          "text": [
            "Writing /content/LIPS/lips/augmented_simulators/tensorflow_models/transformer.py\n"
          ]
        }
      ],
      "source": [
        "%%writefile /content/LIPS/lips/augmented_simulators/tensorflow_models/transformer.py\n",
        "\n",
        "# Copyright (c) 2021, IRT SystemX (https://www.irt-systemx.fr/en/)\n",
        "# See AUTHORS.txt\n",
        "# This Source Code Form is subject to the terms of the Mozilla Public License, version 2.0.\n",
        "# If a copy of the Mozilla Public License, version 2.0 was not distributed with this file,\n",
        "# you can obtain one at http://mozilla.org/MPL/2.0/.\n",
        "# SPDX-License-Identifier: MPL-2.0\n",
        "# This file is part of LIPS, LIPS is a python platform for power networks benchmarking\n",
        "\n",
        "import os\n",
        "import pathlib\n",
        "from typing import Union\n",
        "import json\n",
        "import warnings\n",
        "\n",
        "import numpy as np\n",
        "# from leap_net import ResNetLayer\n",
        "\n",
        "with warnings.catch_warnings():\n",
        "    warnings.filterwarnings(\"ignore\", category=FutureWarning)\n",
        "    from tensorflow import keras\n",
        "\n",
        "from ..tensorflow_simulator import TensorflowSimulator\n",
        "from ...logger import CustomLogger\n",
        "from ...config import ConfigManager\n",
        "from ...dataset import DataSet\n",
        "from ...dataset.scaler import Scaler\n",
        "from ...utils import NpEncoder\n",
        "\n",
        "from .transformer_utils import TransformerEncoder, TransformerEncoderTrans\n",
        "\n",
        "\n",
        "class SimpNet(TensorflowSimulator):\n",
        "    \"\"\"Fully Connected architecture\n",
        "    Parameters\n",
        "    ----------\n",
        "    sim_config_path : ``str``\n",
        "        The path to the configuration file for simulator.\n",
        "        It should contain all the required hyperparameters for this model.\n",
        "    sim_config_name : Union[str, None], optional\n",
        "        _description_, by default None\n",
        "    name : Union[str, None], optional\n",
        "        _description_, by default None\n",
        "    scaler : Union[Scaler, None], optional\n",
        "        _description_, by default None\n",
        "    bench_config_path : Union[str, pathlib.Path, None], optional\n",
        "        _description_, by default None\n",
        "    bench_config_name : Union[str, None], optional\n",
        "        _description_, by default None\n",
        "    log_path : Union[None, str], optional\n",
        "        _description_, by default None\n",
        "    Raises\n",
        "    ------\n",
        "    RuntimeError\n",
        "        _description_\n",
        "    \"\"\"\n",
        "    def __init__(self,\n",
        "                 sim_config_path: str,\n",
        "                 bench_config_path: Union[str, pathlib.Path],\n",
        "                 bench_config_name: Union[str, None]=None,\n",
        "                 bench_kwargs: dict={},\n",
        "                 sim_config_name: Union[str, None]=None,\n",
        "                 name: Union[str, None]=None,\n",
        "                 scaler: Union[Scaler, None]=None,\n",
        "                 log_path: Union[None, str]=None,\n",
        "                 **kwargs):\n",
        "        super().__init__(name=name, log_path=log_path, **kwargs)\n",
        "        if not os.path.exists(sim_config_path):\n",
        "            raise RuntimeError(\"Configuration path for the simulator not found!\")\n",
        "        if not str(sim_config_path).endswith(\".ini\"):\n",
        "            raise RuntimeError(\"The configuration file should have `.ini` extension!\")\n",
        "        sim_config_name = sim_config_name if sim_config_name is not None else \"DEFAULT\"\n",
        "        self.sim_config = ConfigManager(section_name=sim_config_name, path=sim_config_path)\n",
        "        self.bench_config = ConfigManager(section_name=bench_config_name, path=bench_config_path)\n",
        "        self.bench_config.set_options_from_dict(**bench_kwargs)\n",
        "        self.name = name if name is not None else self.sim_config.get_option(\"name\")\n",
        "        self.name = self.name + '_' + sim_config_name\n",
        "        # scaler\n",
        "        self.scaler = scaler() if scaler else None\n",
        "        # Logger\n",
        "        self.log_path = log_path\n",
        "        self.logger = CustomLogger(__class__.__name__, log_path).logger\n",
        "        # model parameters\n",
        "        self.params = self.sim_config.get_options_dict()\n",
        "        self.params.update(kwargs)\n",
        "        # Define layer to be used for the model\n",
        "        self.layers = {\"linear\": keras.layers.Dense}\n",
        "        self.layer = self.layers.get(self.params[\"layer\"], None)\n",
        "        if self.layer is None:\n",
        "            self.layer = keras.layers.Dense\n",
        "\n",
        "        # optimizer\n",
        "        if \"lr\" in kwargs:\n",
        "            if not isinstance(kwargs[\"lr\"], float):\n",
        "                raise RuntimeError(\"Learning rate (lr) is provided, it should be a float\")\n",
        "            lr = kwargs['lr']\n",
        "        else:\n",
        "            lr = self.params[\"optimizer\"][\"params\"][\"lr\"]\n",
        "        print('lr', lr)\n",
        "        self._optimizer = keras.optimizers.Adam(learning_rate=lr)\n",
        "\n",
        "        self._model: Union[keras.Model, None] = None\n",
        "\n",
        "        self.input_size = None if kwargs.get(\"input_size\") is None else kwargs[\"input_size\"]\n",
        "        self.output_size = None if kwargs.get(\"output_size\") is None else kwargs[\"output_size\"]\n",
        "\n",
        "        self.x_attr_sizes, self.t_attr_sizes, self.y_attr_sizes = None, None, None\n",
        "\n",
        "    def build_model(self):\n",
        "        \"\"\"Build the model\n",
        "        Returns\n",
        "        -------\n",
        "        Model\n",
        "            _description_\n",
        "        \"\"\"\n",
        "        super().build_model()\n",
        "        transformer = TransformerEncoder(\n",
        "            self.output_size, self.x_attr_sizes, self.t_attr_sizes, self.y_attr_sizes,\n",
        "            num_layers=5, d_model=512, num_heads=8, dff=512)\n",
        "        input_ = keras.layers.Input(shape=(self.input_size,), name=\"input\")\n",
        "        output_ = transformer(input_)\n",
        "        self._model = keras.Model(inputs=input_,\n",
        "                                  outputs=output_,\n",
        "                                  name=f\"{self.name}_model\")\n",
        "        return self._model\n",
        "\n",
        "    def process_dataset(self, dataset: DataSet, training: bool=False) -> tuple:\n",
        "        \"\"\"process the datasets for training and evaluation\n",
        "        This function transforms all the dataset into something that can be used by the neural network (for example)\n",
        "        Warning\n",
        "        -------\n",
        "        It works with StandardScaler only for the moment.\n",
        "        Parameters\n",
        "        ----------\n",
        "        dataset : DataSet\n",
        "            _description_\n",
        "        Scaler : bool, optional\n",
        "            _description_, by default True\n",
        "        training : bool, optional\n",
        "            _description_, by default False\n",
        "        Returns\n",
        "        -------\n",
        "        tuple\n",
        "            the normalized dataset with features and labels\n",
        "        \"\"\"\n",
        "        if training:\n",
        "            self._infer_size(dataset)\n",
        "            inputs, outputs = dataset.extract_data(concat=False)\n",
        "\n",
        "            inputs, outputs = dataset.extract_data(concat=True)\n",
        "            if self.scaler is not None:\n",
        "                inputs, outputs = self.scaler.fit_transform(inputs, outputs)\n",
        "        else:\n",
        "            inputs, outputs = dataset.extract_data(concat=True)\n",
        "            if self.scaler is not None:\n",
        "                inputs, outputs = self.scaler.transform(inputs, outputs)\n",
        "\n",
        "        self.x_attr_sizes, self.t_attr_sizes, self.y_attr_sizes = dataset._sizes_x, dataset._sizes_tau, dataset._sizes_y\n",
        "        return inputs, outputs\n",
        "\n",
        "    def _infer_size(self, dataset: DataSet):\n",
        "        \"\"\"Infer the size of the model\n",
        "        Parameters\n",
        "        ----------\n",
        "        dataset : DataSet\n",
        "            _description_\n",
        "        Returns\n",
        "        -------\n",
        "        None\n",
        "            _description_\n",
        "        \"\"\"\n",
        "        *dim_inputs, self.output_size = dataset.get_sizes()\n",
        "        self.input_size = np.sum(dim_inputs)\n",
        "\n",
        "    def _post_process(self, dataset, predictions):\n",
        "        if self.scaler is not None:\n",
        "            predictions = self.scaler.inverse_transform(predictions)\n",
        "        predictions = super()._post_process(dataset, predictions)\n",
        "        return predictions\n",
        "\n",
        "    def _save_metadata(self, path: str):\n",
        "        super()._save_metadata(path)\n",
        "        if self.scaler is not None:\n",
        "            self.scaler.save(path)\n",
        "        res_json = {}\n",
        "        res_json[\"input_size\"] = self.input_size\n",
        "        res_json[\"output_size\"] = self.output_size\n",
        "        with open((path / \"metadata.json\"), \"w\", encoding=\"utf-8\") as f:\n",
        "            json.dump(obj=res_json, fp=f, indent=4, sort_keys=True, cls=NpEncoder)\n",
        "\n",
        "    def _load_metadata(self, path: str):\n",
        "        if not isinstance(path, pathlib.Path):\n",
        "            path = pathlib.Path(path)\n",
        "        super()._load_metadata(path)\n",
        "        if self.scaler is not None:\n",
        "            self.scaler.load(path)\n",
        "        with open((path / \"metadata.json\"), \"r\", encoding=\"utf-8\") as f:\n",
        "            res_json = json.load(fp=f)\n",
        "        self.input_size = res_json[\"input_size\"]\n",
        "        self.output_size = res_json[\"output_size\"]\n"
      ]
    },
    {
      "cell_type": "code",
      "execution_count": 6,
      "metadata": {
        "colab": {
          "base_uri": "https://localhost:8080/"
        },
        "id": "gAdaQmrg0HpS",
        "outputId": "8527ae02-f95f-446b-83c2-f04c2e1c1979"
      },
      "outputs": [
        {
          "output_type": "stream",
          "name": "stdout",
          "text": [
            "Writing /content/LIPS/lips/augmented_simulators/tensorflow_models/simpnet.py\n"
          ]
        }
      ],
      "source": [
        "%%writefile /content/LIPS/lips/augmented_simulators/tensorflow_models/simpnet.py\n",
        "\n",
        "# Copyright (c) 2021, IRT SystemX (https://www.irt-systemx.fr/en/)\n",
        "# See AUTHORS.txt\n",
        "# This Source Code Form is subject to the terms of the Mozilla Public License, version 2.0.\n",
        "# If a copy of the Mozilla Public License, version 2.0 was not distributed with this file,\n",
        "# you can obtain one at http://mozilla.org/MPL/2.0/.\n",
        "# SPDX-License-Identifier: MPL-2.0\n",
        "# This file is part of LIPS, LIPS is a python platform for power networks benchmarking\n",
        "\n",
        "import os\n",
        "import pathlib\n",
        "from typing import Union\n",
        "import json\n",
        "import warnings\n",
        "\n",
        "import numpy as np\n",
        "# from leap_net import ResNetLayer\n",
        "\n",
        "with warnings.catch_warnings():\n",
        "    warnings.filterwarnings(\"ignore\", category=FutureWarning)\n",
        "    from tensorflow import keras\n",
        "\n",
        "from ..tensorflow_simulator import TensorflowSimulator\n",
        "from ...logger import CustomLogger\n",
        "from ...config import ConfigManager\n",
        "from ...dataset import DataSet\n",
        "from ...dataset.scaler import Scaler\n",
        "from ...utils import NpEncoder\n",
        "\n",
        "\n",
        "class SimpNet(TensorflowSimulator):\n",
        "    \"\"\"Fully Connected architecture\n",
        "    Parameters\n",
        "    ----------\n",
        "    sim_config_path : ``str``\n",
        "        The path to the configuration file for simulator.\n",
        "        It should contain all the required hyperparameters for this model.\n",
        "    sim_config_name : Union[str, None], optional\n",
        "        _description_, by default None\n",
        "    name : Union[str, None], optional\n",
        "        _description_, by default None\n",
        "    scaler : Union[Scaler, None], optional\n",
        "        _description_, by default None\n",
        "    bench_config_path : Union[str, pathlib.Path, None], optional\n",
        "        _description_, by default None\n",
        "    bench_config_name : Union[str, None], optional\n",
        "        _description_, by default None\n",
        "    log_path : Union[None, str], optional\n",
        "        _description_, by default None\n",
        "    Raises\n",
        "    ------\n",
        "    RuntimeError\n",
        "        _description_\n",
        "    \"\"\"\n",
        "    def __init__(self,\n",
        "                 sim_config_path: str,\n",
        "                 bench_config_path: Union[str, pathlib.Path],\n",
        "                 bench_config_name: Union[str, None]=None,\n",
        "                 bench_kwargs: dict={},\n",
        "                 sim_config_name: Union[str, None]=None,\n",
        "                 name: Union[str, None]=None,\n",
        "                 scaler: Union[Scaler, None]=None,\n",
        "                 log_path: Union[None, str]=None,\n",
        "                 **kwargs):\n",
        "        super().__init__(name=name, log_path=log_path, **kwargs)\n",
        "        if not os.path.exists(sim_config_path):\n",
        "            raise RuntimeError(\"Configuration path for the simulator not found!\")\n",
        "        if not str(sim_config_path).endswith(\".ini\"):\n",
        "            raise RuntimeError(\"The configuration file should have `.ini` extension!\")\n",
        "        sim_config_name = sim_config_name if sim_config_name is not None else \"DEFAULT\"\n",
        "        self.sim_config = ConfigManager(section_name=sim_config_name, path=sim_config_path)\n",
        "        self.bench_config = ConfigManager(section_name=bench_config_name, path=bench_config_path)\n",
        "        self.bench_config.set_options_from_dict(**bench_kwargs)\n",
        "        self.name = name if name is not None else self.sim_config.get_option(\"name\")\n",
        "        self.name = self.name + '_' + sim_config_name\n",
        "        # scaler\n",
        "        self.scaler = scaler() if scaler else None\n",
        "        # Logger\n",
        "        self.log_path = log_path\n",
        "        self.logger = CustomLogger(__class__.__name__, log_path).logger\n",
        "        # model parameters\n",
        "        self.params = self.sim_config.get_options_dict()\n",
        "        self.params.update(kwargs)\n",
        "        # Define layer to be used for the model\n",
        "        self.layers = {\"linear\": keras.layers.Dense}\n",
        "        self.layer = self.layers.get(self.params[\"layer\"], None)\n",
        "        if self.layer is None:\n",
        "            self.layer = keras.layers.Dense\n",
        "\n",
        "        # optimizer\n",
        "        if \"lr\" in kwargs:\n",
        "            if not isinstance(kwargs[\"lr\"], float):\n",
        "                raise RuntimeError(\"Learning rate (lr) is provided, it should be a float\")\n",
        "            lr = kwargs['lr']\n",
        "        else:\n",
        "            lr = self.params[\"optimizer\"][\"params\"][\"lr\"]\n",
        "        print('lr', lr)\n",
        "        self._optimizer = keras.optimizers.Adam(learning_rate=lr)\n",
        "\n",
        "        self._model: Union[keras.Model, None] = None\n",
        "\n",
        "        self.input_size = None if kwargs.get(\"input_size\") is None else kwargs[\"input_size\"]\n",
        "        self.output_size = None if kwargs.get(\"output_size\") is None else kwargs[\"output_size\"]\n",
        "\n",
        "    def build_model(self):\n",
        "        \"\"\"Build the model\n",
        "        Returns\n",
        "        -------\n",
        "        Model\n",
        "            _description_\n",
        "        \"\"\"\n",
        "        super().build_model()\n",
        "        input_ = keras.layers.Input(shape=(self.input_size,), name=\"input\")\n",
        "        x = input_\n",
        "        # x = keras.layers.Dropout(rate=self.params[\"input_dropout\"], name=\"input_dropout\")(x)\n",
        "        for layer_id, layer_size in enumerate(self.params[\"layers\"]):\n",
        "            x = self.layer(layer_size, name=f\"layer_{layer_id}\")(x)\n",
        "            x = keras.layers.LayerNormalization(name=f\"norm_{layer_id}\")(x)\n",
        "            x = keras.layers.Activation(self.params[\"activation\"], name=f\"activation_{layer_id}\")(x)\n",
        "            # x = keras.layers.Activation(self.params[\"activation\"], name=f\"activation_{layer_id}\")(x)\n",
        "            # x = keras.layers.Dropout(rate=self.params[\"dropout\"], name=f\"dropout_{layer_id}\")(x)\n",
        "\n",
        "        output_ = keras.layers.Dense(self.output_size)(x)\n",
        "        self._model = keras.Model(inputs=input_,\n",
        "                                  outputs=output_,\n",
        "                                  name=f\"{self.name}_model\")\n",
        "        return self._model\n",
        "\n",
        "    def process_dataset(self, dataset: DataSet, training: bool=False) -> tuple:\n",
        "        \"\"\"process the datasets for training and evaluation\n",
        "        This function transforms all the dataset into something that can be used by the neural network (for example)\n",
        "        Warning\n",
        "        -------\n",
        "        It works with StandardScaler only for the moment.\n",
        "        Parameters\n",
        "        ----------\n",
        "        dataset : DataSet\n",
        "            _description_\n",
        "        Scaler : bool, optional\n",
        "            _description_, by default True\n",
        "        training : bool, optional\n",
        "            _description_, by default False\n",
        "        Returns\n",
        "        -------\n",
        "        tuple\n",
        "            the normalized dataset with features and labels\n",
        "        \"\"\"\n",
        "        if training:\n",
        "            self._infer_size(dataset)\n",
        "            inputs, outputs = dataset.extract_data(concat=False)\n",
        "\n",
        "            inputs, outputs = dataset.extract_data(concat=True)\n",
        "            if self.scaler is not None:\n",
        "                inputs, outputs = self.scaler.fit_transform(inputs, outputs)\n",
        "        else:\n",
        "            inputs, outputs = dataset.extract_data(concat=True)\n",
        "            if self.scaler is not None:\n",
        "                inputs, outputs = self.scaler.transform(inputs, outputs)\n",
        "\n",
        "        return inputs, outputs\n",
        "\n",
        "    def _infer_size(self, dataset: DataSet):\n",
        "        \"\"\"Infer the size of the model\n",
        "        Parameters\n",
        "        ----------\n",
        "        dataset : DataSet\n",
        "            _description_\n",
        "        Returns\n",
        "        -------\n",
        "        None\n",
        "            _description_\n",
        "        \"\"\"\n",
        "        *dim_inputs, self.output_size = dataset.get_sizes()\n",
        "        self.input_size = np.sum(dim_inputs)\n",
        "\n",
        "    def _post_process(self, dataset, predictions):\n",
        "        if self.scaler is not None:\n",
        "            predictions = self.scaler.inverse_transform(predictions)\n",
        "        predictions = super()._post_process(dataset, predictions)\n",
        "        return predictions\n",
        "\n",
        "    def _save_metadata(self, path: str):\n",
        "        super()._save_metadata(path)\n",
        "        if self.scaler is not None:\n",
        "            self.scaler.save(path)\n",
        "        res_json = {}\n",
        "        res_json[\"input_size\"] = self.input_size\n",
        "        res_json[\"output_size\"] = self.output_size\n",
        "        with open((path / \"metadata.json\"), \"w\", encoding=\"utf-8\") as f:\n",
        "            json.dump(obj=res_json, fp=f, indent=4, sort_keys=True, cls=NpEncoder)\n",
        "\n",
        "    def _load_metadata(self, path: str):\n",
        "        if not isinstance(path, pathlib.Path):\n",
        "            path = pathlib.Path(path)\n",
        "        super()._load_metadata(path)\n",
        "        if self.scaler is not None:\n",
        "            self.scaler.load(path)\n",
        "        with open((path / \"metadata.json\"), \"r\", encoding=\"utf-8\") as f:\n",
        "            res_json = json.load(fp=f)\n",
        "        self.input_size = res_json[\"input_size\"]\n",
        "        self.output_size = res_json[\"output_size\"]\n"
      ]
    },
    {
      "cell_type": "code",
      "execution_count": 7,
      "metadata": {
        "colab": {
          "base_uri": "https://localhost:8080/"
        },
        "id": "j-IH8YpEMkTg",
        "outputId": "cc7b13ba-bebc-4744-a450-302b7f4b5d0f"
      },
      "outputs": [
        {
          "output_type": "stream",
          "name": "stdout",
          "text": [
            "Overwriting /content/LIPS/lips/augmented_simulators/tensorflow_simulator.py\n"
          ]
        }
      ],
      "source": [
        "%%writefile /content/LIPS/lips/augmented_simulators/tensorflow_simulator.py\n",
        "# Copyright (c) 2021, IRT SystemX (https://www.irt-systemx.fr/en/)\n",
        "# See AUTHORS.txt\n",
        "# This Source Code Form is subject to the terms of the Mozilla Public License, version 2.0.\n",
        "# If a copy of the Mozilla Public License, version 2.0 was not distributed with this file,\n",
        "# you can obtain one at http://mozilla.org/MPL/2.0/.\n",
        "# SPDX-License-Identifier: MPL-2.0\n",
        "# This file is part of LIPS, LIPS is a python platform for power networks benchmarking\n",
        "\n",
        "import os\n",
        "import pathlib\n",
        "from typing import Union\n",
        "import shutil\n",
        "import json\n",
        "import tempfile\n",
        "import importlib\n",
        "\n",
        "from matplotlib import pyplot as plt\n",
        "import numpy as np\n",
        "import tensorflow as tf\n",
        "\n",
        "from . import AugmentedSimulator\n",
        "from ..utils import NpEncoder\n",
        "from ..dataset import DataSet\n",
        "from ..logger import CustomLogger\n",
        "\n",
        "\n",
        "class TensorflowSimulator(AugmentedSimulator):\n",
        "    \"\"\"_summary_\n",
        "\n",
        "        Parameters\n",
        "        ----------\n",
        "        name : str, optional\n",
        "            _description_, by default None\n",
        "        config : ConfigManager\n",
        "            _description_\n",
        "        \"\"\"\n",
        "    def __init__(self,\n",
        "                 name: Union[str, None]=None,\n",
        "                 log_path: Union[str, None] = None,\n",
        "                 **kwargs):\n",
        "        super().__init__(name=name, log_path=log_path, **kwargs)\n",
        "        # logger\n",
        "        self.logger = CustomLogger(__class__.__name__, self.log_path).logger\n",
        "        self._optimizer = None\n",
        "\n",
        "        self.input_size = None\n",
        "        self.output_size = None\n",
        "\n",
        "        # setting seeds\n",
        "        np.random.seed(1)\n",
        "        # tf.random.set_seed(2)\n",
        "\n",
        "\n",
        "    def build_model(self):\n",
        "        \"\"\"build tensorflow model\n",
        "\n",
        "        Parameters\n",
        "        ----------\n",
        "        **kwargs : dict\n",
        "            if parameters indicated, it will replace config parameters\n",
        "\n",
        "        Returns\n",
        "        -------\n",
        "        keras.Model\n",
        "            _description_\n",
        "        \"\"\"\n",
        "        if self.input_size is None or self.output_size is None:\n",
        "            raise RuntimeError(\"input_size is not set\")\n",
        "\n",
        "\n",
        "    def train(self,\n",
        "              train_dataset: DataSet,\n",
        "              val_dataset: Union[None, DataSet] = None,\n",
        "              save_path: Union[None, str] = None,\n",
        "              **kwargs):\n",
        "        \"\"\"Function used to train a neural network\n",
        "\n",
        "        Parameters\n",
        "        ----------\n",
        "        train_dataset : DataSet\n",
        "            training dataset\n",
        "        val_dataset : Union[None, DataSet], optional\n",
        "            validation dataset, by default None\n",
        "        save_path : Union[None, str], optional\n",
        "            the path where the trained model should be saved, by default None\n",
        "            #TODO: a callback for tensorboard and another for saving the model\n",
        "        \"\"\"\n",
        "        super().train(train_dataset, val_dataset)\n",
        "        self.params.update(kwargs)\n",
        "        processed_x, processed_y = self.process_dataset(train_dataset, training=True)\n",
        "\n",
        "        if val_dataset is not None:\n",
        "            processed_x_val, processed_y_val = self.process_dataset(val_dataset, training=False)\n",
        "            validation_data = (processed_x_val, processed_y_val)\n",
        "        else:\n",
        "            validation_data = None\n",
        "\n",
        "        # init the model\n",
        "        self.build_model()\n",
        "\n",
        "        self._model.compile(optimizer=self._optimizer,\n",
        "                            loss=\"mae\", # self.params[\"loss\"][\"name\"],\n",
        "                            metrics=self.params[\"metrics\"])\n",
        "\n",
        "        cb = [\n",
        "            tf.keras.callbacks.ModelCheckpoint(\n",
        "                \"temp.keras\",\n",
        "                monitor=\"val_mae\",\n",
        "                verbose=1,\n",
        "                save_best_only=True,\n",
        "                save_weights_only=True)\n",
        "            ]\n",
        "\n",
        "        self.logger.info(\"Training of {%s} started\", self.name)\n",
        "        history_callback = self._model.fit(x=processed_x,\n",
        "                                           y=processed_y,\n",
        "                                           validation_data=validation_data,\n",
        "                                           epochs=self.params[\"epochs\"],\n",
        "                                           batch_size=self.params[\"train_batch_size\"],\n",
        "                                           shuffle=self.params[\"shuffle\"],\n",
        "                                           callbacks=cb,\n",
        "                                           verbose=2)\n",
        "        self.logger.info(\"Training of {%s} finished\", self.name)\n",
        "        self.write_history(history=history_callback, val_dataset=validation_data)\n",
        "        self.trained = True\n",
        "        self._model.load_weights(\"temp.keras\")\n",
        "        os.remove(\"temp.keras\")\n",
        "\n",
        "        if save_path is not None:\n",
        "            self.save(save_path)\n",
        "\n",
        "        return history_callback\n",
        "\n",
        "    def predict(self, dataset: DataSet, **kwargs) -> dict:\n",
        "        \"\"\"_summary_\n",
        "\n",
        "        Parameters\n",
        "        ----------\n",
        "        dataset : DataSet\n",
        "            test datasets to evaluate\n",
        "        \"\"\"\n",
        "        super().predict(dataset)\n",
        "\n",
        "        if \"eval_batch_size\" in kwargs:\n",
        "            self.params[\"eval_batch_size\"] = kwargs[\"eval_batch_size\"]\n",
        "        # self.params.update(kwargs)\n",
        "\n",
        "        #processed_x, processed_y = self._process_all_dataset(dataset, training=False)\n",
        "        processed_x, _ = self.process_dataset(dataset, training=False)\n",
        "\n",
        "        # make the predictions\n",
        "        predictions = self._model.predict(processed_x, batch_size=self.params[\"eval_batch_size\"])\n",
        "\n",
        "        predictions = self._post_process(dataset, predictions)\n",
        "\n",
        "        self._predictions[dataset.name] = predictions\n",
        "        self._observations[dataset.name] = dataset.data\n",
        "\n",
        "        return predictions\n",
        "\n",
        "    def process_dataset(self, dataset: DataSet, training: bool) -> tuple:\n",
        "        \"\"\"process the datasets for training and evaluation\n",
        "\n",
        "        each augmented simulator requires its owan data preparation\n",
        "\n",
        "        This function transforms all the dataset into something that can be used by the neural network (for example)\n",
        "\n",
        "        Parameters\n",
        "        ----------\n",
        "        dataset : DataSet\n",
        "            _description_\n",
        "        training : bool, optional\n",
        "            _description_, by default False\n",
        "\n",
        "        Returns\n",
        "        -------\n",
        "        tuple\n",
        "            the normalized dataset with features and labels\n",
        "        \"\"\"\n",
        "        super().process_dataset(dataset, training)\n",
        "        inputs, outputs = dataset.extract_data()\n",
        "\n",
        "        return inputs, outputs\n",
        "\n",
        "    def _post_process(self, dataset, predictions):\n",
        "        \"\"\"Do some post processing on the predictions\n",
        "\n",
        "        Parameters\n",
        "        ----------\n",
        "        predictions : _type_\n",
        "            _description_\n",
        "\n",
        "        Returns\n",
        "        -------\n",
        "        _type_\n",
        "            _description_\n",
        "        \"\"\"\n",
        "        return dataset.reconstruct_output(predictions)\n",
        "\n",
        "\n",
        "    ###############################################\n",
        "    # function used to save and restore the model #\n",
        "    ###############################################\n",
        "    def save(self, path: str, save_metadata: bool=True):\n",
        "        \"\"\"_summary_\n",
        "\n",
        "        Parameters\n",
        "        ----------\n",
        "        path : str\n",
        "            _description_\n",
        "        save_metadata : bool, optional\n",
        "            _description_, by default True\n",
        "        \"\"\"\n",
        "        save_path =  pathlib.Path(path) / self.name\n",
        "        super().save(save_path)\n",
        "\n",
        "        self._save_model(save_path)\n",
        "\n",
        "        if save_metadata:\n",
        "            self._save_metadata(save_path)\n",
        "\n",
        "        self.logger.info(\"Model {%s} is saved at {%s}\", self.name, save_path)\n",
        "\n",
        "    def _save_model(self, path: Union[str, pathlib.Path], ext: str=\".h5\"):\n",
        "        if not isinstance(path, pathlib.Path):\n",
        "            path = pathlib.Path(path)\n",
        "        file_name = path / (\"weights\" + ext)\n",
        "        self._model.save_weights(file_name)\n",
        "\n",
        "    def _save_metadata(self, path: Union[str, pathlib.Path]):\n",
        "        if not isinstance(path, pathlib.Path):\n",
        "            path = pathlib.Path(path)\n",
        "        # for json serialization of paths\n",
        "        #pydantic.json.ENCODERS_BY_TYPE[pathlib.PosixPath] = str\n",
        "        #pydantic.json.ENCODERS_BY_TYPE[pathlib.WindowsPath] = str\n",
        "        self._save_losses(path)\n",
        "        with open((path / \"config.json\"), \"w\", encoding=\"utf-8\") as f:\n",
        "            json.dump(obj=self.params, fp=f, indent=4, sort_keys=True, cls=NpEncoder)\n",
        "\n",
        "    def restore(self, path: str):\n",
        "        if not isinstance(path, pathlib.Path):\n",
        "            path = pathlib.Path(path)\n",
        "        full_path = path / self.name\n",
        "        if not full_path.exists():\n",
        "            raise FileNotFoundError(f\"path {full_path} not found\")\n",
        "        # load the metadata\n",
        "        self._load_metadata(full_path)\n",
        "        self._load_model(full_path)\n",
        "\n",
        "        self.logger.info(\"Model {%s} is loaded from {%s}\", self.name, full_path)\n",
        "\n",
        "    def _load_model(self, path: str):\n",
        "        nm_file = \"weights.h5\"\n",
        "        path_weights = path / nm_file\n",
        "        if not path_weights.exists():\n",
        "            raise FileNotFoundError(f\"Weights file {path_weights} not found\")\n",
        "        self.build_model()\n",
        "        # load the weights\n",
        "        with tempfile.TemporaryDirectory() as path_tmp:\n",
        "            nm_tmp = os.path.join(path_tmp, nm_file)\n",
        "            # copy the weights into this file\n",
        "            shutil.copy(path_weights, nm_tmp)\n",
        "            # load this copy (make sure the proper file is not corrupted even if the loading fails)\n",
        "            self._model.load_weights(nm_tmp)\n",
        "\n",
        "    def _load_metadata(self, path: str):\n",
        "        \"\"\"\n",
        "        load the model metadata\n",
        "        \"\"\"\n",
        "        # load scaler parameters\n",
        "        #self.scaler.load(full_path)\n",
        "        self._load_losses(path)\n",
        "        with open((path / \"config.json\"), \"r\", encoding=\"utf-8\") as f:\n",
        "            res_json = json.load(fp=f)\n",
        "        self.params.update(res_json)\n",
        "        return self.params\n",
        "\n",
        "    def _save_losses(self, path: Union[str, pathlib.Path]):\n",
        "        \"\"\"\n",
        "        save the losses\n",
        "        \"\"\"\n",
        "        if not isinstance(path, pathlib.Path):\n",
        "            path = pathlib.Path(path)\n",
        "        res_losses = {}\n",
        "        res_losses[\"train_losses\"] = self.train_losses\n",
        "        res_losses[\"train_metrics\"] = self.train_metrics\n",
        "        res_losses[\"val_losses\"] = self.val_losses\n",
        "        res_losses[\"val_metrics\"] = self.val_metrics\n",
        "        with open((path / \"losses.json\"), \"w\", encoding=\"utf-8\") as f:\n",
        "            json.dump(obj=res_losses, fp=f, indent=4, sort_keys=True, cls=NpEncoder)\n",
        "\n",
        "    def _load_losses(self, path: Union[str, pathlib.Path]):\n",
        "        \"\"\"\n",
        "        load the losses\n",
        "        \"\"\"\n",
        "        if not isinstance(path, pathlib.Path):\n",
        "            path = pathlib.Path(path)\n",
        "        with open((path / \"losses.json\"), \"r\", encoding=\"utf-8\") as f:\n",
        "            res_losses = json.load(fp=f)\n",
        "        self.train_losses = res_losses[\"train_losses\"]\n",
        "        self.train_metrics = res_losses[\"train_metrics\"]\n",
        "        self.val_losses = res_losses[\"val_losses\"]\n",
        "        self.val_metrics = res_losses[\"val_metrics\"]\n",
        "\n",
        "    #########################\n",
        "    # Some Helper functions #\n",
        "    #########################\n",
        "    def summary(self):\n",
        "        \"\"\"summary of the model\n",
        "        \"\"\"\n",
        "        print(self._model.summary())\n",
        "\n",
        "    def plot_model(self, path: Union[str, None]=None, file_name: str=\"model\"):\n",
        "        \"\"\"Plot the model architecture using GraphViz Library\n",
        "\n",
        "        \"\"\"\n",
        "        # verify if GraphViz and pydot are installed\n",
        "        pydot_found = importlib.util.find_spec(\"pydot\")\n",
        "        graphviz_found = importlib.util.find_spec(\"graphviz\")\n",
        "        if pydot_found is None or graphviz_found is None:\n",
        "            raise RuntimeError(\"pydot and graphviz are required to use this function\")\n",
        "\n",
        "        if not pathlib.Path(path).exists():\n",
        "            pathlib.Path(path).mkdir(parents=True, exist_ok=True)\n",
        "\n",
        "        tf.keras.utils.plot_model(\n",
        "            self._model,\n",
        "            to_file=file_name+\".png\",\n",
        "            show_shapes=True,\n",
        "            show_dtype=True,\n",
        "            show_layer_names=True,\n",
        "            rankdir=\"TB\",\n",
        "            expand_nested=False,\n",
        "            dpi=56,\n",
        "            layer_range=None,\n",
        "            show_layer_activations=False,\n",
        "        )\n",
        "\n",
        "    def write_history(self, history: dict, val_dataset=None):\n",
        "        \"\"\"write the history of the training\n",
        "\n",
        "        Parameters\n",
        "        ----------\n",
        "        history_callback : keras.callbacks.History\n",
        "            the history of the training\n",
        "        \"\"\"\n",
        "        self.train_losses = history.history[\"loss\"]\n",
        "        if val_dataset is not None:\n",
        "            self.val_losses = history.history[\"val_loss\"]\n",
        "\n",
        "        for metric in self.params[\"metrics\"]:\n",
        "            self.train_metrics[metric] = history.history[metric]\n",
        "            if val_dataset is not None:\n",
        "                self.val_metrics[metric] = history.history[\"val_\" + metric]\n",
        "\n",
        "    def count_parameters(self):\n",
        "        \"\"\"count the number of parameters of the model\n",
        "\n",
        "        Returns\n",
        "        -------\n",
        "        int\n",
        "            the number of parameters\n",
        "        \"\"\"\n",
        "        return self._model.count_params()\n",
        "\n",
        "    def visualize_convergence(self, figsize=(15,5), save_path: str=None):\n",
        "        \"\"\"Visualizing the convergence of the model\n",
        "        \"\"\"\n",
        "        # raise an error if the train_losses is empty\n",
        "        if len(self.train_losses) == 0:\n",
        "            raise RuntimeError(\"The model should be trained before visualizing the convergence\")\n",
        "        num_metrics = len(self.params[\"metrics\"])\n",
        "        if num_metrics == 0:\n",
        "            nb_subplots = 1\n",
        "        else:\n",
        "            nb_subplots = num_metrics + 1\n",
        "        fig, ax = plt.subplots(1,nb_subplots, figsize=figsize)\n",
        "        ax[0].set_title(\"MSE\")\n",
        "        ax[0].plot(self.train_losses, label='train_loss')\n",
        "        if len(self.val_losses) > 0:\n",
        "            ax[0].plot(self.val_losses, label='val_loss')\n",
        "        for idx_, metric_name in enumerate(self.params[\"metrics\"]):\n",
        "            ax[idx_+1].set_title(metric_name)\n",
        "            ax[idx_+1].plot(self.train_metrics[metric_name], label=f\"train_{metric_name}\")\n",
        "            if len(self.val_metrics[metric_name]) > 0:\n",
        "                ax[idx_+1].plot(self.val_metrics[metric_name], label=f\"val_{metric_name}\")\n",
        "        for i in range(nb_subplots):\n",
        "            ax[i].grid()\n",
        "            ax[i].legend()\n",
        "        # save the figure\n",
        "        if save_path is not None:\n",
        "            if not pathlib.Path(save_path).exists():\n",
        "                pathlib.Path(save_path).mkdir(parents=True, exist_ok=True)\n",
        "            fig.savefig(save_path)\n"
      ]
    },
    {
      "cell_type": "markdown",
      "metadata": {
        "id": "pd8QYkHPX33x"
      },
      "source": [
        "# run"
      ]
    },
    {
      "cell_type": "code",
      "execution_count": null,
      "metadata": {
        "id": "l1brAGKWytBs"
      },
      "outputs": [],
      "source": [
        "import os; os.chdir('/content/LIPS')\n",
        "import pathlib\n",
        "from lips import get_root_path\n",
        "from pprint import pprint\n",
        "from matplotlib import pyplot as plt\n",
        "from lips.benchmark.powergridBenchmark import PowerGridBenchmark\n",
        "from lips.utils import get_path\n",
        "\n",
        "from lips.augmented_simulators.tensorflow_models import TfFullyConnected\n",
        "#from lips.augmented_simulators.tensorflow_models.simpnet import SimpNet\n",
        "from lips.augmented_simulators.tensorflow_models.transformer import SimpNet\n",
        "from lips.dataset.scaler import StandardScaler\n",
        "\n",
        "from lips.benchmark.powergridBenchmark import PowerGridBenchmark\n",
        "\n",
        "LIPS_PATH = pathlib.Path('/content/LIPS')\n",
        "DATA_PATH = LIPS_PATH / \"reference_data\" / \"powergrid\" / \"l2rpn_case14_sandbox\"\n",
        "BENCH_CONFIG_PATH = LIPS_PATH / \"configurations\" / \"powergrid\" / \"benchmarks\" / \"l2rpn_case14_sandbox.ini\"\n",
        "SIM_CONFIG_PATH = LIPS_PATH / \"configurations\" / \"powergrid\" / \"simulators\"\n",
        "BASELINES_PATH = LIPS_PATH / \"trained_baselines\" / \"powergrid\"\n",
        "TRAINED_MODEL_PATH = LIPS_PATH / \"trained_models\" / \"powergrid\"\n",
        "EVALUATION_PATH = LIPS_PATH / \"evaluation_results\" / \"PowerGrid\"\n",
        "LOG_PATH = LIPS_PATH / \"lips_logs.log\"\n",
        "\n",
        "SAVE_PATH = \"/content/drive/MyDrive/Coda/POWERGRID/dataset/\""
      ]
    },
    {
      "cell_type": "code",
      "execution_count": null,
      "metadata": {
        "id": "3WhtU_W7zUvO"
      },
      "outputs": [],
      "source": [
        "# config\n",
        "benchmark_name = \"Benchmark2\" # @param [\"Benchmark1\", \"Benchmark2\", \"Benchmark3\"]\n",
        "debug = False"
      ]
    },
    {
      "cell_type": "markdown",
      "metadata": {
        "id": "8I36D4HcYMVX"
      },
      "source": [
        "## generate dataset"
      ]
    },
    {
      "cell_type": "code",
      "execution_count": null,
      "metadata": {
        "id": "wGeK2cMt3v3H"
      },
      "outputs": [],
      "source": [
        "benchmark = PowerGridBenchmark(benchmark_path=DATA_PATH,\n",
        "                                benchmark_name=benchmark_name,\n",
        "                                load_data_set=False,\n",
        "                                config_path=BENCH_CONFIG_PATH,\n",
        "                                log_path=LOG_PATH)"
      ]
    },
    {
      "cell_type": "code",
      "execution_count": null,
      "metadata": {
        "id": "v2ZJXkil383s"
      },
      "outputs": [],
      "source": [
        "if debug:\n",
        "  benchmark.generate(nb_sample_train=100,\n",
        "                      nb_sample_val=10,\n",
        "                      nb_sample_test=10,\n",
        "                      nb_sample_test_ood_topo=10,\n",
        "                    )\n",
        "else:\n",
        "  benchmark.generate(nb_sample_train=int(1e5),\n",
        "                      nb_sample_val=int(1e4),\n",
        "                      nb_sample_test=int(1e4),\n",
        "                      nb_sample_test_ood_topo=int(1e4),\n",
        "                    )"
      ]
    },
    {
      "cell_type": "markdown",
      "metadata": {
        "id": "kzhtEWfuzkbU"
      },
      "source": [
        "# save"
      ]
    },
    {
      "cell_type": "code",
      "execution_count": null,
      "metadata": {
        "colab": {
          "base_uri": "https://localhost:8080/",
          "height": 176
        },
        "id": "DVwROh6vzlsQ",
        "outputId": "404fcb43-3645-48fa-cba3-30cbea59e88f"
      },
      "outputs": [
        {
          "ename": "AttributeError",
          "evalue": "Can't pickle local object 'Grid2opSimulator.__init__.<locals>.<lambda>'",
          "output_type": "error",
          "traceback": [
            "\u001b[0;31m---------------------------------------------------------------------------\u001b[0m",
            "\u001b[0;31mAttributeError\u001b[0m                            Traceback (most recent call last)",
            "\u001b[0;32m<ipython-input-5-6af3797bdefd>\u001b[0m in \u001b[0;36m<cell line: 3>\u001b[0;34m()\u001b[0m\n\u001b[1;32m      2\u001b[0m \u001b[0;34m\u001b[0m\u001b[0m\n\u001b[1;32m      3\u001b[0m \u001b[0;32mwith\u001b[0m \u001b[0mopen\u001b[0m\u001b[0;34m(\u001b[0m\u001b[0mSAVE_PATH\u001b[0m \u001b[0;34m+\u001b[0m \u001b[0;34mf'{benchmark_name}.pkl'\u001b[0m\u001b[0;34m,\u001b[0m \u001b[0;34m'wb'\u001b[0m\u001b[0;34m)\u001b[0m \u001b[0;32mas\u001b[0m \u001b[0mf\u001b[0m\u001b[0;34m:\u001b[0m\u001b[0;34m\u001b[0m\u001b[0;34m\u001b[0m\u001b[0m\n\u001b[0;32m----> 4\u001b[0;31m   \u001b[0mpickle\u001b[0m\u001b[0;34m.\u001b[0m\u001b[0mdump\u001b[0m\u001b[0;34m(\u001b[0m\u001b[0mbenchmark\u001b[0m\u001b[0;34m,\u001b[0m \u001b[0mf\u001b[0m\u001b[0;34m)\u001b[0m\u001b[0;34m\u001b[0m\u001b[0;34m\u001b[0m\u001b[0m\n\u001b[0m",
            "\u001b[0;31mAttributeError\u001b[0m: Can't pickle local object 'Grid2opSimulator.__init__.<locals>.<lambda>'"
          ]
        }
      ],
      "source": [
        "import pickle\n",
        "\n",
        "with open(SAVE_PATH + f'{benchmark_name}.pkl', 'wb') as f:\n",
        "  pickle.dump(benchmark, f)"
      ]
    },
    {
      "cell_type": "markdown",
      "metadata": {
        "id": "U8Qri0H0zsWv"
      },
      "source": [
        "# load"
      ]
    },
    {
      "cell_type": "code",
      "execution_count": null,
      "metadata": {
        "id": "wySMHqraztck"
      },
      "outputs": [],
      "source": [
        "import pickle\n",
        "\n",
        "with open(SAVE_PATH + f'{benchmark_name}.pkl', 'rb') as f:\n",
        "  benchmark = pickle.load(f)"
      ]
    },
    {
      "cell_type": "markdown",
      "metadata": {
        "id": "C9O8lKw8YOeZ"
      },
      "source": [
        "# train"
      ]
    },
    {
      "cell_type": "code",
      "execution_count": null,
      "metadata": {
        "id": "PIYkxL8my-rD"
      },
      "outputs": [],
      "source": [
        "benchmark = PowerGridBenchmark(benchmark_name=benchmark_name,\n",
        "                                benchmark_path=DATA_PATH,\n",
        "                                load_data_set=True,\n",
        "                                log_path=LOG_PATH,\n",
        "                                config_path=BENCH_CONFIG_PATH\n",
        "                               )"
      ]
    },
    {
      "cell_type": "code",
      "execution_count": null,
      "metadata": {
        "colab": {
          "base_uri": "https://localhost:8080/"
        },
        "id": "tdUnkvn2zl0i",
        "outputId": "f86b4218-5817-4c65-8ba9-5dc68ef0b2cf"
      },
      "outputs": [
        {
          "name": "stdout",
          "output_type": "stream",
          "text": [
            "lr 0.0001\n"
          ]
        }
      ],
      "source": [
        "from lips.augmented_simulators.tensorflow_models import TfFullyConnected\n",
        "\n",
        "\n",
        "tf_fc = SimpNet(name=\"tf_fc\",\n",
        "                         bench_config_path=BENCH_CONFIG_PATH,\n",
        "                         bench_config_name=benchmark_name,\n",
        "                         sim_config_path=SIM_CONFIG_PATH / \"tf_fc.ini\",\n",
        "                         sim_config_name=\"DEFAULT\",\n",
        "                         scaler=StandardScaler,\n",
        "                         log_path=LOG_PATH,\n",
        "                lr= 1e-4,\n",
        "                )"
      ]
    },
    {
      "cell_type": "code",
      "execution_count": null,
      "metadata": {
        "colab": {
          "base_uri": "https://localhost:8080/"
        },
        "id": "zyyOWqx27U6e",
        "outputId": "3b0f4e9e-4b25-4cac-f5b6-96c48a452838"
      },
      "outputs": [
        {
          "name": "stdout",
          "output_type": "stream",
          "text": [
            "Epoch 1/100\n",
            "\n",
            "Epoch 1: val_mae improved from inf to 0.09377, saving model to temp.keras\n",
            "782/782 - 46s - loss: 0.1793 - mae: 0.1793 - val_loss: 0.0938 - val_mae: 0.0938 - 46s/epoch - 59ms/step\n",
            "Epoch 2/100\n",
            "\n",
            "Epoch 2: val_mae improved from 0.09377 to 0.05271, saving model to temp.keras\n",
            "782/782 - 27s - loss: 0.0593 - mae: 0.0593 - val_loss: 0.0527 - val_mae: 0.0527 - 27s/epoch - 35ms/step\n",
            "Epoch 3/100\n",
            "\n",
            "Epoch 3: val_mae improved from 0.05271 to 0.03815, saving model to temp.keras\n",
            "782/782 - 27s - loss: 0.0392 - mae: 0.0392 - val_loss: 0.0382 - val_mae: 0.0382 - 27s/epoch - 35ms/step\n",
            "Epoch 4/100\n",
            "\n",
            "Epoch 4: val_mae improved from 0.03815 to 0.03150, saving model to temp.keras\n",
            "782/782 - 27s - loss: 0.0307 - mae: 0.0307 - val_loss: 0.0315 - val_mae: 0.0315 - 27s/epoch - 34ms/step\n",
            "Epoch 5/100\n",
            "\n",
            "Epoch 5: val_mae improved from 0.03150 to 0.02742, saving model to temp.keras\n",
            "782/782 - 27s - loss: 0.0262 - mae: 0.0262 - val_loss: 0.0274 - val_mae: 0.0274 - 27s/epoch - 35ms/step\n",
            "Epoch 6/100\n",
            "\n",
            "Epoch 6: val_mae improved from 0.02742 to 0.02576, saving model to temp.keras\n",
            "782/782 - 28s - loss: 0.0232 - mae: 0.0232 - val_loss: 0.0258 - val_mae: 0.0258 - 28s/epoch - 36ms/step\n",
            "Epoch 7/100\n",
            "\n",
            "Epoch 7: val_mae improved from 0.02576 to 0.02277, saving model to temp.keras\n",
            "782/782 - 27s - loss: 0.0209 - mae: 0.0209 - val_loss: 0.0228 - val_mae: 0.0228 - 27s/epoch - 35ms/step\n",
            "Epoch 8/100\n",
            "\n",
            "Epoch 8: val_mae improved from 0.02277 to 0.02188, saving model to temp.keras\n",
            "782/782 - 27s - loss: 0.0194 - mae: 0.0194 - val_loss: 0.0219 - val_mae: 0.0219 - 27s/epoch - 35ms/step\n",
            "Epoch 9/100\n",
            "\n",
            "Epoch 9: val_mae improved from 0.02188 to 0.01906, saving model to temp.keras\n",
            "782/782 - 27s - loss: 0.0181 - mae: 0.0181 - val_loss: 0.0191 - val_mae: 0.0191 - 27s/epoch - 34ms/step\n",
            "Epoch 10/100\n",
            "\n",
            "Epoch 10: val_mae improved from 0.01906 to 0.01825, saving model to temp.keras\n",
            "782/782 - 27s - loss: 0.0170 - mae: 0.0170 - val_loss: 0.0182 - val_mae: 0.0182 - 27s/epoch - 34ms/step\n",
            "Epoch 11/100\n",
            "\n",
            "Epoch 11: val_mae improved from 0.01825 to 0.01737, saving model to temp.keras\n",
            "782/782 - 28s - loss: 0.0161 - mae: 0.0161 - val_loss: 0.0174 - val_mae: 0.0174 - 28s/epoch - 36ms/step\n",
            "Epoch 12/100\n",
            "\n",
            "Epoch 12: val_mae improved from 0.01737 to 0.01716, saving model to temp.keras\n",
            "782/782 - 27s - loss: 0.0154 - mae: 0.0154 - val_loss: 0.0172 - val_mae: 0.0172 - 27s/epoch - 34ms/step\n",
            "Epoch 13/100\n",
            "\n",
            "Epoch 13: val_mae improved from 0.01716 to 0.01580, saving model to temp.keras\n",
            "782/782 - 27s - loss: 0.0146 - mae: 0.0146 - val_loss: 0.0158 - val_mae: 0.0158 - 27s/epoch - 34ms/step\n",
            "Epoch 14/100\n",
            "\n",
            "Epoch 14: val_mae did not improve from 0.01580\n",
            "782/782 - 28s - loss: 0.0140 - mae: 0.0140 - val_loss: 0.0167 - val_mae: 0.0167 - 28s/epoch - 36ms/step\n",
            "Epoch 15/100\n",
            "\n",
            "Epoch 15: val_mae improved from 0.01580 to 0.01477, saving model to temp.keras\n",
            "782/782 - 28s - loss: 0.0136 - mae: 0.0136 - val_loss: 0.0148 - val_mae: 0.0148 - 28s/epoch - 36ms/step\n",
            "Epoch 16/100\n",
            "\n",
            "Epoch 16: val_mae did not improve from 0.01477\n",
            "782/782 - 27s - loss: 0.0130 - mae: 0.0130 - val_loss: 0.0156 - val_mae: 0.0156 - 27s/epoch - 34ms/step\n",
            "Epoch 17/100\n",
            "\n",
            "Epoch 17: val_mae improved from 0.01477 to 0.01468, saving model to temp.keras\n",
            "782/782 - 28s - loss: 0.0125 - mae: 0.0125 - val_loss: 0.0147 - val_mae: 0.0147 - 28s/epoch - 36ms/step\n",
            "Epoch 18/100\n",
            "\n",
            "Epoch 18: val_mae improved from 0.01468 to 0.01387, saving model to temp.keras\n",
            "782/782 - 27s - loss: 0.0121 - mae: 0.0121 - val_loss: 0.0139 - val_mae: 0.0139 - 27s/epoch - 35ms/step\n",
            "Epoch 19/100\n",
            "\n",
            "Epoch 19: val_mae improved from 0.01387 to 0.01368, saving model to temp.keras\n",
            "782/782 - 27s - loss: 0.0118 - mae: 0.0118 - val_loss: 0.0137 - val_mae: 0.0137 - 27s/epoch - 34ms/step\n",
            "Epoch 20/100\n",
            "\n",
            "Epoch 20: val_mae improved from 0.01368 to 0.01237, saving model to temp.keras\n",
            "782/782 - 27s - loss: 0.0116 - mae: 0.0116 - val_loss: 0.0124 - val_mae: 0.0124 - 27s/epoch - 34ms/step\n",
            "Epoch 21/100\n",
            "\n",
            "Epoch 21: val_mae did not improve from 0.01237\n",
            "782/782 - 27s - loss: 0.0112 - mae: 0.0112 - val_loss: 0.0126 - val_mae: 0.0126 - 27s/epoch - 35ms/step\n",
            "Epoch 22/100\n",
            "\n",
            "Epoch 22: val_mae did not improve from 0.01237\n",
            "782/782 - 26s - loss: 0.0110 - mae: 0.0110 - val_loss: 0.0131 - val_mae: 0.0131 - 26s/epoch - 34ms/step\n",
            "Epoch 23/100\n",
            "\n",
            "Epoch 23: val_mae improved from 0.01237 to 0.01154, saving model to temp.keras\n",
            "782/782 - 27s - loss: 0.0107 - mae: 0.0107 - val_loss: 0.0115 - val_mae: 0.0115 - 27s/epoch - 34ms/step\n",
            "Epoch 24/100\n",
            "\n",
            "Epoch 24: val_mae did not improve from 0.01154\n",
            "782/782 - 28s - loss: 0.0104 - mae: 0.0104 - val_loss: 0.0119 - val_mae: 0.0119 - 28s/epoch - 35ms/step\n",
            "Epoch 25/100\n",
            "\n",
            "Epoch 25: val_mae did not improve from 0.01154\n",
            "782/782 - 26s - loss: 0.0104 - mae: 0.0104 - val_loss: 0.0116 - val_mae: 0.0116 - 26s/epoch - 34ms/step\n",
            "Epoch 26/100\n",
            "\n",
            "Epoch 26: val_mae improved from 0.01154 to 0.01075, saving model to temp.keras\n",
            "782/782 - 27s - loss: 0.0101 - mae: 0.0101 - val_loss: 0.0107 - val_mae: 0.0107 - 27s/epoch - 34ms/step\n",
            "Epoch 27/100\n",
            "\n",
            "Epoch 27: val_mae did not improve from 0.01075\n",
            "782/782 - 27s - loss: 0.0098 - mae: 0.0098 - val_loss: 0.0119 - val_mae: 0.0119 - 27s/epoch - 34ms/step\n",
            "Epoch 28/100\n",
            "\n",
            "Epoch 28: val_mae improved from 0.01075 to 0.01070, saving model to temp.keras\n",
            "782/782 - 27s - loss: 0.0097 - mae: 0.0097 - val_loss: 0.0107 - val_mae: 0.0107 - 27s/epoch - 35ms/step\n",
            "Epoch 29/100\n",
            "\n",
            "Epoch 29: val_mae did not improve from 0.01070\n",
            "782/782 - 26s - loss: 0.0095 - mae: 0.0095 - val_loss: 0.0108 - val_mae: 0.0108 - 26s/epoch - 34ms/step\n",
            "Epoch 30/100\n",
            "\n",
            "Epoch 30: val_mae improved from 0.01070 to 0.01067, saving model to temp.keras\n",
            "782/782 - 27s - loss: 0.0093 - mae: 0.0093 - val_loss: 0.0107 - val_mae: 0.0107 - 27s/epoch - 34ms/step\n",
            "Epoch 31/100\n",
            "\n",
            "Epoch 31: val_mae improved from 0.01067 to 0.01043, saving model to temp.keras\n",
            "782/782 - 27s - loss: 0.0091 - mae: 0.0091 - val_loss: 0.0104 - val_mae: 0.0104 - 27s/epoch - 34ms/step\n",
            "Epoch 32/100\n",
            "\n",
            "Epoch 32: val_mae improved from 0.01043 to 0.00987, saving model to temp.keras\n",
            "782/782 - 27s - loss: 0.0091 - mae: 0.0091 - val_loss: 0.0099 - val_mae: 0.0099 - 27s/epoch - 35ms/step\n",
            "Epoch 33/100\n",
            "\n",
            "Epoch 33: val_mae improved from 0.00987 to 0.00978, saving model to temp.keras\n",
            "782/782 - 27s - loss: 0.0089 - mae: 0.0089 - val_loss: 0.0098 - val_mae: 0.0098 - 27s/epoch - 34ms/step\n",
            "Epoch 34/100\n",
            "\n",
            "Epoch 34: val_mae did not improve from 0.00978\n",
            "782/782 - 26s - loss: 0.0087 - mae: 0.0087 - val_loss: 0.0099 - val_mae: 0.0099 - 26s/epoch - 34ms/step\n",
            "Epoch 35/100\n",
            "\n",
            "Epoch 35: val_mae improved from 0.00978 to 0.00954, saving model to temp.keras\n",
            "782/782 - 28s - loss: 0.0087 - mae: 0.0087 - val_loss: 0.0095 - val_mae: 0.0095 - 28s/epoch - 36ms/step\n",
            "Epoch 36/100\n",
            "\n",
            "Epoch 36: val_mae did not improve from 0.00954\n",
            "782/782 - 27s - loss: 0.0086 - mae: 0.0086 - val_loss: 0.0100 - val_mae: 0.0100 - 27s/epoch - 34ms/step\n",
            "Epoch 37/100\n",
            "\n",
            "Epoch 37: val_mae improved from 0.00954 to 0.00952, saving model to temp.keras\n",
            "782/782 - 27s - loss: 0.0085 - mae: 0.0085 - val_loss: 0.0095 - val_mae: 0.0095 - 27s/epoch - 34ms/step\n",
            "Epoch 38/100\n",
            "\n",
            "Epoch 38: val_mae improved from 0.00952 to 0.00930, saving model to temp.keras\n",
            "782/782 - 27s - loss: 0.0083 - mae: 0.0083 - val_loss: 0.0093 - val_mae: 0.0093 - 27s/epoch - 34ms/step\n",
            "Epoch 39/100\n",
            "\n",
            "Epoch 39: val_mae improved from 0.00930 to 0.00926, saving model to temp.keras\n",
            "782/782 - 27s - loss: 0.0083 - mae: 0.0083 - val_loss: 0.0093 - val_mae: 0.0093 - 27s/epoch - 35ms/step\n",
            "Epoch 40/100\n",
            "\n",
            "Epoch 40: val_mae did not improve from 0.00926\n",
            "782/782 - 26s - loss: 0.0081 - mae: 0.0081 - val_loss: 0.0097 - val_mae: 0.0097 - 26s/epoch - 34ms/step\n",
            "Epoch 41/100\n",
            "\n",
            "Epoch 41: val_mae did not improve from 0.00926\n",
            "782/782 - 26s - loss: 0.0080 - mae: 0.0080 - val_loss: 0.0095 - val_mae: 0.0095 - 26s/epoch - 34ms/step\n",
            "Epoch 42/100\n",
            "\n",
            "Epoch 42: val_mae improved from 0.00926 to 0.00916, saving model to temp.keras\n",
            "782/782 - 27s - loss: 0.0080 - mae: 0.0080 - val_loss: 0.0092 - val_mae: 0.0092 - 27s/epoch - 34ms/step\n",
            "Epoch 43/100\n",
            "\n",
            "Epoch 43: val_mae improved from 0.00916 to 0.00871, saving model to temp.keras\n",
            "782/782 - 27s - loss: 0.0079 - mae: 0.0079 - val_loss: 0.0087 - val_mae: 0.0087 - 27s/epoch - 35ms/step\n",
            "Epoch 44/100\n",
            "\n",
            "Epoch 44: val_mae improved from 0.00871 to 0.00867, saving model to temp.keras\n",
            "782/782 - 28s - loss: 0.0078 - mae: 0.0078 - val_loss: 0.0087 - val_mae: 0.0087 - 28s/epoch - 36ms/step\n",
            "Epoch 45/100\n",
            "\n",
            "Epoch 45: val_mae improved from 0.00867 to 0.00819, saving model to temp.keras\n",
            "782/782 - 27s - loss: 0.0077 - mae: 0.0077 - val_loss: 0.0082 - val_mae: 0.0082 - 27s/epoch - 34ms/step\n",
            "Epoch 46/100\n",
            "\n",
            "Epoch 46: val_mae did not improve from 0.00819\n",
            "782/782 - 28s - loss: 0.0076 - mae: 0.0076 - val_loss: 0.0098 - val_mae: 0.0098 - 28s/epoch - 36ms/step\n",
            "Epoch 47/100\n",
            "\n",
            "Epoch 47: val_mae did not improve from 0.00819\n",
            "782/782 - 28s - loss: 0.0076 - mae: 0.0076 - val_loss: 0.0087 - val_mae: 0.0087 - 28s/epoch - 36ms/step\n",
            "Epoch 48/100\n",
            "\n",
            "Epoch 48: val_mae did not improve from 0.00819\n",
            "782/782 - 27s - loss: 0.0076 - mae: 0.0076 - val_loss: 0.0084 - val_mae: 0.0084 - 27s/epoch - 34ms/step\n",
            "Epoch 49/100\n",
            "\n",
            "Epoch 49: val_mae did not improve from 0.00819\n",
            "782/782 - 27s - loss: 0.0073 - mae: 0.0073 - val_loss: 0.0083 - val_mae: 0.0083 - 27s/epoch - 34ms/step\n",
            "Epoch 50/100\n",
            "\n",
            "Epoch 50: val_mae did not improve from 0.00819\n",
            "782/782 - 27s - loss: 0.0073 - mae: 0.0073 - val_loss: 0.0085 - val_mae: 0.0085 - 27s/epoch - 34ms/step\n",
            "Epoch 51/100\n",
            "\n",
            "Epoch 51: val_mae did not improve from 0.00819\n",
            "782/782 - 28s - loss: 0.0073 - mae: 0.0073 - val_loss: 0.0082 - val_mae: 0.0082 - 28s/epoch - 35ms/step\n",
            "Epoch 52/100\n",
            "\n",
            "Epoch 52: val_mae did not improve from 0.00819\n",
            "782/782 - 27s - loss: 0.0072 - mae: 0.0072 - val_loss: 0.0082 - val_mae: 0.0082 - 27s/epoch - 34ms/step\n",
            "Epoch 53/100\n",
            "\n",
            "Epoch 53: val_mae improved from 0.00819 to 0.00786, saving model to temp.keras\n",
            "782/782 - 27s - loss: 0.0072 - mae: 0.0072 - val_loss: 0.0079 - val_mae: 0.0079 - 27s/epoch - 35ms/step\n",
            "Epoch 54/100\n",
            "\n",
            "Epoch 54: val_mae did not improve from 0.00786\n",
            "782/782 - 27s - loss: 0.0071 - mae: 0.0071 - val_loss: 0.0081 - val_mae: 0.0081 - 27s/epoch - 34ms/step\n",
            "Epoch 55/100\n",
            "\n",
            "Epoch 55: val_mae improved from 0.00786 to 0.00779, saving model to temp.keras\n",
            "782/782 - 27s - loss: 0.0070 - mae: 0.0070 - val_loss: 0.0078 - val_mae: 0.0078 - 27s/epoch - 34ms/step\n",
            "Epoch 56/100\n",
            "\n",
            "Epoch 56: val_mae improved from 0.00779 to 0.00776, saving model to temp.keras\n",
            "782/782 - 28s - loss: 0.0069 - mae: 0.0069 - val_loss: 0.0078 - val_mae: 0.0078 - 28s/epoch - 36ms/step\n",
            "Epoch 57/100\n",
            "\n",
            "Epoch 57: val_mae improved from 0.00776 to 0.00755, saving model to temp.keras\n",
            "782/782 - 27s - loss: 0.0069 - mae: 0.0069 - val_loss: 0.0076 - val_mae: 0.0076 - 27s/epoch - 34ms/step\n",
            "Epoch 58/100\n",
            "\n",
            "Epoch 58: val_mae did not improve from 0.00755\n",
            "782/782 - 27s - loss: 0.0069 - mae: 0.0069 - val_loss: 0.0080 - val_mae: 0.0080 - 27s/epoch - 34ms/step\n",
            "Epoch 59/100\n",
            "\n",
            "Epoch 59: val_mae did not improve from 0.00755\n",
            "782/782 - 26s - loss: 0.0069 - mae: 0.0069 - val_loss: 0.0084 - val_mae: 0.0084 - 26s/epoch - 34ms/step\n",
            "Epoch 60/100\n",
            "\n",
            "Epoch 60: val_mae improved from 0.00755 to 0.00747, saving model to temp.keras\n",
            "782/782 - 27s - loss: 0.0068 - mae: 0.0068 - val_loss: 0.0075 - val_mae: 0.0075 - 27s/epoch - 34ms/step\n",
            "Epoch 61/100\n",
            "\n",
            "Epoch 61: val_mae did not improve from 0.00747\n",
            "782/782 - 26s - loss: 0.0067 - mae: 0.0067 - val_loss: 0.0081 - val_mae: 0.0081 - 26s/epoch - 33ms/step\n",
            "Epoch 62/100\n",
            "\n",
            "Epoch 62: val_mae improved from 0.00747 to 0.00731, saving model to temp.keras\n",
            "782/782 - 26s - loss: 0.0067 - mae: 0.0067 - val_loss: 0.0073 - val_mae: 0.0073 - 26s/epoch - 34ms/step\n",
            "Epoch 63/100\n",
            "\n",
            "Epoch 63: val_mae did not improve from 0.00731\n",
            "782/782 - 26s - loss: 0.0066 - mae: 0.0066 - val_loss: 0.0079 - val_mae: 0.0079 - 26s/epoch - 34ms/step\n",
            "Epoch 64/100\n",
            "\n",
            "Epoch 64: val_mae did not improve from 0.00731\n",
            "782/782 - 27s - loss: 0.0065 - mae: 0.0065 - val_loss: 0.0075 - val_mae: 0.0075 - 27s/epoch - 35ms/step\n",
            "Epoch 65/100\n",
            "\n",
            "Epoch 65: val_mae improved from 0.00731 to 0.00700, saving model to temp.keras\n",
            "782/782 - 26s - loss: 0.0065 - mae: 0.0065 - val_loss: 0.0070 - val_mae: 0.0070 - 26s/epoch - 34ms/step\n",
            "Epoch 66/100\n",
            "\n",
            "Epoch 66: val_mae did not improve from 0.00700\n",
            "782/782 - 26s - loss: 0.0064 - mae: 0.0064 - val_loss: 0.0075 - val_mae: 0.0075 - 26s/epoch - 34ms/step\n",
            "Epoch 67/100\n",
            "\n",
            "Epoch 67: val_mae did not improve from 0.00700\n",
            "782/782 - 28s - loss: 0.0064 - mae: 0.0064 - val_loss: 0.0074 - val_mae: 0.0074 - 28s/epoch - 36ms/step\n",
            "Epoch 68/100\n",
            "\n",
            "Epoch 68: val_mae did not improve from 0.00700\n",
            "782/782 - 27s - loss: 0.0064 - mae: 0.0064 - val_loss: 0.0076 - val_mae: 0.0076 - 27s/epoch - 34ms/step\n",
            "Epoch 69/100\n",
            "\n",
            "Epoch 69: val_mae did not improve from 0.00700\n",
            "782/782 - 26s - loss: 0.0063 - mae: 0.0063 - val_loss: 0.0073 - val_mae: 0.0073 - 26s/epoch - 33ms/step\n",
            "Epoch 70/100\n",
            "\n",
            "Epoch 70: val_mae did not improve from 0.00700\n",
            "782/782 - 26s - loss: 0.0063 - mae: 0.0063 - val_loss: 0.0072 - val_mae: 0.0072 - 26s/epoch - 33ms/step\n",
            "Epoch 71/100\n",
            "\n",
            "Epoch 71: val_mae did not improve from 0.00700\n",
            "782/782 - 26s - loss: 0.0062 - mae: 0.0062 - val_loss: 0.0072 - val_mae: 0.0072 - 26s/epoch - 34ms/step\n",
            "Epoch 72/100\n",
            "\n",
            "Epoch 72: val_mae did not improve from 0.00700\n",
            "782/782 - 27s - loss: 0.0062 - mae: 0.0062 - val_loss: 0.0077 - val_mae: 0.0077 - 27s/epoch - 34ms/step\n",
            "Epoch 73/100\n",
            "\n",
            "Epoch 73: val_mae improved from 0.00700 to 0.00688, saving model to temp.keras\n",
            "782/782 - 27s - loss: 0.0062 - mae: 0.0062 - val_loss: 0.0069 - val_mae: 0.0069 - 27s/epoch - 34ms/step\n",
            "Epoch 74/100\n",
            "\n",
            "Epoch 74: val_mae improved from 0.00688 to 0.00685, saving model to temp.keras\n",
            "782/782 - 26s - loss: 0.0062 - mae: 0.0062 - val_loss: 0.0069 - val_mae: 0.0069 - 26s/epoch - 34ms/step\n",
            "Epoch 75/100\n",
            "\n",
            "Epoch 75: val_mae did not improve from 0.00685\n",
            "782/782 - 26s - loss: 0.0061 - mae: 0.0061 - val_loss: 0.0077 - val_mae: 0.0077 - 26s/epoch - 34ms/step\n",
            "Epoch 76/100\n",
            "\n",
            "Epoch 76: val_mae improved from 0.00685 to 0.00629, saving model to temp.keras\n",
            "782/782 - 28s - loss: 0.0061 - mae: 0.0061 - val_loss: 0.0063 - val_mae: 0.0063 - 28s/epoch - 36ms/step\n",
            "Epoch 77/100\n",
            "\n",
            "Epoch 77: val_mae did not improve from 0.00629\n",
            "782/782 - 26s - loss: 0.0061 - mae: 0.0061 - val_loss: 0.0067 - val_mae: 0.0067 - 26s/epoch - 34ms/step\n",
            "Epoch 78/100\n",
            "\n",
            "Epoch 78: val_mae did not improve from 0.00629\n",
            "782/782 - 27s - loss: 0.0060 - mae: 0.0060 - val_loss: 0.0070 - val_mae: 0.0070 - 27s/epoch - 34ms/step\n",
            "Epoch 79/100\n",
            "\n",
            "Epoch 79: val_mae did not improve from 0.00629\n",
            "782/782 - 27s - loss: 0.0060 - mae: 0.0060 - val_loss: 0.0069 - val_mae: 0.0069 - 27s/epoch - 34ms/step\n",
            "Epoch 80/100\n",
            "\n",
            "Epoch 80: val_mae did not improve from 0.00629\n",
            "782/782 - 27s - loss: 0.0058 - mae: 0.0058 - val_loss: 0.0070 - val_mae: 0.0070 - 27s/epoch - 34ms/step\n",
            "Epoch 81/100\n",
            "\n",
            "Epoch 81: val_mae did not improve from 0.00629\n",
            "782/782 - 26s - loss: 0.0058 - mae: 0.0058 - val_loss: 0.0071 - val_mae: 0.0071 - 26s/epoch - 34ms/step\n",
            "Epoch 82/100\n",
            "\n",
            "Epoch 82: val_mae did not improve from 0.00629\n",
            "782/782 - 26s - loss: 0.0059 - mae: 0.0059 - val_loss: 0.0067 - val_mae: 0.0067 - 26s/epoch - 34ms/step\n",
            "Epoch 83/100\n",
            "\n",
            "Epoch 83: val_mae did not improve from 0.00629\n",
            "782/782 - 26s - loss: 0.0059 - mae: 0.0059 - val_loss: 0.0068 - val_mae: 0.0068 - 26s/epoch - 34ms/step\n",
            "Epoch 84/100\n",
            "\n",
            "Epoch 84: val_mae did not improve from 0.00629\n",
            "782/782 - 27s - loss: 0.0058 - mae: 0.0058 - val_loss: 0.0067 - val_mae: 0.0067 - 27s/epoch - 34ms/step\n",
            "Epoch 85/100\n",
            "\n",
            "Epoch 85: val_mae did not improve from 0.00629\n",
            "782/782 - 26s - loss: 0.0058 - mae: 0.0058 - val_loss: 0.0068 - val_mae: 0.0068 - 26s/epoch - 33ms/step\n",
            "Epoch 86/100\n",
            "\n",
            "Epoch 86: val_mae did not improve from 0.00629\n",
            "782/782 - 28s - loss: 0.0058 - mae: 0.0058 - val_loss: 0.0067 - val_mae: 0.0067 - 28s/epoch - 35ms/step\n",
            "Epoch 87/100\n",
            "\n",
            "Epoch 87: val_mae did not improve from 0.00629\n",
            "782/782 - 28s - loss: 0.0057 - mae: 0.0057 - val_loss: 0.0065 - val_mae: 0.0065 - 28s/epoch - 35ms/step\n",
            "Epoch 88/100\n",
            "\n",
            "Epoch 88: val_mae did not improve from 0.00629\n",
            "782/782 - 26s - loss: 0.0057 - mae: 0.0057 - val_loss: 0.0069 - val_mae: 0.0069 - 26s/epoch - 33ms/step\n",
            "Epoch 89/100\n",
            "\n",
            "Epoch 89: val_mae did not improve from 0.00629\n",
            "782/782 - 26s - loss: 0.0057 - mae: 0.0057 - val_loss: 0.0063 - val_mae: 0.0063 - 26s/epoch - 33ms/step\n",
            "Epoch 90/100\n",
            "\n",
            "Epoch 90: val_mae did not improve from 0.00629\n",
            "782/782 - 26s - loss: 0.0056 - mae: 0.0056 - val_loss: 0.0065 - val_mae: 0.0065 - 26s/epoch - 33ms/step\n",
            "Epoch 91/100\n",
            "\n",
            "Epoch 91: val_mae improved from 0.00629 to 0.00624, saving model to temp.keras\n",
            "782/782 - 28s - loss: 0.0056 - mae: 0.0056 - val_loss: 0.0062 - val_mae: 0.0062 - 28s/epoch - 36ms/step\n",
            "Epoch 92/100\n",
            "\n",
            "Epoch 92: val_mae did not improve from 0.00624\n",
            "782/782 - 26s - loss: 0.0056 - mae: 0.0056 - val_loss: 0.0063 - val_mae: 0.0063 - 26s/epoch - 34ms/step\n",
            "Epoch 93/100\n",
            "\n",
            "Epoch 93: val_mae did not improve from 0.00624\n",
            "782/782 - 26s - loss: 0.0055 - mae: 0.0055 - val_loss: 0.0063 - val_mae: 0.0063 - 26s/epoch - 34ms/step\n",
            "Epoch 94/100\n",
            "\n",
            "Epoch 94: val_mae did not improve from 0.00624\n",
            "782/782 - 26s - loss: 0.0055 - mae: 0.0055 - val_loss: 0.0065 - val_mae: 0.0065 - 26s/epoch - 34ms/step\n",
            "Epoch 95/100\n",
            "\n",
            "Epoch 95: val_mae improved from 0.00624 to 0.00620, saving model to temp.keras\n",
            "782/782 - 27s - loss: 0.0055 - mae: 0.0055 - val_loss: 0.0062 - val_mae: 0.0062 - 27s/epoch - 34ms/step\n",
            "Epoch 96/100\n",
            "\n",
            "Epoch 96: val_mae did not improve from 0.00620\n",
            "782/782 - 26s - loss: 0.0055 - mae: 0.0055 - val_loss: 0.0065 - val_mae: 0.0065 - 26s/epoch - 34ms/step\n",
            "Epoch 97/100\n",
            "\n",
            "Epoch 97: val_mae did not improve from 0.00620\n",
            "782/782 - 26s - loss: 0.0054 - mae: 0.0054 - val_loss: 0.0063 - val_mae: 0.0063 - 26s/epoch - 34ms/step\n",
            "Epoch 98/100\n",
            "\n",
            "Epoch 98: val_mae did not improve from 0.00620\n",
            "782/782 - 26s - loss: 0.0054 - mae: 0.0054 - val_loss: 0.0064 - val_mae: 0.0064 - 26s/epoch - 34ms/step\n",
            "Epoch 99/100\n",
            "\n",
            "Epoch 99: val_mae did not improve from 0.00620\n",
            "782/782 - 28s - loss: 0.0054 - mae: 0.0054 - val_loss: 0.0064 - val_mae: 0.0064 - 28s/epoch - 35ms/step\n",
            "Epoch 100/100\n",
            "\n",
            "Epoch 100: val_mae improved from 0.00620 to 0.00582, saving model to temp.keras\n",
            "782/782 - 27s - loss: 0.0054 - mae: 0.0054 - val_loss: 0.0058 - val_mae: 0.0058 - 27s/epoch - 34ms/step\n"
          ]
        },
        {
          "data": {
            "text/plain": [
              "<keras.src.callbacks.History at 0x7a0472bd2530>"
            ]
          },
          "execution_count": 5,
          "metadata": {},
          "output_type": "execute_result"
        }
      ],
      "source": [
        "tf_fc.train(train_dataset=benchmark.train_dataset,\n",
        "            val_dataset=benchmark.val_dataset,\n",
        "            epochs=1 if debug else 100\n",
        "           )"
      ]
    },
    {
      "cell_type": "markdown",
      "metadata": {
        "id": "iescEbt-DCME"
      },
      "source": [
        "# benchmark scroing"
      ]
    },
    {
      "cell_type": "code",
      "execution_count": 1,
      "metadata": {
        "id": "2z01bSJ_D62Y",
        "colab": {
          "base_uri": "https://localhost:8080/"
        },
        "collapsed": true,
        "outputId": "848264b5-7f2a-4167-85e7-161d2ef46e15"
      },
      "outputs": [
        {
          "output_type": "stream",
          "name": "stdout",
          "text": [
            "Cloning into 'ml4physim_startingkit_powergrid'...\n",
            "remote: Enumerating objects: 527, done.\u001b[K\n",
            "remote: Counting objects: 100% (172/172), done.\u001b[K\n",
            "remote: Compressing objects: 100% (103/103), done.\u001b[K\n",
            "remote: Total 527 (delta 83), reused 134 (delta 49), pack-reused 355\u001b[K\n",
            "Receiving objects: 100% (527/527), 106.37 MiB | 31.62 MiB/s, done.\n",
            "Resolving deltas: 100% (97/97), done.\n"
          ]
        }
      ],
      "source": [
        "import os; os.chdir('/content/')\n",
        "!git clone https://github.com/IRT-SystemX/ml4physim_startingkit_powergrid.git"
      ]
    },
    {
      "cell_type": "code",
      "execution_count": 2,
      "metadata": {
        "id": "ybYGmR1GE0Ht",
        "colab": {
          "base_uri": "https://localhost:8080/"
        },
        "collapsed": true,
        "outputId": "c6447076-b3f6-4d7f-c5a9-707c7afa23cc"
      },
      "outputs": [
        {
          "output_type": "stream",
          "name": "stdout",
          "text": [
            "  Preparing metadata (setup.py) ... \u001b[?25l\u001b[?25hdone\n",
            "\u001b[2K     \u001b[90m━━━━━━━━━━━━━━━━━━━━━━━━━━━━━━━━━━━━━━━━\u001b[0m \u001b[32m18.2/18.2 MB\u001b[0m \u001b[31m82.6 MB/s\u001b[0m eta \u001b[36m0:00:00\u001b[0m\n",
            "\u001b[?25h  Building wheel for lips-benchmark (setup.py) ... \u001b[?25l\u001b[?25hdone\n"
          ]
        }
      ],
      "source": [
        "import os; os.chdir('/content/LIPS')\n",
        "!pip -q install .\n",
        "exit()"
      ]
    },
    {
      "cell_type": "code",
      "execution_count": 1,
      "metadata": {
        "id": "WaWJggYfDFe7"
      },
      "outputs": [],
      "source": [
        "import os; os.chdir('/content/ml4physim_startingkit_powergrid')\n",
        "from lips.benchmark.powergridBenchmark import PowerGridBenchmark\n",
        "\n",
        "#Define the required paths\n",
        "BENCH_CONFIG_PATH = os.path.join(\"configs\", \"benchmarks\", \"lips_idf_2023.ini\")\n",
        "DATA_PATH = os.path.join(\"input_data_local\", \"lips_idf_2023\")\n",
        "TRAINED_MODELS = os.path.join(\"input_data_local\", \"trained_models\")\n",
        "LOG_PATH = \"logs.log\"\n",
        "\n",
        "benchmark_kwargs = {\"attr_x\": (\"prod_p\", \"prod_v\", \"load_p\", \"load_q\"),\n",
        "                    \"attr_y\": (\"a_or\", \"a_ex\", \"p_or\", \"p_ex\", \"v_or\", \"v_ex\"),\n",
        "                    \"attr_tau\": (\"line_status\", \"topo_vect\"),\n",
        "                    \"attr_physics\": None}\n",
        "\n",
        "benchmark = PowerGridBenchmark(benchmark_path=DATA_PATH,\n",
        "                               config_path=BENCH_CONFIG_PATH,\n",
        "                               benchmark_name=\"Benchmark_competition\",\n",
        "                               load_data_set=True,\n",
        "                               log_path=LOG_PATH,\n",
        "                               **benchmark_kwargs)"
      ]
    },
    {
      "cell_type": "code",
      "execution_count": null,
      "metadata": {
        "id": "Elakb19pF88B",
        "colab": {
          "base_uri": "https://localhost:8080/"
        },
        "outputId": "86e22e6c-62db-4553-94e9-7974975a9e0d"
      },
      "outputs": [
        {
          "output_type": "stream",
          "name": "stderr",
          "text": [
            "WARNING:Benchmark:Previously saved data will be erased by this new generation\n",
            "WARNING:Benchmark:Deleting path input_data_local/lips_idf_2023/Benchmark_competition that might contain previous runs\n"
          ]
        },
        {
          "output_type": "stream",
          "name": "stdout",
          "text": [
            "downloading the training data, this may take a while.\n"
          ]
        },
        {
          "output_type": "stream",
          "name": "stderr",
          "text": [
            "073fb805-76e5-423d-97e3-83a62a7ac0d0:   4%|▎         | 199M/5.36G [01:22<14:38, 5.87MB/s]"
          ]
        }
      ],
      "source": [
        "mul = 1\n",
        "benchmark.generate(nb_sample_train=int(1e5) * mul,\n",
        "                    nb_sample_val=int(1e4) * mul,\n",
        "                    nb_sample_test=int(1e4) * mul,\n",
        "                    nb_sample_test_ood_topo=int(1e4) * mul,\n",
        "                  )"
      ]
    },
    {
      "cell_type": "code",
      "execution_count": 2,
      "metadata": {
        "colab": {
          "base_uri": "https://localhost:8080/"
        },
        "id": "xDsPLY8RF0eP",
        "outputId": "510b7e39-2da8-46c6-cbe5-76d9782ffe61"
      },
      "outputs": [
        {
          "output_type": "stream",
          "name": "stdout",
          "text": [
            "lr 0.0001\n"
          ]
        }
      ],
      "source": [
        "from lips.augmented_simulators.tensorflow_models.transformer import SimpNet\n",
        "from lips.dataset.scaler import StandardScaler\n",
        "\n",
        "# Indicate the path required for corresponding augmented simulator parameters\n",
        "SIM_CONFIG_PATH = os.path.join(\"configs\", \"simulators\", \"tf_fc.ini\")\n",
        "\n",
        "tf_fc = SimpNet(name=\"tf_fc\",\n",
        "                         bench_config_path=BENCH_CONFIG_PATH,\n",
        "                         bench_config_name=\"Benchmark_competition\",\n",
        "                         bench_kwargs=benchmark_kwargs,\n",
        "                         sim_config_path=SIM_CONFIG_PATH,\n",
        "                         sim_config_name=\"DEFAULT\",\n",
        "                         scaler=StandardScaler,\n",
        "                         log_path=LOG_PATH,\n",
        "                lr= 1e-4)\n",
        "\n",
        "#LOAD_PATH = os.path.join(TRAINED_MODELS, \"lips_idf_2023\")\n",
        "#tf_fc.restore(path=LOAD_PATH)"
      ]
    },
    {
      "cell_type": "code",
      "execution_count": null,
      "metadata": {
        "id": "5kzfErfrN7zF"
      },
      "outputs": [],
      "source": [
        "tf_fc.train(train_dataset=benchmark.train_dataset,\n",
        "            val_dataset=benchmark.val_dataset,\n",
        "            epochs=100\n",
        "           )"
      ]
    },
    {
      "cell_type": "code",
      "execution_count": null,
      "metadata": {
        "id": "5qa1lCuIQluW"
      },
      "outputs": [],
      "source": [
        "EVALUATION_PATH = os.path.join(\"input_data_local\", \"eval_results\", \"lips_idf_2023\")\n",
        "metrics = benchmark.evaluate_simulator(augmented_simulator=tf_fc,\n",
        "                                       eval_batch_size=128,\n",
        "                                       dataset=\"all\",\n",
        "                                       shuffle=False,\n",
        "                                       save_path=EVALUATION_PATH,\n",
        "                                       save_predictions=False)\n"
      ]
    },
    {
      "cell_type": "code",
      "execution_count": null,
      "metadata": {
        "id": "jGh2KTUvYZgT"
      },
      "outputs": [],
      "source": [
        "import math\n",
        "from lips.metrics.power_grid.compute_solver_time import compute_solver_time\n",
        "from lips.metrics.power_grid.compute_solver_time_grid2op import compute_solver_time_grid2op\n",
        "\n",
        "thresholds={\"a_or\":(0.02,0.05,\"min\"),\n",
        "            \"a_ex\":(0.02,0.05,\"min\"),\n",
        "            \"p_or\":(0.02,0.05,\"min\"),\n",
        "            \"p_ex\":(0.02,0.05,\"min\"),\n",
        "            \"v_or\":(0.2,0.5,\"min\"),\n",
        "            \"v_ex\":(0.2,0.5,\"min\"),\n",
        "            \"CURRENT_POS\":(1., 5.,\"min\"),\n",
        "            \"VOLTAGE_POS\":(1.,5.,\"min\"),\n",
        "            \"LOSS_POS\":(1.,5.,\"min\"),\n",
        "            \"DISC_LINES\":(1.,5.,\"min\"),\n",
        "            \"CHECK_LOSS\":(1.,5.,\"min\"),\n",
        "            \"CHECK_GC\":(0.05,0.10,\"min\"),\n",
        "            \"CHECK_LC\":(0.05,0.10,\"min\"),\n",
        "            \"CHECK_JOULE_LAW\":(1.,5.,\"min\")\n",
        "           }\n",
        "\n",
        "configuration={\n",
        "    \"coefficients\":{\"test\":0.3, \"test_ood\":0.3, \"speed_up\":0.4},\n",
        "    \"test_ratio\":{\"ml\": 0.66, \"physics\":0.34},\n",
        "    \"test_ood_ratio\":{\"ml\": 0.66, \"physics\":0.34},\n",
        "    \"value_by_color\":{\"g\":2,\"o\":1,\"r\":0},\n",
        "    \"max_speed_ratio_allowed\":50\n",
        "}\n",
        "\n",
        "def evaluate_model(benchmark, model):\n",
        "    metrics = benchmark.evaluate_simulator(augmented_simulator=model,\n",
        "                                           eval_batch_size=128,\n",
        "                                           dataset=\"all\",\n",
        "                                           shuffle=False,\n",
        "                                           save_path=None,\n",
        "                                           save_predictions=False\n",
        "                                          )\n",
        "    return metrics\n",
        "\n",
        "def compute_speed_up(config, metrics):\n",
        "    # solver_time = compute_solver_time(nb_samples=int(1e5), config=config)\n",
        "    solver_time = compute_solver_time_grid2op(config_path=config.path_config, benchmark_name=config.section_name, nb_samples=int(1e5))\n",
        "    speed_up = solver_time / metrics[\"test\"][\"ML\"][\"TIME_INF\"]\n",
        "    return speed_up\n",
        "\n",
        "def reconstruct_metric_dict(metrics, dataset: str=\"test\"):\n",
        "    rec_metrics = dict()\n",
        "    rec_metrics[\"ML\"] = dict()\n",
        "    rec_metrics[\"Physics\"] = dict()\n",
        "\n",
        "    rec_metrics[\"ML\"][\"a_or\"] = metrics[dataset][\"ML\"][\"MAPE_90_avg\"][\"a_or\"]\n",
        "    rec_metrics[\"ML\"][\"a_ex\"] = metrics[dataset][\"ML\"][\"MAPE_90_avg\"][\"a_ex\"]\n",
        "    rec_metrics[\"ML\"][\"p_or\"] = metrics[dataset][\"ML\"][\"MAPE_10_avg\"][\"p_or\"]\n",
        "    rec_metrics[\"ML\"][\"p_ex\"] = metrics[dataset][\"ML\"][\"MAPE_10_avg\"][\"p_ex\"]\n",
        "    rec_metrics[\"ML\"][\"v_or\"] = metrics[dataset][\"ML\"][\"MAE_avg\"][\"v_or\"]\n",
        "    rec_metrics[\"ML\"][\"v_ex\"] = metrics[dataset][\"ML\"][\"MAE_avg\"][\"v_ex\"]\n",
        "\n",
        "    # print(metrics[dataset][\"Physics\"])\n",
        "\n",
        "    rec_metrics[\"Physics\"][\"CURRENT_POS\"]     = metrics[dataset][\"Physics\"][\"CURRENT_POS\"][\"a_or\"][\"Violation_proportion\"] * 100.\n",
        "    # rec_metrics[\"Physics\"][\"VOLTAGE_POS\"]     = metrics[dataset][\"Physics\"][\"VOLTAGE_POS\"][\"v_or\"][\"Violation_proportion\"] * 100.\n",
        "    rec_metrics[\"Physics\"][\"LOSS_POS\"]        = metrics[dataset][\"Physics\"][\"LOSS_POS\"][\"violation_proportion\"] * 100.\n",
        "    rec_metrics[\"Physics\"][\"DISC_LINES\"]      = metrics[dataset][\"Physics\"][\"DISC_LINES\"][\"violation_proportion\"] * 100.\n",
        "    rec_metrics[\"Physics\"][\"CHECK_LOSS\"]      = metrics[dataset][\"Physics\"][\"CHECK_LOSS\"][\"violation_percentage\"]\n",
        "    rec_metrics[\"Physics\"][\"CHECK_GC\"]        = metrics[dataset][\"Physics\"][\"CHECK_GC\"][\"violation_percentage\"]\n",
        "    rec_metrics[\"Physics\"][\"CHECK_LC\"]        = metrics[dataset][\"Physics\"][\"CHECK_LC\"][\"violation_percentage\"]\n",
        "    rec_metrics[\"Physics\"][\"CHECK_JOULE_LAW\"] = metrics[dataset][\"Physics\"][\"CHECK_JOULE_LAW\"][\"violation_proportion\"] * 100.\n",
        "\n",
        "    return rec_metrics\n",
        "\n",
        "def discretize_results(metrics):\n",
        "    results=dict()\n",
        "    for subcategoryName, subcategoryVal in metrics.items():\n",
        "        results[subcategoryName]=[]\n",
        "        for variableName, variableError in subcategoryVal.items():\n",
        "            thresholdMin,thresholdMax,evalType=thresholds[variableName]\n",
        "            if evalType==\"min\":\n",
        "                if variableError<thresholdMin:\n",
        "                    accuracyEval=\"g\"\n",
        "                elif thresholdMin<variableError<thresholdMax:\n",
        "                    accuracyEval=\"o\"\n",
        "                else:\n",
        "                    accuracyEval=\"r\"\n",
        "            elif evalType==\"max\":\n",
        "                if variableError<thresholdMin:\n",
        "                    accuracyEval=\"r\"\n",
        "                elif thresholdMin<variableError<thresholdMax:\n",
        "                    accuracyEval=\"o\"\n",
        "                else:\n",
        "                    accuracyEval=\"g\"\n",
        "\n",
        "            results[subcategoryName].append(accuracyEval)\n",
        "    return results\n",
        "\n",
        "# def SpeedMetric(speedUp,speedMax):\n",
        "#     return max(min(math.log10(speedUp)/math.log10(speedMax),1),0)\n",
        "\n",
        "# def SpeedMetric(speedUp, speedMax):\n",
        "#     a=0.01 # 0.01\n",
        "#     b=0.5 #0.5\n",
        "#     c=0.1 #0.1\n",
        "#     k=9\n",
        "#     res = quadratic_function(speedUp, a=a, b=b, c=c, k=k) / quadratic_function(speedMax, a=a, b=b, c=c, k=k)\n",
        "#     return max(min(res, 1), 0)\n",
        "\n",
        "def quadratic_function(x, a, b, c, k):\n",
        "    if x == 1.:\n",
        "        return 0.\n",
        "    else:\n",
        "        return a*(x**2) + b*x + c + math.log10(k*x)\n",
        "\n",
        "def weibull(c,b,x):\n",
        "    a = c * ((-math.log(0.9)) ** (-1/b))\n",
        "    return 1. - math.exp(-(x / a)**b)\n",
        "\n",
        "def SpeedMetric(speedUp):\n",
        "    res = weibull(5, 1.7, speedUp)\n",
        "    return max(min(res, 1), 0)\n",
        "\n",
        "def compute_ml_subscore(results, key: str=\"test_ratio\"):\n",
        "    test_ratio = configuration[key]\n",
        "    value_by_color = configuration[\"value_by_color\"]\n",
        "    test_ml_res = sum([value_by_color[color] for color in results[\"ML\"]])\n",
        "    test_ml_subscore = (test_ml_res * test_ratio[\"ml\"]) / (len(results[\"ML\"])*max(value_by_color.values()))\n",
        "    return test_ml_subscore\n",
        "\n",
        "def compute_physics_subscore(results, key: str=\"test_ratio\"):\n",
        "    test_ratio = configuration[key]\n",
        "    value_by_color = configuration[\"value_by_color\"]\n",
        "    test_physics_res = sum([value_by_color[color] for color in results[\"Physics\"]])\n",
        "    test_physics_subscore = (test_physics_res*test_ratio[\"physics\"]) / (len(results[\"Physics\"])*max(value_by_color.values()))\n",
        "    return test_physics_subscore\n",
        "\n",
        "def compute_global_score(metrics, config):\n",
        "    coefficients = configuration[\"coefficients\"]\n",
        "    max_speed_ratio_allowed = configuration[\"max_speed_ratio_allowed\"]\n",
        "\n",
        "    test_metrics = reconstruct_metric_dict(metrics, \"test\")\n",
        "    test_ood_metrics = reconstruct_metric_dict(metrics, \"test_ood_topo\")\n",
        "\n",
        "    test_results_disc = discretize_results(test_metrics)\n",
        "    test_ood_results_disc = discretize_results(test_ood_metrics)\n",
        "\n",
        "    print(test_results_disc)\n",
        "    print(test_ood_results_disc)\n",
        "\n",
        "    test_ml_subscore = compute_ml_subscore(test_results_disc, key=\"test_ratio\")\n",
        "    test_physics_subscore = compute_physics_subscore(test_results_disc, key=\"test_ratio\")\n",
        "    test_subscore = test_ml_subscore + test_physics_subscore\n",
        "\n",
        "    test_ood_ml_subscore = compute_ml_subscore(test_ood_results_disc, key=\"test_ood_ratio\")\n",
        "    test_ood_physics_subscore = compute_physics_subscore(test_ood_results_disc, key=\"test_ood_ratio\")\n",
        "    test_ood_subscore = test_ood_ml_subscore + test_ood_physics_subscore\n",
        "\n",
        "    speed_up = compute_speed_up(config, metrics)\n",
        "    speedup_score = SpeedMetric(speedUp=speed_up)\n",
        "\n",
        "    globalScore = 100*(coefficients[\"test\"]*test_subscore+coefficients[\"test_ood\"]*test_ood_subscore+coefficients[\"speed_up\"]*speedup_score)\n",
        "    print('speed_up', speed_up)\n",
        "    return globalScore\n"
      ]
    },
    {
      "cell_type": "code",
      "execution_count": null,
      "metadata": {
        "id": "wp8S7jMPRDEy"
      },
      "outputs": [],
      "source": [
        "import os; os.chdir('/content/ml4physim_startingkit_powergrid')\n",
        "#from utils.compute_score import compute_global_score\n",
        "score = compute_global_score(metrics, benchmark.config)\n",
        "\n",
        "# 60.80829635961514 | speed_up 56.25129803310347\n",
        "# 60.7745165291409  | speed_up 54.022122452863435 | num_layers=5, d_model=512, num_heads=8, dff=512, gelu, 300 epochs\n",
        "# 57.34453864372906 | speed_up 49.393849658818276 | num_layers=6, d_model=512, num_heads=8, dff=512, gelu\n",
        "# 54.26904923152882 | speed_up 71.6313714493595   | num_layers=4, d_model=512, num_heads=8, dff=512, gelu\n",
        "\n",
        "# 48.11191026583244 | speed_up 33.242675980027485 | 8 layer, 512 dim, 8 heads\n",
        "# 44.65547102334247 | speed_up 26.942914724461087 | 18 layer, 512, 8 heads\n",
        "\n",
        "score"
      ]
    },
    {
      "cell_type": "code",
      "execution_count": null,
      "metadata": {
        "id": "u9_tJA_xzv9G"
      },
      "outputs": [],
      "source": [
        "from google.colab import runtime\n",
        "runtime.unassign()"
      ]
    },
    {
      "cell_type": "code",
      "execution_count": null,
      "metadata": {
        "id": "KtKhaoKDCKV9"
      },
      "outputs": [],
      "source": [
        "import os\n",
        "import json\n",
        "\n",
        "def import_metrics(path, dataset):\n",
        "    path_to_results = os.path.join(path, dataset, \"eval_res.json\")\n",
        "    with open(path_to_results) as json_file:\n",
        "        metrics = json.load(json_file)\n",
        "    return metrics\n",
        "\n",
        "\n",
        "EVALUATION_PATH = os.path.join(\"input_data_local\", \"eval_results\", \"lips_idf_2023\", \"tf_leapnet_DEFAULT\")\n",
        "metrics_dict = dict()\n",
        "metrics_dict[\"test\"] = import_metrics(EVALUATION_PATH, \"test\")\n",
        "metrics_dict[\"test_ood_topo\"] = import_metrics(EVALUATION_PATH, \"test_ood_topo\")"
      ]
    },
    {
      "cell_type": "code",
      "execution_count": null,
      "metadata": {
        "colab": {
          "base_uri": "https://localhost:8080/"
        },
        "id": "UHKyRJ3OCVT5",
        "outputId": "7e60d16e-ec85-45a9-f2c8-68c67ac02cbe"
      },
      "outputs": [
        {
          "data": {
            "text/plain": [
              "60.27227425101766"
            ]
          },
          "execution_count": 16,
          "metadata": {},
          "output_type": "execute_result"
        }
      ],
      "source": [
        "from utils.compute_score import compute_ml_subscore, compute_physics_subscore, SpeedMetric, configuration\n",
        "\n",
        "test_results_disc = {\"ML\": ['g','g','g','g','g','g'], \"Physics\": ['g','g','g','g','g','g','g','g']}\n",
        "test_ood_results_disc = {\"ML\": ['g','g','g','g','g','g'], \"Physics\": ['g','g','g','g','g','g','g','g']}\n",
        "coefficients = configuration[\"coefficients\"]\n",
        "max_speed_ratio_allowed = configuration[\"max_speed_ratio_allowed\"]\n",
        "\n",
        "test_ml_subscore = compute_ml_subscore(test_results_disc, key=\"test_ratio\")\n",
        "test_physics_subscore = compute_physics_subscore(test_results_disc, key=\"test_ratio\")\n",
        "test_subscore = test_ml_subscore + test_physics_subscore\n",
        "\n",
        "test_ood_ml_subscore = compute_ml_subscore(test_ood_results_disc, key=\"test_ood_ratio\")\n",
        "test_ood_physics_subscore = compute_physics_subscore(test_ood_results_disc, key=\"test_ood_ratio\")\n",
        "test_ood_subscore = test_ood_ml_subscore + test_ood_physics_subscore\n",
        "\n",
        "speed_up = 1. # LighSim2grid\n",
        "# speed_up = 3.77 # Security Analysis\n",
        "\n",
        "speedup_score = SpeedMetric(speedUp=speed_up)\n",
        "\n",
        "globalScore = 100*(coefficients[\"test\"]*test_subscore+coefficients[\"test_ood\"]*test_ood_subscore+coefficients[\"speed_up\"]*speedup_score)\n",
        "globalScore"
      ]
    },
    {
      "cell_type": "markdown",
      "metadata": {
        "id": "Xk5A3t9QnQSe"
      },
      "source": [
        "# Evaluate"
      ]
    },
    {
      "cell_type": "code",
      "execution_count": null,
      "metadata": {
        "id": "NK_4FqBFldbS"
      },
      "outputs": [],
      "source": [
        "EVAL_SAVE_PATH = get_path(EVALUATION_PATH, benchmark)\n",
        "tf_fc_metrics = benchmark.evaluate_simulator(augmented_simulator=tf_fc,\n",
        "                                              eval_batch_size=128,\n",
        "                                              dataset=\"all\",\n",
        "                                              shuffle=False,\n",
        "                                              save_path=None,\n",
        "                                              save_predictions=False\n",
        "                                             )\n",
        "benchmark_name"
      ]
    },
    {
      "cell_type": "markdown",
      "metadata": {
        "id": "RldGUuHxHNo8"
      },
      "source": [
        "## this"
      ]
    },
    {
      "cell_type": "code",
      "execution_count": null,
      "metadata": {
        "colab": {
          "base_uri": "https://localhost:8080/"
        },
        "id": "kO4akJG3HMA6",
        "outputId": "b25d6a3e-918c-4684-eeb6-ebe7b1655cd9"
      },
      "outputs": [
        {
          "data": {
            "text/plain": [
              "{'MSE_avg': {'a_or': 2.6493818759918213,\n",
              "  'a_ex': 5.420886039733887,\n",
              "  'p_or': 0.006804934702813625,\n",
              "  'p_ex': 0.0068869031965732574,\n",
              "  'v_or': 0.008070120587944984,\n",
              "  'v_ex': 0.0047674900852143764},\n",
              " 'MAE_avg': {'a_or': 0.7493286728858948,\n",
              "  'a_ex': 1.069725751876831,\n",
              "  'p_or': 0.049427714198827744,\n",
              "  'p_ex': 0.051184628158807755,\n",
              "  'v_or': 0.04797757416963577,\n",
              "  'v_ex': 0.03513362631201744},\n",
              " 'MAPE_avg': {'a_or': 142418783502336.0,\n",
              "  'a_ex': 225023923060736.0,\n",
              "  'p_or': 12844478234624.0,\n",
              "  'p_ex': 12468456783872.0,\n",
              "  'v_or': 14146263318528.0,\n",
              "  'v_ex': 7372431425536.0},\n",
              " 'MAPE_90_avg': {'a_or': 0.0032831775505863343,\n",
              "  'a_ex': 0.003308613875054752,\n",
              "  'p_or': 0.0031568914101477246,\n",
              "  'p_ex': 0.003099215847790477,\n",
              "  'v_or': 0.0005032335263248121,\n",
              "  'v_ex': 0.0005270154593007024},\n",
              " 'TIME_INF': 0.5552118039995548}"
            ]
          },
          "execution_count": 7,
          "metadata": {},
          "output_type": "execute_result"
        }
      ],
      "source": [
        "tf_fc_metrics[\"test\"][\"ML\"]"
      ]
    },
    {
      "cell_type": "code",
      "execution_count": null,
      "metadata": {
        "colab": {
          "base_uri": "https://localhost:8080/"
        },
        "id": "LXathhCdHMA6",
        "outputId": "a0f10e25-81d3-4c37-db65-7a8b19dc2550"
      },
      "outputs": [
        {
          "data": {
            "text/plain": [
              "{'CURRENT_POS': {'a_or': {'Error': 2052.58740234375,\n",
              "   'Violation_proportion': 0.00918},\n",
              "  'a_ex': {'Error': 3096.0048828125, 'Violation_proportion': 0.009395}},\n",
              " 'VOLTAGE_POS': {'v_or': {'Error': 149.36582946777344,\n",
              "   'Violation_proportion': 0.00976},\n",
              "  'v_ex': {'Error': 152.95953369140625, 'Violation_proportion': 0.0107}},\n",
              " 'LOSS_POS': {'loss_criterion': 1008.51874, 'violation_proportion': 0.146995},\n",
              " 'DISC_LINES': {'p_or': 1.0,\n",
              "  'p_ex': 1.0,\n",
              "  'a_or': 1.0,\n",
              "  'a_ex': 1.0,\n",
              "  'v_or': 1.0,\n",
              "  'v_ex': 1.0,\n",
              "  'violation_proportion': 1.0},\n",
              " 'CHECK_LOSS': {'violation_percentage': 0.2},\n",
              " 'CHECK_GC': {'violation_percentage': 99.68,\n",
              "  'mae': 0.18690997,\n",
              "  'wmape': 0.040203024},\n",
              " 'CHECK_LC': {'violation_percentage': 79.49642857142857,\n",
              "  'mae': 0.04779689596327288,\n",
              "  'mape': 0.002251925372985263},\n",
              " 'CHECK_VOLTAGE_EQ': {'prop_voltages_violation': 0.9918533333333334},\n",
              " 'CHECK_JOULE_LAW': {'violation_proportion': 0.4368066666666667,\n",
              "  'mae': 0.013169481248639722,\n",
              "  'wmape': 0.123023470670271}}"
            ]
          },
          "execution_count": 8,
          "metadata": {},
          "output_type": "execute_result"
        }
      ],
      "source": [
        "tf_fc_metrics[\"test\"][\"Physics\"]"
      ]
    },
    {
      "cell_type": "code",
      "execution_count": null,
      "metadata": {
        "colab": {
          "base_uri": "https://localhost:8080/"
        },
        "id": "Px73SL1xHMA6",
        "outputId": "8f36b0d4-e3d6-4745-e2e9-1ca12b7a3f66"
      },
      "outputs": [
        {
          "data": {
            "text/plain": [
              "{'MSE_avg': {'a_or': 5049.1845703125,\n",
              "  'a_ex': 7370.595703125,\n",
              "  'p_or': 13.839800834655762,\n",
              "  'p_ex': 13.630780220031738,\n",
              "  'v_or': 0.6086974143981934,\n",
              "  'v_ex': 0.44855839014053345},\n",
              " 'MAE_avg': {'a_or': 22.983509063720703,\n",
              "  'a_ex': 30.61013412475586,\n",
              "  'p_or': 1.8361631631851196,\n",
              "  'p_ex': 1.8168829679489136,\n",
              "  'v_or': 0.47250446677207947,\n",
              "  'v_ex': 0.3684189021587372},\n",
              " 'MAPE_avg': {'a_or': 1045393697669120.0,\n",
              "  'a_ex': 1519075708633088.0,\n",
              "  'p_or': 94084068802560.0,\n",
              "  'p_ex': 113208534761472.0,\n",
              "  'v_or': 86229857075200.0,\n",
              "  'v_ex': 65442227945472.0},\n",
              " 'MAPE_90_avg': {'a_or': 0.10463213308522482,\n",
              "  'a_ex': 0.1056751931571713,\n",
              "  'p_or': 0.10975987916880706,\n",
              "  'p_ex': 0.10928244820681124,\n",
              "  'v_or': 0.00698050520415862,\n",
              "  'v_ex': 0.007475095965187114},\n",
              " 'TIME_INF': 0.6810263419993134}"
            ]
          },
          "execution_count": 9,
          "metadata": {},
          "output_type": "execute_result"
        }
      ],
      "source": [
        "tf_fc_metrics[\"test_ood_topo\"][\"ML\"]"
      ]
    },
    {
      "cell_type": "code",
      "execution_count": null,
      "metadata": {
        "id": "u5lDdpJcHMA7"
      },
      "outputs": [],
      "source": [
        "phys = tf_fc_metrics[\"test\"][\"Physics\"]\n",
        "\n",
        "print(\"1) Current positivity violation:\", (phys[\"CURRENT_POS\"][\"a_or\"][\"Violation_proportion\"]+phys[\"CURRENT_POS\"][\"a_ex\"][\"Violation_proportion\"])/2)#[\"a_or\"][\"Violation_proportion\"]\n",
        "if phys[\"VOLTAGE_POS\"]:\n",
        "    print(\"2) Voltage positivity violation:\", (phys[\"VOLTAGE_POS\"][\"v_or\"][\"Violation_proportion\"]+phys[\"VOLTAGE_POS\"][\"v_ex\"][\"Violation_proportion\"])/2)\n",
        "else:\n",
        "    print(\"2) Voltage positivity violation:\", 0)\n",
        "print(\"3) Loss positivity violation:\", phys[\"LOSS_POS\"][\"violation_proportion\"])\n",
        "print(\"4) Disconnected lines violation:\", phys[\"DISC_LINES\"])\n",
        "print(\"5) Violation of loss to be between [1,4]% of production:\", phys[\"CHECK_LOSS\"][\"violation_percentage\"])\n",
        "print(\"6) Violation of global conservation: {}% and its weighted mape: {}\".format(phys[\"CHECK_GC\"][\"violation_percentage\"], phys[\"CHECK_GC\"][\"wmape\"]))\n",
        "print(\"7) Violation of local conservation: {}% and its weighted mape: {}\".format(phys[\"CHECK_LC\"][\"violation_percentage\"], phys[\"CHECK_LC\"][\"mape\"]))\n",
        "print(\"8) Violation proportion of voltage equality at subs:\", phys[\"CHECK_VOLTAGE_EQ\"][\"prop_voltages_violation\"])"
      ]
    },
    {
      "cell_type": "markdown",
      "metadata": {
        "id": "4Hx1n5u-pEd3"
      },
      "source": [
        "## b1"
      ]
    },
    {
      "cell_type": "code",
      "execution_count": null,
      "metadata": {
        "colab": {
          "base_uri": "https://localhost:8080/"
        },
        "id": "rMr4IL1Pe4v6",
        "outputId": "8419c337-73f1-4da2-ac33-3fdbac9c3060"
      },
      "outputs": [
        {
          "data": {
            "text/plain": [
              "{'MSE_avg': {'a_or': 1.7248914241790771, 'a_ex': 3.2528140544891357},\n",
              " 'MAE_avg': {'a_or': 0.755136251449585, 'a_ex': 1.0725153684616089},\n",
              " 'MAPE_avg': {'a_or': 229841953619968.0, 'a_ex': 360194714370048.0},\n",
              " 'MAPE_90_avg': {'a_or': 0.0028101804701745245, 'a_ex': 0.0027460730909808664},\n",
              " 'TIME_INF': 0.6930989120000959}"
            ]
          },
          "execution_count": 6,
          "metadata": {},
          "output_type": "execute_result"
        }
      ],
      "source": [
        "tf_fc_metrics[\"test\"][\"ML\"] # this, b1"
      ]
    },
    {
      "cell_type": "code",
      "execution_count": null,
      "metadata": {
        "colab": {
          "base_uri": "https://localhost:8080/"
        },
        "id": "bV17wzv0e69p",
        "outputId": "1f3d931d-8e0f-46d7-dd24-27ad6429627a"
      },
      "outputs": [
        {
          "data": {
            "text/plain": [
              "{'CURRENT_POS': {'a_or': {'Error': 4648.5322265625,\n",
              "   'Violation_proportion': 0.01981},\n",
              "  'a_ex': {'Error': 7252.73681640625, 'Violation_proportion': 0.019355}}}"
            ]
          },
          "execution_count": 7,
          "metadata": {},
          "output_type": "execute_result"
        }
      ],
      "source": [
        "tf_fc_metrics[\"test\"][\"Physics\"] # this"
      ]
    },
    {
      "cell_type": "code",
      "execution_count": null,
      "metadata": {
        "colab": {
          "base_uri": "https://localhost:8080/"
        },
        "id": "Vr5dlqeJ9hB9",
        "outputId": "9b324125-cf0e-4dde-8d35-98aa9ca30200"
      },
      "outputs": [
        {
          "data": {
            "text/plain": [
              "{'MSE_avg': {'a_or': 9340.43359375, 'a_ex': 15330.8017578125},\n",
              " 'MAE_avg': {'a_or': 44.300376892089844, 'a_ex': 59.453521728515625},\n",
              " 'MAPE_avg': {'a_or': 3.277412448914637e+16, 'a_ex': 4.899427678840422e+16},\n",
              " 'MAPE_90_avg': {'a_or': 0.20768380483642468, 'a_ex': 0.20786264408335828},\n",
              " 'TIME_INF': 0.6934249860005366}"
            ]
          },
          "execution_count": 8,
          "metadata": {},
          "output_type": "execute_result"
        }
      ],
      "source": [
        "tf_fc_metrics[\"test_ood_topo\"][\"ML\"] # this"
      ]
    },
    {
      "cell_type": "code",
      "execution_count": null,
      "metadata": {
        "colab": {
          "base_uri": "https://localhost:8080/"
        },
        "id": "4CO6DGGI1iGB",
        "outputId": "d9dcc8a1-6997-4357-a49b-1fd33097fb47"
      },
      "outputs": [
        {
          "data": {
            "text/plain": [
              "{'MSE_avg': {'a_or': 1.784806251525879, 'a_ex': 2.854123830795288},\n",
              " 'MAE_avg': {'a_or': 0.798844039440155, 'a_ex': 1.0281407833099365},\n",
              " 'MAPE_avg': {'a_or': 228601379160064.0, 'a_ex': 290862433042432.0},\n",
              " 'MAPE_90_avg': {'a_or': 0.002680124914613662, 'a_ex': 0.0027341529372285596},\n",
              " 'TIME_INF': 0.6518575379996037}"
            ]
          },
          "execution_count": 11,
          "metadata": {},
          "output_type": "execute_result"
        }
      ],
      "source": [
        "tf_fc_metrics[\"test\"][\"ML\"] # best, transformer layernorm d_model=dff=512 layers=6 heads=8"
      ]
    },
    {
      "cell_type": "code",
      "execution_count": null,
      "metadata": {
        "colab": {
          "base_uri": "https://localhost:8080/"
        },
        "id": "hhuEI68rb52j",
        "outputId": "bd4adfb2-4ed3-4587-e408-a3c7c1aa7600"
      },
      "outputs": [
        {
          "data": {
            "text/plain": [
              "{'CURRENT_POS': {'a_or': {'Error': 8489.2646484375,\n",
              "   'Violation_proportion': 0.039765},\n",
              "  'a_ex': {'Error': 10200.7568359375, 'Violation_proportion': 0.03856}}}"
            ]
          },
          "execution_count": 12,
          "metadata": {},
          "output_type": "execute_result"
        }
      ],
      "source": [
        "tf_fc_metrics[\"test\"][\"Physics\"] # best, transformer layernorm d_model=dff=512 layers=6 heads=8"
      ]
    },
    {
      "cell_type": "code",
      "execution_count": null,
      "metadata": {
        "colab": {
          "base_uri": "https://localhost:8080/"
        },
        "id": "tDyM87yCYiDB",
        "outputId": "6ed3638a-ab65-4cbf-dc45-caf675c2dd3b"
      },
      "outputs": [
        {
          "data": {
            "text/plain": [
              "{'MSE_avg': {'a_or': 9912.9638671875, 'a_ex': 17243.9375},\n",
              " 'MAE_avg': {'a_or': 45.83586883544922, 'a_ex': 62.482566833496094},\n",
              " 'MAPE_avg': {'a_or': 3.4595882112385024e+16, 'a_ex': 5.423528364579226e+16},\n",
              " 'MAPE_90_avg': {'a_or': 0.21768888555268973, 'a_ex': 0.21705632176991366},\n",
              " 'TIME_INF': 0.6531008499987365}"
            ]
          },
          "execution_count": 14,
          "metadata": {},
          "output_type": "execute_result"
        }
      ],
      "source": [
        "tf_fc_metrics[\"test_ood_topo\"][\"ML\"] # best, transformer layernorm d_model=dff=512 layers=6 heads=8"
      ]
    },
    {
      "cell_type": "markdown",
      "metadata": {
        "id": "P5dt7FfE6uW3"
      },
      "source": [
        "## B2"
      ]
    },
    {
      "cell_type": "code",
      "execution_count": null,
      "metadata": {
        "colab": {
          "base_uri": "https://localhost:8080/"
        },
        "id": "LzvJNf9BiZhH",
        "outputId": "092cb929-4f0c-4206-d9fd-10dc6313c5ad"
      },
      "outputs": [
        {
          "data": {
            "text/plain": [
              "{'MSE_avg': {'a_or': 3.4163074493408203,\n",
              "  'a_ex': 7.435972690582275,\n",
              "  'p_or': 0.00812915526330471,\n",
              "  'p_ex': 0.007996125146746635,\n",
              "  'v_or': 0.009718255139887333,\n",
              "  'v_ex': 0.007805672008544207},\n",
              " 'MAE_avg': {'a_or': 0.8820344805717468,\n",
              "  'a_ex': 1.2305068969726562,\n",
              "  'p_or': 0.05603257939219475,\n",
              "  'p_ex': 0.055735811591148376,\n",
              "  'v_or': 0.0538327731192112,\n",
              "  'v_ex': 0.042450688779354095},\n",
              " 'MAPE_avg': {'a_or': 156576623099904.0,\n",
              "  'a_ex': 227041853046784.0,\n",
              "  'p_or': 12760949719040.0,\n",
              "  'p_ex': 12954137264128.0,\n",
              "  'v_or': 21397730492416.0,\n",
              "  'v_ex': 19181099548672.0},\n",
              " 'MAPE_90_avg': {'a_or': 0.004189981612305778,\n",
              "  'a_ex': 0.004246600014431888,\n",
              "  'p_or': 0.0036684688836049915,\n",
              "  'p_ex': 0.003685390282287055,\n",
              "  'v_or': 0.0006132913072607021,\n",
              "  'v_ex': 0.0006335886259249298},\n",
              " 'TIME_INF': 0.6836444879991177}"
            ]
          },
          "execution_count": 7,
          "metadata": {},
          "output_type": "execute_result"
        }
      ],
      "source": [
        "tf_fc_metrics[\"test\"][\"ML\"] # this"
      ]
    },
    {
      "cell_type": "code",
      "execution_count": null,
      "metadata": {
        "colab": {
          "base_uri": "https://localhost:8080/"
        },
        "id": "C0x26mUh0g5M",
        "outputId": "4b3f671d-4482-4965-9494-fd355087d0bb"
      },
      "outputs": [
        {
          "data": {
            "text/plain": [
              "{'CURRENT_POS': {'a_or': {'Error': 3108.304443359375,\n",
              "   'Violation_proportion': 0.01267},\n",
              "  'a_ex': {'Error': 5611.6328125, 'Violation_proportion': 0.01287}},\n",
              " 'VOLTAGE_POS': {'v_or': {'Error': 416.2125244140625,\n",
              "   'Violation_proportion': 0.010835},\n",
              "  'v_ex': {'Error': 284.34210205078125, 'Violation_proportion': 0.009535}},\n",
              " 'LOSS_POS': {'loss_criterion': 841.58325, 'violation_proportion': 0.15677},\n",
              " 'DISC_LINES': {'p_or': 1.0,\n",
              "  'p_ex': 1.0,\n",
              "  'a_or': 1.0,\n",
              "  'a_ex': 1.0,\n",
              "  'v_or': 1.0,\n",
              "  'v_ex': 1.0,\n",
              "  'violation_proportion': 1.0},\n",
              " 'CHECK_LOSS': {'violation_percentage': 0.24},\n",
              " 'CHECK_GC': {'violation_percentage': 99.35000000000001,\n",
              "  'mae': 0.116668105,\n",
              "  'wmape': 0.02509449},\n",
              " 'CHECK_LC': {'violation_percentage': 80.79571428571428,\n",
              "  'mae': 0.05077320722671492,\n",
              "  'mape': 0.0023921526977303074},\n",
              " 'CHECK_VOLTAGE_EQ': {'prop_voltages_violation': 0.9936733333333333},\n",
              " 'CHECK_JOULE_LAW': {'violation_proportion': 0.2858133333333333,\n",
              "  'mae': 0.00849332081342187,\n",
              "  'wmape': 0.08036202025490415}}"
            ]
          },
          "execution_count": 8,
          "metadata": {},
          "output_type": "execute_result"
        }
      ],
      "source": [
        "tf_fc_metrics[\"test\"][\"Physics\"] # this"
      ]
    },
    {
      "cell_type": "code",
      "execution_count": null,
      "metadata": {
        "colab": {
          "base_uri": "https://localhost:8080/"
        },
        "id": "VFRgVoRR0l5L",
        "outputId": "e5398dd3-ef96-4800-b789-ee6b2088b505"
      },
      "outputs": [
        {
          "data": {
            "text/plain": [
              "{'MSE_avg': {'a_or': 4951.73876953125,\n",
              "  'a_ex': 7253.33837890625,\n",
              "  'p_or': 12.615303993225098,\n",
              "  'p_ex': 12.286676406860352,\n",
              "  'v_or': 0.798795759677887,\n",
              "  'v_ex': 0.4736838638782501},\n",
              " 'MAE_avg': {'a_or': 23.74113655090332,\n",
              "  'a_ex': 31.379329681396484,\n",
              "  'p_or': 1.825121283531189,\n",
              "  'p_ex': 1.7927690744400024,\n",
              "  'v_or': 0.5396459102630615,\n",
              "  'v_ex': 0.3918887972831726},\n",
              " 'MAPE_avg': {'a_or': 836157587849216.0,\n",
              "  'a_ex': 1346239111102464.0,\n",
              "  'p_or': 91425962196992.0,\n",
              "  'p_ex': 112682996858880.0,\n",
              "  'v_or': 81713589911552.0,\n",
              "  'v_ex': 65628731867136.0},\n",
              " 'MAPE_90_avg': {'a_or': 0.10341826005645646,\n",
              "  'a_ex': 0.10392443256988113,\n",
              "  'p_or': 0.10687728993259207,\n",
              "  'p_ex': 0.1064772475787747,\n",
              "  'v_or': 0.007269532575512265,\n",
              "  'v_ex': 0.007646203201812851},\n",
              " 'TIME_INF': 0.5293780879992482}"
            ]
          },
          "execution_count": 9,
          "metadata": {},
          "output_type": "execute_result"
        }
      ],
      "source": [
        "tf_fc_metrics[\"test_ood_topo\"][\"ML\"] # this"
      ]
    },
    {
      "cell_type": "code",
      "execution_count": null,
      "metadata": {
        "colab": {
          "base_uri": "https://localhost:8080/"
        },
        "id": "p4lR5cY-0pqp",
        "outputId": "9b703988-85b1-48a2-d3d0-2844c805d001"
      },
      "outputs": [
        {
          "name": "stdout",
          "output_type": "stream",
          "text": [
            "1) Current positivity violation: 0.01277\n",
            "2) Voltage positivity violation: 0.010185\n",
            "3) Loss positivity violation: 0.15677\n",
            "4) Disconnected lines violation: {'p_or': 1.0, 'p_ex': 1.0, 'a_or': 1.0, 'a_ex': 1.0, 'v_or': 1.0, 'v_ex': 1.0, 'violation_proportion': 1.0}\n",
            "5) Violation of loss to be between [1,4]% of production: 0.24\n",
            "6) Violation of global conservation: 99.35000000000001% and its weighted mape: 0.025094490498304367\n",
            "7) Violation of local conservation: 80.79571428571428% and its weighted mape: 0.0023921526977303074\n",
            "8) Violation proportion of voltage equality at subs: 0.9936733333333333\n"
          ]
        }
      ],
      "source": [
        "# this\n",
        "phys = tf_fc_metrics[\"test\"][\"Physics\"]\n",
        "\n",
        "print(\"1) Current positivity violation:\", (phys[\"CURRENT_POS\"][\"a_or\"][\"Violation_proportion\"]+phys[\"CURRENT_POS\"][\"a_ex\"][\"Violation_proportion\"])/2)#[\"a_or\"][\"Violation_proportion\"]\n",
        "if phys[\"VOLTAGE_POS\"]:\n",
        "    print(\"2) Voltage positivity violation:\", (phys[\"VOLTAGE_POS\"][\"v_or\"][\"Violation_proportion\"]+phys[\"VOLTAGE_POS\"][\"v_ex\"][\"Violation_proportion\"])/2)\n",
        "else:\n",
        "    print(\"2) Voltage positivity violation:\", 0)\n",
        "print(\"3) Loss positivity violation:\", phys[\"LOSS_POS\"][\"violation_proportion\"])\n",
        "print(\"4) Disconnected lines violation:\", phys[\"DISC_LINES\"])\n",
        "print(\"5) Violation of loss to be between [1,4]% of production:\", phys[\"CHECK_LOSS\"][\"violation_percentage\"])\n",
        "print(\"6) Violation of global conservation: {}% and its weighted mape: {}\".format(phys[\"CHECK_GC\"][\"violation_percentage\"], phys[\"CHECK_GC\"][\"wmape\"]))\n",
        "print(\"7) Violation of local conservation: {}% and its weighted mape: {}\".format(phys[\"CHECK_LC\"][\"violation_percentage\"], phys[\"CHECK_LC\"][\"mape\"]))\n",
        "print(\"8) Violation proportion of voltage equality at subs:\", phys[\"CHECK_VOLTAGE_EQ\"][\"prop_voltages_violation\"])"
      ]
    },
    {
      "cell_type": "code",
      "execution_count": null,
      "metadata": {
        "colab": {
          "base_uri": "https://localhost:8080/"
        },
        "id": "Y3yNXdXOqXXy",
        "outputId": "96f454b1-676b-4f22-fc1e-9e1bfd7d22ed"
      },
      "outputs": [
        {
          "data": {
            "text/plain": [
              "{'MSE_avg': {'a_or': 3.3345768451690674,\n",
              "  'a_ex': 7.118857383728027,\n",
              "  'p_or': 0.012164519168436527,\n",
              "  'p_ex': 0.011876890435814857,\n",
              "  'v_or': 0.022410036996006966,\n",
              "  'v_ex': 0.015381082892417908},\n",
              " 'MAE_avg': {'a_or': 0.938480794429779,\n",
              "  'a_ex': 1.3300251960754395,\n",
              "  'p_or': 0.068013496696949,\n",
              "  'p_ex': 0.06734646111726761,\n",
              "  'v_or': 0.06679807603359222,\n",
              "  'v_ex': 0.04887884110212326},\n",
              " 'MAPE_avg': {'a_or': 160140137332736.0,\n",
              "  'a_ex': 244198452232192.0,\n",
              "  'p_or': 14076988096512.0,\n",
              "  'p_ex': 14900682293248.0,\n",
              "  'v_or': 43712197427200.0,\n",
              "  'v_ex': 35290919993344.0},\n",
              " 'MAPE_90_avg': {'a_or': 0.004435715727755689,\n",
              "  'a_ex': 0.004490790138938692,\n",
              "  'p_or': 0.004508825384497544,\n",
              "  'p_ex': 0.004568100071565232,\n",
              "  'v_or': 0.0006994158451197991,\n",
              "  'v_ex': 0.000686637240927417},\n",
              " 'TIME_INF': 0.5706053100002464}"
            ]
          },
          "execution_count": 13,
          "metadata": {},
          "output_type": "execute_result"
        }
      ],
      "source": [
        "tf_fc_metrics[\"test\"][\"ML\"] # best"
      ]
    },
    {
      "cell_type": "code",
      "execution_count": null,
      "metadata": {
        "colab": {
          "base_uri": "https://localhost:8080/"
        },
        "id": "W7eR2f2I6scX",
        "outputId": "e128f93c-0210-4e07-b9a5-7c41f029d562"
      },
      "outputs": [
        {
          "data": {
            "text/plain": [
              "{'CURRENT_POS': {'a_or': {'Error': 2351.00146484375,\n",
              "   'Violation_proportion': 0.01195},\n",
              "  'a_ex': {'Error': 6405.8076171875, 'Violation_proportion': 0.012055}},\n",
              " 'VOLTAGE_POS': {'v_or': {'Error': 885.3673095703125,\n",
              "   'Violation_proportion': 0.01359},\n",
              "  'v_ex': {'Error': 627.9515380859375, 'Violation_proportion': 0.013135}},\n",
              " 'LOSS_POS': {'loss_criterion': 1540.0264, 'violation_proportion': 0.202105},\n",
              " 'DISC_LINES': {'p_or': 1.0,\n",
              "  'p_ex': 1.0,\n",
              "  'a_or': 1.0,\n",
              "  'a_ex': 1.0,\n",
              "  'v_or': 1.0,\n",
              "  'v_ex': 1.0,\n",
              "  'violation_proportion': 1.0},\n",
              " 'CHECK_LOSS': {'violation_percentage': 0.12},\n",
              " 'CHECK_GC': {'violation_percentage': 99.51,\n",
              "  'mae': 0.15969355,\n",
              "  'wmape': 0.03434896},\n",
              " 'CHECK_LC': {'violation_percentage': 85.33714285714285,\n",
              "  'mae': 0.06889437722883054,\n",
              "  'mape': 0.003245921999973283},\n",
              " 'CHECK_VOLTAGE_EQ': {'prop_voltages_violation': 0.9899733333333334},\n",
              " 'CHECK_JOULE_LAW': {'violation_proportion': 0.36358666666666667,\n",
              "  'mae': 0.011123282501521616,\n",
              "  'wmape': 0.1066430275099315}}"
            ]
          },
          "execution_count": 14,
          "metadata": {},
          "output_type": "execute_result"
        }
      ],
      "source": [
        "tf_fc_metrics[\"test\"][\"Physics\"] # best"
      ]
    },
    {
      "cell_type": "code",
      "execution_count": null,
      "metadata": {
        "id": "1ManQasTid01"
      },
      "outputs": [],
      "source": [
        "phys = {'CURRENT_POS': {'a_or': {'Error': 2351.00146484375,\n",
        "   'Violation_proportion': 0.01195},\n",
        "  'a_ex': {'Error': 6405.8076171875, 'Violation_proportion': 0.012055}},\n",
        " 'VOLTAGE_POS': {'v_or': {'Error': 885.3673095703125,\n",
        "   'Violation_proportion': 0.01359},\n",
        "  'v_ex': {'Error': 627.9515380859375, 'Violation_proportion': 0.013135}},\n",
        " 'LOSS_POS': {'loss_criterion': 1540.0264, 'violation_proportion': 0.202105},\n",
        " 'DISC_LINES': {'p_or': 1.0,\n",
        "  'p_ex': 1.0,\n",
        "  'a_or': 1.0,\n",
        "  'a_ex': 1.0,\n",
        "  'v_or': 1.0,\n",
        "  'v_ex': 1.0,\n",
        "  'violation_proportion': 1.0},\n",
        " 'CHECK_LOSS': {'violation_percentage': 0.12},\n",
        " 'CHECK_GC': {'violation_percentage': 99.51,\n",
        "  'mae': 0.15969355,\n",
        "  'wmape': 0.03434896},\n",
        " 'CHECK_LC': {'violation_percentage': 85.33714285714285,\n",
        "  'mae': 0.06889437722883054,\n",
        "  'mape': 0.003245921999973283},\n",
        " 'CHECK_VOLTAGE_EQ': {'prop_voltages_violation': 0.9899733333333334},\n",
        " 'CHECK_JOULE_LAW': {'violation_proportion': 0.36358666666666667,\n",
        "  'mae': 0.011123282501521616,\n",
        "  'wmape': 0.1066430275099315}}"
      ]
    },
    {
      "cell_type": "code",
      "execution_count": null,
      "metadata": {
        "colab": {
          "base_uri": "https://localhost:8080/"
        },
        "id": "xoVyy8Ngia4W",
        "outputId": "9b4ffec3-f465-4bfd-cd5a-4755e95f746e"
      },
      "outputs": [
        {
          "name": "stdout",
          "output_type": "stream",
          "text": [
            "1) Current positivity violation: 0.0120025\n",
            "2) Voltage positivity violation: 0.0133625\n",
            "3) Loss positivity violation: 0.202105\n",
            "4) Disconnected lines violation: {'p_or': 1.0, 'p_ex': 1.0, 'a_or': 1.0, 'a_ex': 1.0, 'v_or': 1.0, 'v_ex': 1.0, 'violation_proportion': 1.0}\n",
            "5) Violation of loss to be between [1,4]% of production: 0.12\n",
            "6) Violation of global conservation: 99.51% and its weighted mape: 0.03434896\n",
            "7) Violation of local conservation: 85.33714285714285% and its weighted mape: 0.003245921999973283\n",
            "8) Violation proportion of voltage equality at subs: 0.9899733333333334\n"
          ]
        }
      ],
      "source": [
        "print(\"1) Current positivity violation:\", (phys[\"CURRENT_POS\"][\"a_or\"][\"Violation_proportion\"]+phys[\"CURRENT_POS\"][\"a_ex\"][\"Violation_proportion\"])/2)#[\"a_or\"][\"Violation_proportion\"]\n",
        "if phys[\"VOLTAGE_POS\"]:\n",
        "    print(\"2) Voltage positivity violation:\", (phys[\"VOLTAGE_POS\"][\"v_or\"][\"Violation_proportion\"]+phys[\"VOLTAGE_POS\"][\"v_ex\"][\"Violation_proportion\"])/2)\n",
        "else:\n",
        "    print(\"2) Voltage positivity violation:\", 0)\n",
        "print(\"3) Loss positivity violation:\", phys[\"LOSS_POS\"][\"violation_proportion\"])\n",
        "print(\"4) Disconnected lines violation:\", phys[\"DISC_LINES\"])\n",
        "print(\"5) Violation of loss to be between [1,4]% of production:\", phys[\"CHECK_LOSS\"][\"violation_percentage\"])\n",
        "print(\"6) Violation of global conservation: {}% and its weighted mape: {}\".format(phys[\"CHECK_GC\"][\"violation_percentage\"], phys[\"CHECK_GC\"][\"wmape\"]))\n",
        "print(\"7) Violation of local conservation: {}% and its weighted mape: {}\".format(phys[\"CHECK_LC\"][\"violation_percentage\"], phys[\"CHECK_LC\"][\"mape\"]))\n",
        "print(\"8) Violation proportion of voltage equality at subs:\", phys[\"CHECK_VOLTAGE_EQ\"][\"prop_voltages_violation\"])"
      ]
    },
    {
      "cell_type": "code",
      "execution_count": null,
      "metadata": {
        "colab": {
          "base_uri": "https://localhost:8080/"
        },
        "id": "utftupHm6t4Z",
        "outputId": "9ac9f75f-bf49-497f-f4af-177b52932059"
      },
      "outputs": [
        {
          "data": {
            "text/plain": [
              "{'MSE_avg': {'a_or': 5894.8837890625,\n",
              "  'a_ex': 8586.091796875,\n",
              "  'p_or': 16.85958480834961,\n",
              "  'p_ex': 16.473779678344727,\n",
              "  'v_or': 0.8979676365852356,\n",
              "  'v_ex': 0.5282770991325378},\n",
              " 'MAE_avg': {'a_or': 28.1899356842041,\n",
              "  'a_ex': 36.7491455078125,\n",
              "  'p_or': 2.171426296234131,\n",
              "  'p_ex': 2.154911756515503,\n",
              "  'v_or': 0.5106374025344849,\n",
              "  'v_ex': 0.3797556161880493},\n",
              " 'MAPE_avg': {'a_or': 1004337971068928.0,\n",
              "  'a_ex': 1590081047494656.0,\n",
              "  'p_or': 118584684576768.0,\n",
              "  'p_ex': 145763690610688.0,\n",
              "  'v_or': 149274792820736.0,\n",
              "  'v_ex': 124617226190848.0},\n",
              " 'MAPE_90_avg': {'a_or': 0.12828775049733776,\n",
              "  'a_ex': 0.12835795985201354,\n",
              "  'p_or': 0.13189085260852623,\n",
              "  'p_ex': 0.13114805391786594,\n",
              "  'v_or': 0.007774807833734673,\n",
              "  'v_ex': 0.00811277348159304},\n",
              " 'TIME_INF': 0.6962272950004262}"
            ]
          },
          "execution_count": 15,
          "metadata": {},
          "output_type": "execute_result"
        }
      ],
      "source": [
        "tf_fc_metrics[\"test_ood_topo\"][\"ML\"] # best"
      ]
    },
    {
      "cell_type": "code",
      "execution_count": null,
      "metadata": {
        "id": "DNSHmzFgpsTf"
      },
      "outputs": [],
      "source": [
        "from google.colab import runtime\n",
        "runtime.unassign()"
      ]
    }
  ],
  "metadata": {
    "accelerator": "GPU",
    "colab": {
      "collapsed_sections": [
        "pd8QYkHPX33x",
        "kzhtEWfuzkbU",
        "U8Qri0H0zsWv",
        "C9O8lKw8YOeZ",
        "Xk5A3t9QnQSe",
        "RldGUuHxHNo8",
        "4Hx1n5u-pEd3",
        "P5dt7FfE6uW3"
      ],
      "gpuType": "T4",
      "provenance": []
    },
    "kernelspec": {
      "display_name": "Python 3",
      "name": "python3"
    },
    "language_info": {
      "name": "python"
    }
  },
  "nbformat": 4,
  "nbformat_minor": 0
}