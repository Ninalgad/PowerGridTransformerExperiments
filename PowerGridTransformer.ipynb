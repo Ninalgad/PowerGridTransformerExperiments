{
  "nbformat": 4,
  "nbformat_minor": 0,
  "metadata": {
    "colab": {
      "provenance": [],
      "collapsed_sections": [
        "8I36D4HcYMVX",
        "kzhtEWfuzkbU",
        "U8Qri0H0zsWv",
        "C9O8lKw8YOeZ",
        "Xk5A3t9QnQSe",
        "4Hx1n5u-pEd3"
      ],
      "gpuType": "T4"
    },
    "kernelspec": {
      "name": "python3",
      "display_name": "Python 3"
    },
    "language_info": {
      "name": "python"
    },
    "accelerator": "GPU"
  },
  "cells": [
    {
      "cell_type": "markdown",
      "source": [
        "[coda](https://www.codabench.org/competitions/2378/) [git](https://github.com/IRT-SystemX/LIPS/tree/fb4048e274fb75dd963bd538429b6ece2df757d8) [example](https://github.com/IRT-SystemX/LIPS/blob/fb4048e274fb75dd963bd538429b6ece2df757d8/getting_started/PowerGridUsecase/04_Complete_example.ipynb) [paper](https://openreview.net/pdf?id=ObD_o92z4p)"
      ],
      "metadata": {
        "id": "ux-kgzZwxOlY"
      }
    },
    {
      "cell_type": "markdown",
      "source": [
        "# Setup"
      ],
      "metadata": {
        "id": "vO2maIkrpZ7R"
      }
    },
    {
      "cell_type": "code",
      "execution_count": null,
      "metadata": {
        "id": "Thbgwr86xIkE"
      },
      "outputs": [],
      "source": [
        "!git clone https://github.com/IRT-SystemX/LIPS.git"
      ]
    },
    {
      "cell_type": "code",
      "source": [
        "!pip install -q Grid2Op==1.9.8 lightsim2grid==0.7.5 leap-net==0.0.5 \"numpy<1.24\""
      ],
      "metadata": {
        "id": "wD3hK5wN1y8S"
      },
      "execution_count": null,
      "outputs": []
    },
    {
      "cell_type": "code",
      "source": [
        "exit()"
      ],
      "metadata": {
        "id": "5QbAmNYQelmY"
      },
      "execution_count": 5,
      "outputs": []
    },
    {
      "cell_type": "markdown",
      "source": [
        "## custom model"
      ],
      "metadata": {
        "id": "AP4kI0xWX5mF"
      }
    },
    {
      "cell_type": "code",
      "source": [
        "%%writefile /content/LIPS/lips/augmented_simulators/tensorflow_models/transformer_utils.py\n",
        "import numpy as np\n",
        "import tensorflow as tf\n",
        "\n",
        "\n",
        "def get_angles(pos, i, d_model):\n",
        "  angle_rates = 1 / np.power(10000, (2 * (i//2)) / np.float32(d_model))\n",
        "  return pos * angle_rates\n",
        "\n",
        "def positional_encoding(position, d_model):\n",
        "  angle_rads = get_angles(np.arange(position)[:, np.newaxis],\n",
        "                          np.arange(d_model)[np.newaxis, :],\n",
        "                          d_model)\n",
        "\n",
        "  # apply sin to even indices in the array; 2i\n",
        "  angle_rads[:, 0::2] = np.sin(angle_rads[:, 0::2])\n",
        "\n",
        "  # apply cos to odd indices in the array; 2i+1\n",
        "  angle_rads[:, 1::2] = np.cos(angle_rads[:, 1::2])\n",
        "\n",
        "  pos_encoding = angle_rads[np.newaxis, ...]\n",
        "\n",
        "  return tf.cast(pos_encoding, dtype=tf.float32)\n",
        "\n",
        "def scaled_dot_product_attention(q, k, v, mask):\n",
        "  \"\"\"Calculate the attention weights.\n",
        "  q, k, v must have matching leading dimensions.\n",
        "  k, v must have matching penultimate dimension, i.e.: seq_len_k = seq_len_v.\n",
        "  The mask has different shapes depending on its type(padding or look ahead)\n",
        "  but it must be broadcastable for addition.\n",
        "\n",
        "  Args:\n",
        "    q: query shape == (..., seq_len_q, depth)\n",
        "    k: key shape == (..., seq_len_k, depth)\n",
        "    v: value shape == (..., seq_len_v, depth_v)\n",
        "    mask: Float tensor with shape broadcastable\n",
        "          to (..., seq_len_q, seq_len_k). Defaults to None.\n",
        "\n",
        "  Returns:\n",
        "    output, attention_weights\n",
        "  \"\"\"\n",
        "\n",
        "  matmul_qk = tf.matmul(q, k, transpose_b=True)  # (..., seq_len_q, seq_len_k)\n",
        "\n",
        "  # scale matmul_qk\n",
        "  dk = tf.cast(tf.shape(k)[-1], tf.float32)\n",
        "  scaled_attention_logits = matmul_qk / tf.math.sqrt(dk)\n",
        "\n",
        "  # add the mask to the scaled tensor.\n",
        "  if mask is not None:\n",
        "    scaled_attention_logits += (mask * -1e9)\n",
        "\n",
        "  # softmax is normalized on the last axis (seq_len_k) so that the scores\n",
        "  # add up to 1.\n",
        "  attention_weights = tf.nn.softmax(scaled_attention_logits, axis=-1)  # (..., seq_len_q, seq_len_k)\n",
        "  output = tf.matmul(attention_weights, v)  # (..., seq_len_q, depth_v)\n",
        "\n",
        "  return output, attention_weights\n",
        "\n",
        "\n",
        "class MultiHeadAttention(tf.keras.layers.Layer):\n",
        "  def __init__(self, d_model, num_heads):\n",
        "    super(MultiHeadAttention, self).__init__()\n",
        "    self.num_heads = num_heads\n",
        "    self.d_model = d_model\n",
        "\n",
        "    assert d_model % self.num_heads == 0\n",
        "\n",
        "    self.wq = tf.keras.layers.Dense(d_model)\n",
        "    self.wk = tf.keras.layers.Dense(d_model)\n",
        "    self.wv = tf.keras.layers.Dense(d_model)\n",
        "\n",
        "    self.dense = tf.keras.layers.Dense(d_model)\n",
        "\n",
        "  def split_heads(self, x):\n",
        "    heads = tf.split(x, self.num_heads, axis=-1)\n",
        "    x = tf.stack(heads, axis=1)\n",
        "    return x\n",
        "\n",
        "  def call(self, v, k, q, mask=None, training=False):\n",
        "    seq_len_q = tf.shape(q)[1]\n",
        "\n",
        "    q = self.wq(q)  # (batch_size, seq_len, d_model)\n",
        "    k = self.wk(k)  # (batch_size, seq_len, d_model)\n",
        "    v = self.wv(v)  # (batch_size, seq_len, d_model)\n",
        "\n",
        "    q = self.split_heads(q)  # (batch_size, num_heads, seq_len_q, depth)\n",
        "    k = self.split_heads(k)  # (batch_size, num_heads, seq_len_k, depth)\n",
        "    v = self.split_heads(v)  # (batch_size, num_heads, seq_len_v, depth)\n",
        "\n",
        "    q = tf.keras.layers.GaussianNoise(.1)(q, training=training)\n",
        "    attention_weights = {}\n",
        "    # scaled_attention.shape == (batch_size, num_heads, seq_len_q, depth)\n",
        "    # attention_weights.shape == (batch_size, num_heads, seq_len_q, seq_len_k)\n",
        "    scaled_attention, attention_weights = scaled_dot_product_attention(\n",
        "        q, k, v, mask)\n",
        "\n",
        "    scaled_attention = tf.transpose(scaled_attention, perm=[0, 2, 1, 3])  # (batch_size, seq_len_q, num_heads, depth)\n",
        "\n",
        "    concat_attention = tf.reshape(scaled_attention,\n",
        "                                  (-1, seq_len_q, self.d_model))  # (batch_size, seq_len_q, d_model)\n",
        "\n",
        "    output = self.dense(concat_attention)  # (batch_size, seq_len_q, d_model)\n",
        "\n",
        "    return output, attention_weights\n",
        "\n",
        "def point_wise_feed_forward_network(d_model, dff):\n",
        "  return tf.keras.Sequential([\n",
        "      tf.keras.layers.Dense(dff, activation='relu'),  # (batch_size, seq_len, dff)\n",
        "      tf.keras.layers.Dense(d_model)  # (batch_size, seq_len, d_model)\n",
        "  ])\n",
        "\n",
        "\n",
        "class ReZero(tf.keras.layers.Layer):\n",
        "    def __init__(self, name):\n",
        "        super(ReZero, self).__init__(name=name)\n",
        "        a_init = tf.zeros_initializer()\n",
        "        self.alpha = tf.Variable(name=self.name + '-alpha',\n",
        "            initial_value=a_init(shape=(1,), dtype=\"float32\"), trainable=True\n",
        "        )\n",
        "\n",
        "    def call(self, inputs):\n",
        "        return self.alpha * inputs\n",
        "\n",
        "\n",
        "class EncoderLayer(tf.keras.layers.Layer):\n",
        "  def __init__(self, d_model, num_heads, dff, rate=0.1):\n",
        "    super(EncoderLayer, self).__init__()\n",
        "\n",
        "    self.mha = MultiHeadAttention(d_model, num_heads)\n",
        "    self.ffn = point_wise_feed_forward_network(d_model, dff)\n",
        "\n",
        "    #self.layernorm1 = tf.keras.layers.LayerNormalization(epsilon=1e-6)\n",
        "    #self.layernorm2 = tf.keras.layers.LayerNormalization(epsilon=1e-6)\n",
        "    self.rz1 = ReZero(self.name+'rz1')\n",
        "    self.rz2 = ReZero(self.name+'rz2')\n",
        "\n",
        "    #self.dropout1 = tf.keras.layers.Dropout(rate)\n",
        "    #self.dropout2 = tf.keras.layers.Dropout(rate)\n",
        "\n",
        "  def call(self, x, training=False, mask=None):\n",
        "\n",
        "    attn_output, attention_weights = self.mha(x, x, x, mask, training=training)  # (batch_size, input_seq_len, d_model)\n",
        "    #attn_output = self.dropout1(attn_output, training=training)\n",
        "    #out1 = x + self.layernorm1(attn_output)  # (batch_size, input_seq_len, d_model)\n",
        "    out1 = x + self.rz1(attn_output)\n",
        "\n",
        "    ffn_output = self.ffn(out1)  # (batch_size, input_seq_len, d_model)\n",
        "    #ffn_output = self.dropout2(ffn_output, training=training)\n",
        "    # out2 = out1 + self.layernorm2(ffn_output)  # (batch_size, input_seq_len, d_model)\n",
        "    out2 = out1 + self.rz2(ffn_output)\n",
        "\n",
        "    return out2, attention_weights\n",
        "\n",
        "\n",
        "class AttentionPool(tf.keras.layers.Layer):\n",
        "    def __init__(self, d_model, dff):\n",
        "        super(AttentionPool, self).__init__()\n",
        "        self.mha = MultiHeadAttention(d_model, num_heads=2)\n",
        "        self.ffn = point_wise_feed_forward_network(d_model, dff)\n",
        "        self.rz = ReZero(self.name+'rz')\n",
        "        # self.layernorm = tf.keras.layers.LayerNormalization(epsilon=1e-6)\n",
        "\n",
        "    def call(self, x, t, training=False):\n",
        "        x, _ = self.mha(x, x, t, training=training)\n",
        "        out1 = tf.math.reduce_mean(x, axis=1)\n",
        "\n",
        "        ffn_output = self.ffn(out1)  # (batch_size, input_seq_len, d_model)\n",
        "        #ffn_output = self.dropout2(ffn_output, training=training)\n",
        "        # out2 = out1 + self.layernorm(ffn_output)  # (batch_size, input_seq_len, d_model)\n",
        "        out2 = out1 + self.rz(ffn_output)\n",
        "\n",
        "        return out2\n",
        "\n",
        "\n",
        "class TransformerEncoder(tf.keras.layers.Layer):\n",
        "  def __init__(self, output_dim, x_attr_sizes, t_attr_sizes, num_layers, d_model, num_heads, dff):\n",
        "    super(TransformerEncoder, self).__init__()\n",
        "\n",
        "    self.attr_sizes = list(x_attr_sizes) + list(t_attr_sizes)\n",
        "    self.n_tau_attr = len(t_attr_sizes)\n",
        "\n",
        "    self.embeddings = [tf.keras.layers.Dense(d_model) for _ in self.attr_sizes]\n",
        "    self.ffn = point_wise_feed_forward_network(d_model, dff)\n",
        "\n",
        "    self.enc_layers = [EncoderLayer(d_model, num_heads, dff)\n",
        "                       for _ in range(num_layers)]\n",
        "\n",
        "    self.pool = AttentionPool(d_model, dff)\n",
        "    self.output_layer = point_wise_feed_forward_network(output_dim, dff)\n",
        "\n",
        "  def call(self, x):\n",
        "    n = self.n_tau_attr\n",
        "\n",
        "    x = tf.split(x, self.attr_sizes, axis=1)\n",
        "    x = [tf.expand_dims(lay(inp), axis=1) for (lay, inp) in zip(self.embeddings, x)]\n",
        "    x, t = x[:-n], x[-n:]\n",
        "    x, t = tf.concat(x, axis=1), tf.concat(t, axis=1)\n",
        "    x = tf.concat([t, x], axis=1)\n",
        "\n",
        "    x = self.ffn(x)\n",
        "\n",
        "    for lay in self.enc_layers:\n",
        "      x, _ = lay(x)\n",
        "\n",
        "    x = self.pool(x[:, :n], x[:, :n])\n",
        "    x = self.output_layer(x)\n",
        "    return x\n",
        "\n",
        "\n",
        "from leap_net.LtauNoAdd import LtauNoAdd\n",
        "\n",
        "\n",
        "class TransformerEncoderLtau(tf.keras.layers.Layer):\n",
        "  def __init__(self, output_dim, x_attr_sizes, t_attr_sizes, num_layers, d_model, num_heads, dff):\n",
        "    super(TransformerEncoderLtau, self).__init__()\n",
        "\n",
        "    self.attr_sizes = list(x_attr_sizes) + list(t_attr_sizes)\n",
        "    self.n_tau_attr = len(t_attr_sizes)\n",
        "\n",
        "    self.embeddings = [tf.keras.layers.Dense(d_model) for _ in x_attr_sizes]\n",
        "    self.ffn = point_wise_feed_forward_network(d_model, dff)\n",
        "\n",
        "    self.enc_layers = [EncoderLayer(d_model, num_heads, dff)\n",
        "                       for _ in range(num_layers)]\n",
        "\n",
        "    self.output_layer = point_wise_feed_forward_network(output_dim, dff)\n",
        "    self.ltau = LtauNoAdd(name='ltna')\n",
        "\n",
        "  def call(self, x):\n",
        "    n = self.n_tau_attr\n",
        "\n",
        "    x = tf.split(x, self.attr_sizes, axis=1)\n",
        "    x, t = x[:-n], x[-n:]\n",
        "    x = [tf.expand_dims(lay(inp), axis=1) for (lay, inp) in zip(self.embeddings, x)]\n",
        "    x, t = tf.concat(x, axis=1), tf.concat(t, axis=1)\n",
        "\n",
        "    x = self.ffn(x)\n",
        "\n",
        "    for lay in self.enc_layers:\n",
        "      x, _ = lay(x)\n",
        "\n",
        "    x = tf.reduce_mean(x, axis=1)\n",
        "    print(x.shape, t.shape)\n",
        "    x = self.ltau([x, t])\n",
        "    x = self.output_layer(x)\n",
        "    return x\n",
        "\n",
        "\n",
        "\n",
        "class TransformerEncoder(tf.keras.layers.Layer):\n",
        "  def __init__(self, output_dim, x_attr_sizes, t_attr_sizes, num_layers, d_model, num_heads, dff):\n",
        "    super(TransformerEncoder, self).__init__()\n",
        "\n",
        "    self.attr_sizes = list(x_attr_sizes) + list(t_attr_sizes)\n",
        "\n",
        "    self.embeddings = [tf.keras.layers.Dense(d_model) for _ in self.attr_sizes]\n",
        "    self.ffn = point_wise_feed_forward_network(d_model, dff)\n",
        "\n",
        "    self.enc_layers = [EncoderLayer(d_model, num_heads, dff)\n",
        "                       for _ in range(num_layers)]\n",
        "\n",
        "    self.output_layer = point_wise_feed_forward_network(output_dim, dff)\n",
        "\n",
        "  def call(self, x):\n",
        "    x = tf.split(x, self.attr_sizes, axis=1)\n",
        "    x = [tf.expand_dims(lay(inp), axis=1) for (lay, inp) in zip(self.embeddings, x)]\n",
        "    x = tf.concat(x, axis=1)\n",
        "\n",
        "    x = self.ffn(x)\n",
        "\n",
        "    for lay in self.enc_layers:\n",
        "      x, _ = lay(x)\n",
        "\n",
        "    x = tf.reduce_max(x, axis=1)\n",
        "    x = self.output_layer(x)\n",
        "    return x\n"
      ],
      "metadata": {
        "colab": {
          "base_uri": "https://localhost:8080/"
        },
        "id": "fzljtZNgxBZh",
        "outputId": "f9dd56e6-ae0e-4fe5-89b5-af3a0aa302f1"
      },
      "execution_count": 1,
      "outputs": [
        {
          "output_type": "stream",
          "name": "stdout",
          "text": [
            "Overwriting /content/LIPS/lips/augmented_simulators/tensorflow_models/transformer_utils.py\n"
          ]
        }
      ]
    },
    {
      "cell_type": "code",
      "source": [
        "%%writefile /content/LIPS/lips/augmented_simulators/tensorflow_models/transformer.py\n",
        "\n",
        "# Copyright (c) 2021, IRT SystemX (https://www.irt-systemx.fr/en/)\n",
        "# See AUTHORS.txt\n",
        "# This Source Code Form is subject to the terms of the Mozilla Public License, version 2.0.\n",
        "# If a copy of the Mozilla Public License, version 2.0 was not distributed with this file,\n",
        "# you can obtain one at http://mozilla.org/MPL/2.0/.\n",
        "# SPDX-License-Identifier: MPL-2.0\n",
        "# This file is part of LIPS, LIPS is a python platform for power networks benchmarking\n",
        "\n",
        "import os\n",
        "import pathlib\n",
        "from typing import Union\n",
        "import json\n",
        "import warnings\n",
        "\n",
        "import numpy as np\n",
        "# from leap_net import ResNetLayer\n",
        "\n",
        "with warnings.catch_warnings():\n",
        "    warnings.filterwarnings(\"ignore\", category=FutureWarning)\n",
        "    from tensorflow import keras\n",
        "\n",
        "from ..tensorflow_simulator import TensorflowSimulator\n",
        "from ...logger import CustomLogger\n",
        "from ...config import ConfigManager\n",
        "from ...dataset import DataSet\n",
        "from ...dataset.scaler import Scaler\n",
        "from ...utils import NpEncoder\n",
        "\n",
        "from .transformer_utils import TransformerEncoder, TransformerEncoderLtau\n",
        "\n",
        "\n",
        "class SimpNet(TensorflowSimulator):\n",
        "    \"\"\"Fully Connected architecture\n",
        "    Parameters\n",
        "    ----------\n",
        "    sim_config_path : ``str``\n",
        "        The path to the configuration file for simulator.\n",
        "        It should contain all the required hyperparameters for this model.\n",
        "    sim_config_name : Union[str, None], optional\n",
        "        _description_, by default None\n",
        "    name : Union[str, None], optional\n",
        "        _description_, by default None\n",
        "    scaler : Union[Scaler, None], optional\n",
        "        _description_, by default None\n",
        "    bench_config_path : Union[str, pathlib.Path, None], optional\n",
        "        _description_, by default None\n",
        "    bench_config_name : Union[str, None], optional\n",
        "        _description_, by default None\n",
        "    log_path : Union[None, str], optional\n",
        "        _description_, by default None\n",
        "    Raises\n",
        "    ------\n",
        "    RuntimeError\n",
        "        _description_\n",
        "    \"\"\"\n",
        "    def __init__(self,\n",
        "                 sim_config_path: str,\n",
        "                 bench_config_path: Union[str, pathlib.Path],\n",
        "                 bench_config_name: Union[str, None]=None,\n",
        "                 bench_kwargs: dict={},\n",
        "                 sim_config_name: Union[str, None]=None,\n",
        "                 name: Union[str, None]=None,\n",
        "                 scaler: Union[Scaler, None]=None,\n",
        "                 log_path: Union[None, str]=None,\n",
        "                 **kwargs):\n",
        "        super().__init__(name=name, log_path=log_path, **kwargs)\n",
        "        if not os.path.exists(sim_config_path):\n",
        "            raise RuntimeError(\"Configuration path for the simulator not found!\")\n",
        "        if not str(sim_config_path).endswith(\".ini\"):\n",
        "            raise RuntimeError(\"The configuration file should have `.ini` extension!\")\n",
        "        sim_config_name = sim_config_name if sim_config_name is not None else \"DEFAULT\"\n",
        "        self.sim_config = ConfigManager(section_name=sim_config_name, path=sim_config_path)\n",
        "        self.bench_config = ConfigManager(section_name=bench_config_name, path=bench_config_path)\n",
        "        self.bench_config.set_options_from_dict(**bench_kwargs)\n",
        "        self.name = name if name is not None else self.sim_config.get_option(\"name\")\n",
        "        self.name = self.name + '_' + sim_config_name\n",
        "        # scaler\n",
        "        self.scaler = scaler() if scaler else None\n",
        "        # Logger\n",
        "        self.log_path = log_path\n",
        "        self.logger = CustomLogger(__class__.__name__, log_path).logger\n",
        "        # model parameters\n",
        "        self.params = self.sim_config.get_options_dict()\n",
        "        self.params.update(kwargs)\n",
        "        # Define layer to be used for the model\n",
        "        self.layers = {\"linear\": keras.layers.Dense}\n",
        "        self.layer = self.layers.get(self.params[\"layer\"], None)\n",
        "        if self.layer is None:\n",
        "            self.layer = keras.layers.Dense\n",
        "\n",
        "        # optimizer\n",
        "        if \"lr\" in kwargs:\n",
        "            if not isinstance(kwargs[\"lr\"], float):\n",
        "                raise RuntimeError(\"Learning rate (lr) is provided, it should be a float\")\n",
        "            lr = kwargs['lr']\n",
        "        else:\n",
        "            lr = self.params[\"optimizer\"][\"params\"][\"lr\"]\n",
        "        print('lr', lr)\n",
        "        self._optimizer = keras.optimizers.Adam(learning_rate=lr)\n",
        "\n",
        "        self._model: Union[keras.Model, None] = None\n",
        "\n",
        "        self.input_size = None if kwargs.get(\"input_size\") is None else kwargs[\"input_size\"]\n",
        "        self.output_size = None if kwargs.get(\"output_size\") is None else kwargs[\"output_size\"]\n",
        "\n",
        "        self.x_attr_sizes, self.t_attr_sizes = None, None\n",
        "\n",
        "    def build_model(self):\n",
        "        \"\"\"Build the model\n",
        "        Returns\n",
        "        -------\n",
        "        Model\n",
        "            _description_\n",
        "        \"\"\"\n",
        "        super().build_model()\n",
        "        transformer = TransformerEncoder(\n",
        "            self.output_size, self.x_attr_sizes, self.t_attr_sizes,\n",
        "            num_layers=6, d_model=512, num_heads=8, dff=512)\n",
        "        input_ = keras.layers.Input(shape=(self.input_size,), name=\"input\")\n",
        "        output_ = transformer(input_)\n",
        "        self._model = keras.Model(inputs=input_,\n",
        "                                  outputs=output_,\n",
        "                                  name=f\"{self.name}_model\")\n",
        "        return self._model\n",
        "\n",
        "    def process_dataset(self, dataset: DataSet, training: bool=False) -> tuple:\n",
        "        \"\"\"process the datasets for training and evaluation\n",
        "        This function transforms all the dataset into something that can be used by the neural network (for example)\n",
        "        Warning\n",
        "        -------\n",
        "        It works with StandardScaler only for the moment.\n",
        "        Parameters\n",
        "        ----------\n",
        "        dataset : DataSet\n",
        "            _description_\n",
        "        Scaler : bool, optional\n",
        "            _description_, by default True\n",
        "        training : bool, optional\n",
        "            _description_, by default False\n",
        "        Returns\n",
        "        -------\n",
        "        tuple\n",
        "            the normalized dataset with features and labels\n",
        "        \"\"\"\n",
        "        if training:\n",
        "            self._infer_size(dataset)\n",
        "            inputs, outputs = dataset.extract_data(concat=False)\n",
        "\n",
        "            inputs, outputs = dataset.extract_data(concat=True)\n",
        "            if self.scaler is not None:\n",
        "                inputs, outputs = self.scaler.fit_transform(inputs, outputs)\n",
        "        else:\n",
        "            inputs, outputs = dataset.extract_data(concat=True)\n",
        "            if self.scaler is not None:\n",
        "                inputs, outputs = self.scaler.transform(inputs, outputs)\n",
        "\n",
        "        self.x_attr_sizes, self.t_attr_sizes = dataset._sizes_x, dataset._sizes_tau\n",
        "        return inputs, outputs\n",
        "\n",
        "    def _infer_size(self, dataset: DataSet):\n",
        "        \"\"\"Infer the size of the model\n",
        "        Parameters\n",
        "        ----------\n",
        "        dataset : DataSet\n",
        "            _description_\n",
        "        Returns\n",
        "        -------\n",
        "        None\n",
        "            _description_\n",
        "        \"\"\"\n",
        "        *dim_inputs, self.output_size = dataset.get_sizes()\n",
        "        self.input_size = np.sum(dim_inputs)\n",
        "\n",
        "    def _post_process(self, dataset, predictions):\n",
        "        if self.scaler is not None:\n",
        "            predictions = self.scaler.inverse_transform(predictions)\n",
        "        predictions = super()._post_process(dataset, predictions)\n",
        "        return predictions\n",
        "\n",
        "    def _save_metadata(self, path: str):\n",
        "        super()._save_metadata(path)\n",
        "        if self.scaler is not None:\n",
        "            self.scaler.save(path)\n",
        "        res_json = {}\n",
        "        res_json[\"input_size\"] = self.input_size\n",
        "        res_json[\"output_size\"] = self.output_size\n",
        "        with open((path / \"metadata.json\"), \"w\", encoding=\"utf-8\") as f:\n",
        "            json.dump(obj=res_json, fp=f, indent=4, sort_keys=True, cls=NpEncoder)\n",
        "\n",
        "    def _load_metadata(self, path: str):\n",
        "        if not isinstance(path, pathlib.Path):\n",
        "            path = pathlib.Path(path)\n",
        "        super()._load_metadata(path)\n",
        "        if self.scaler is not None:\n",
        "            self.scaler.load(path)\n",
        "        with open((path / \"metadata.json\"), \"r\", encoding=\"utf-8\") as f:\n",
        "            res_json = json.load(fp=f)\n",
        "        self.input_size = res_json[\"input_size\"]\n",
        "        self.output_size = res_json[\"output_size\"]\n"
      ],
      "metadata": {
        "colab": {
          "base_uri": "https://localhost:8080/"
        },
        "id": "5dzhcKv2wpFm",
        "outputId": "3985a4f6-294d-4f71-c1f8-7debabd4dab9"
      },
      "execution_count": 2,
      "outputs": [
        {
          "output_type": "stream",
          "name": "stdout",
          "text": [
            "Overwriting /content/LIPS/lips/augmented_simulators/tensorflow_models/transformer.py\n"
          ]
        }
      ]
    },
    {
      "cell_type": "code",
      "source": [
        "%%writefile /content/LIPS/lips/augmented_simulators/tensorflow_models/simpnet.py\n",
        "\n",
        "# Copyright (c) 2021, IRT SystemX (https://www.irt-systemx.fr/en/)\n",
        "# See AUTHORS.txt\n",
        "# This Source Code Form is subject to the terms of the Mozilla Public License, version 2.0.\n",
        "# If a copy of the Mozilla Public License, version 2.0 was not distributed with this file,\n",
        "# you can obtain one at http://mozilla.org/MPL/2.0/.\n",
        "# SPDX-License-Identifier: MPL-2.0\n",
        "# This file is part of LIPS, LIPS is a python platform for power networks benchmarking\n",
        "\n",
        "import os\n",
        "import pathlib\n",
        "from typing import Union\n",
        "import json\n",
        "import warnings\n",
        "\n",
        "import numpy as np\n",
        "# from leap_net import ResNetLayer\n",
        "\n",
        "with warnings.catch_warnings():\n",
        "    warnings.filterwarnings(\"ignore\", category=FutureWarning)\n",
        "    from tensorflow import keras\n",
        "\n",
        "from ..tensorflow_simulator import TensorflowSimulator\n",
        "from ...logger import CustomLogger\n",
        "from ...config import ConfigManager\n",
        "from ...dataset import DataSet\n",
        "from ...dataset.scaler import Scaler\n",
        "from ...utils import NpEncoder\n",
        "\n",
        "\n",
        "class SimpNet(TensorflowSimulator):\n",
        "    \"\"\"Fully Connected architecture\n",
        "    Parameters\n",
        "    ----------\n",
        "    sim_config_path : ``str``\n",
        "        The path to the configuration file for simulator.\n",
        "        It should contain all the required hyperparameters for this model.\n",
        "    sim_config_name : Union[str, None], optional\n",
        "        _description_, by default None\n",
        "    name : Union[str, None], optional\n",
        "        _description_, by default None\n",
        "    scaler : Union[Scaler, None], optional\n",
        "        _description_, by default None\n",
        "    bench_config_path : Union[str, pathlib.Path, None], optional\n",
        "        _description_, by default None\n",
        "    bench_config_name : Union[str, None], optional\n",
        "        _description_, by default None\n",
        "    log_path : Union[None, str], optional\n",
        "        _description_, by default None\n",
        "    Raises\n",
        "    ------\n",
        "    RuntimeError\n",
        "        _description_\n",
        "    \"\"\"\n",
        "    def __init__(self,\n",
        "                 sim_config_path: str,\n",
        "                 bench_config_path: Union[str, pathlib.Path],\n",
        "                 bench_config_name: Union[str, None]=None,\n",
        "                 bench_kwargs: dict={},\n",
        "                 sim_config_name: Union[str, None]=None,\n",
        "                 name: Union[str, None]=None,\n",
        "                 scaler: Union[Scaler, None]=None,\n",
        "                 log_path: Union[None, str]=None,\n",
        "                 **kwargs):\n",
        "        super().__init__(name=name, log_path=log_path, **kwargs)\n",
        "        if not os.path.exists(sim_config_path):\n",
        "            raise RuntimeError(\"Configuration path for the simulator not found!\")\n",
        "        if not str(sim_config_path).endswith(\".ini\"):\n",
        "            raise RuntimeError(\"The configuration file should have `.ini` extension!\")\n",
        "        sim_config_name = sim_config_name if sim_config_name is not None else \"DEFAULT\"\n",
        "        self.sim_config = ConfigManager(section_name=sim_config_name, path=sim_config_path)\n",
        "        self.bench_config = ConfigManager(section_name=bench_config_name, path=bench_config_path)\n",
        "        self.bench_config.set_options_from_dict(**bench_kwargs)\n",
        "        self.name = name if name is not None else self.sim_config.get_option(\"name\")\n",
        "        self.name = self.name + '_' + sim_config_name\n",
        "        # scaler\n",
        "        self.scaler = scaler() if scaler else None\n",
        "        # Logger\n",
        "        self.log_path = log_path\n",
        "        self.logger = CustomLogger(__class__.__name__, log_path).logger\n",
        "        # model parameters\n",
        "        self.params = self.sim_config.get_options_dict()\n",
        "        self.params.update(kwargs)\n",
        "        # Define layer to be used for the model\n",
        "        self.layers = {\"linear\": keras.layers.Dense}\n",
        "        self.layer = self.layers.get(self.params[\"layer\"], None)\n",
        "        if self.layer is None:\n",
        "            self.layer = keras.layers.Dense\n",
        "\n",
        "        # optimizer\n",
        "        if \"lr\" in kwargs:\n",
        "            if not isinstance(kwargs[\"lr\"], float):\n",
        "                raise RuntimeError(\"Learning rate (lr) is provided, it should be a float\")\n",
        "            lr = kwargs['lr']\n",
        "        else:\n",
        "            lr = self.params[\"optimizer\"][\"params\"][\"lr\"]\n",
        "        print('lr', lr)\n",
        "        self._optimizer = keras.optimizers.Adam(learning_rate=lr)\n",
        "\n",
        "        self._model: Union[keras.Model, None] = None\n",
        "\n",
        "        self.input_size = None if kwargs.get(\"input_size\") is None else kwargs[\"input_size\"]\n",
        "        self.output_size = None if kwargs.get(\"output_size\") is None else kwargs[\"output_size\"]\n",
        "\n",
        "    def build_model(self):\n",
        "        \"\"\"Build the model\n",
        "        Returns\n",
        "        -------\n",
        "        Model\n",
        "            _description_\n",
        "        \"\"\"\n",
        "        super().build_model()\n",
        "        input_ = keras.layers.Input(shape=(self.input_size,), name=\"input\")\n",
        "        x = input_\n",
        "        # x = keras.layers.Dropout(rate=self.params[\"input_dropout\"], name=\"input_dropout\")(x)\n",
        "        for layer_id, layer_size in enumerate(self.params[\"layers\"]):\n",
        "            x = self.layer(layer_size, name=f\"layer_{layer_id}\")(x)\n",
        "            x = keras.layers.LayerNormalization(name=f\"norm_{layer_id}\")(x)\n",
        "            x = keras.layers.Activation(self.params[\"activation\"], name=f\"activation_{layer_id}\")(x)\n",
        "            # x = keras.layers.Activation(self.params[\"activation\"], name=f\"activation_{layer_id}\")(x)\n",
        "            # x = keras.layers.Dropout(rate=self.params[\"dropout\"], name=f\"dropout_{layer_id}\")(x)\n",
        "\n",
        "        output_ = keras.layers.Dense(self.output_size)(x)\n",
        "        self._model = keras.Model(inputs=input_,\n",
        "                                  outputs=output_,\n",
        "                                  name=f\"{self.name}_model\")\n",
        "        return self._model\n",
        "\n",
        "    def process_dataset(self, dataset: DataSet, training: bool=False) -> tuple:\n",
        "        \"\"\"process the datasets for training and evaluation\n",
        "        This function transforms all the dataset into something that can be used by the neural network (for example)\n",
        "        Warning\n",
        "        -------\n",
        "        It works with StandardScaler only for the moment.\n",
        "        Parameters\n",
        "        ----------\n",
        "        dataset : DataSet\n",
        "            _description_\n",
        "        Scaler : bool, optional\n",
        "            _description_, by default True\n",
        "        training : bool, optional\n",
        "            _description_, by default False\n",
        "        Returns\n",
        "        -------\n",
        "        tuple\n",
        "            the normalized dataset with features and labels\n",
        "        \"\"\"\n",
        "        if training:\n",
        "            self._infer_size(dataset)\n",
        "            inputs, outputs = dataset.extract_data(concat=False)\n",
        "\n",
        "            inputs, outputs = dataset.extract_data(concat=True)\n",
        "            if self.scaler is not None:\n",
        "                inputs, outputs = self.scaler.fit_transform(inputs, outputs)\n",
        "        else:\n",
        "            inputs, outputs = dataset.extract_data(concat=True)\n",
        "            if self.scaler is not None:\n",
        "                inputs, outputs = self.scaler.transform(inputs, outputs)\n",
        "\n",
        "        return inputs, outputs\n",
        "\n",
        "    def _infer_size(self, dataset: DataSet):\n",
        "        \"\"\"Infer the size of the model\n",
        "        Parameters\n",
        "        ----------\n",
        "        dataset : DataSet\n",
        "            _description_\n",
        "        Returns\n",
        "        -------\n",
        "        None\n",
        "            _description_\n",
        "        \"\"\"\n",
        "        *dim_inputs, self.output_size = dataset.get_sizes()\n",
        "        self.input_size = np.sum(dim_inputs)\n",
        "\n",
        "    def _post_process(self, dataset, predictions):\n",
        "        if self.scaler is not None:\n",
        "            predictions = self.scaler.inverse_transform(predictions)\n",
        "        predictions = super()._post_process(dataset, predictions)\n",
        "        return predictions\n",
        "\n",
        "    def _save_metadata(self, path: str):\n",
        "        super()._save_metadata(path)\n",
        "        if self.scaler is not None:\n",
        "            self.scaler.save(path)\n",
        "        res_json = {}\n",
        "        res_json[\"input_size\"] = self.input_size\n",
        "        res_json[\"output_size\"] = self.output_size\n",
        "        with open((path / \"metadata.json\"), \"w\", encoding=\"utf-8\") as f:\n",
        "            json.dump(obj=res_json, fp=f, indent=4, sort_keys=True, cls=NpEncoder)\n",
        "\n",
        "    def _load_metadata(self, path: str):\n",
        "        if not isinstance(path, pathlib.Path):\n",
        "            path = pathlib.Path(path)\n",
        "        super()._load_metadata(path)\n",
        "        if self.scaler is not None:\n",
        "            self.scaler.load(path)\n",
        "        with open((path / \"metadata.json\"), \"r\", encoding=\"utf-8\") as f:\n",
        "            res_json = json.load(fp=f)\n",
        "        self.input_size = res_json[\"input_size\"]\n",
        "        self.output_size = res_json[\"output_size\"]\n"
      ],
      "metadata": {
        "colab": {
          "base_uri": "https://localhost:8080/"
        },
        "id": "gAdaQmrg0HpS",
        "outputId": "e136672c-fb32-4d90-902c-d4e825069729"
      },
      "execution_count": 3,
      "outputs": [
        {
          "output_type": "stream",
          "name": "stdout",
          "text": [
            "Overwriting /content/LIPS/lips/augmented_simulators/tensorflow_models/simpnet.py\n"
          ]
        }
      ]
    },
    {
      "cell_type": "code",
      "source": [
        "%%writefile /content/LIPS/lips/augmented_simulators/tensorflow_simulator.py\n",
        "# Copyright (c) 2021, IRT SystemX (https://www.irt-systemx.fr/en/)\n",
        "# See AUTHORS.txt\n",
        "# This Source Code Form is subject to the terms of the Mozilla Public License, version 2.0.\n",
        "# If a copy of the Mozilla Public License, version 2.0 was not distributed with this file,\n",
        "# you can obtain one at http://mozilla.org/MPL/2.0/.\n",
        "# SPDX-License-Identifier: MPL-2.0\n",
        "# This file is part of LIPS, LIPS is a python platform for power networks benchmarking\n",
        "\n",
        "import os\n",
        "import pathlib\n",
        "from typing import Union\n",
        "import shutil\n",
        "import json\n",
        "import tempfile\n",
        "import importlib\n",
        "\n",
        "from matplotlib import pyplot as plt\n",
        "import numpy as np\n",
        "import tensorflow as tf\n",
        "\n",
        "from . import AugmentedSimulator\n",
        "from ..utils import NpEncoder\n",
        "from ..dataset import DataSet\n",
        "from ..logger import CustomLogger\n",
        "\n",
        "\n",
        "class TensorflowSimulator(AugmentedSimulator):\n",
        "    \"\"\"_summary_\n",
        "\n",
        "        Parameters\n",
        "        ----------\n",
        "        name : str, optional\n",
        "            _description_, by default None\n",
        "        config : ConfigManager\n",
        "            _description_\n",
        "        \"\"\"\n",
        "    def __init__(self,\n",
        "                 name: Union[str, None]=None,\n",
        "                 log_path: Union[str, None] = None,\n",
        "                 **kwargs):\n",
        "        super().__init__(name=name, log_path=log_path, **kwargs)\n",
        "        # logger\n",
        "        self.logger = CustomLogger(__class__.__name__, self.log_path).logger\n",
        "        self._optimizer = None\n",
        "\n",
        "        self.input_size = None\n",
        "        self.output_size = None\n",
        "\n",
        "        # setting seeds\n",
        "        np.random.seed(1)\n",
        "        # tf.random.set_seed(2)\n",
        "\n",
        "\n",
        "    def build_model(self):\n",
        "        \"\"\"build tensorflow model\n",
        "\n",
        "        Parameters\n",
        "        ----------\n",
        "        **kwargs : dict\n",
        "            if parameters indicated, it will replace config parameters\n",
        "\n",
        "        Returns\n",
        "        -------\n",
        "        keras.Model\n",
        "            _description_\n",
        "        \"\"\"\n",
        "        if self.input_size is None or self.output_size is None:\n",
        "            raise RuntimeError(\"input_size is not set\")\n",
        "\n",
        "\n",
        "    def train(self,\n",
        "              train_dataset: DataSet,\n",
        "              val_dataset: Union[None, DataSet] = None,\n",
        "              save_path: Union[None, str] = None,\n",
        "              **kwargs):\n",
        "        \"\"\"Function used to train a neural network\n",
        "\n",
        "        Parameters\n",
        "        ----------\n",
        "        train_dataset : DataSet\n",
        "            training dataset\n",
        "        val_dataset : Union[None, DataSet], optional\n",
        "            validation dataset, by default None\n",
        "        save_path : Union[None, str], optional\n",
        "            the path where the trained model should be saved, by default None\n",
        "            #TODO: a callback for tensorboard and another for saving the model\n",
        "        \"\"\"\n",
        "        super().train(train_dataset, val_dataset)\n",
        "        self.params.update(kwargs)\n",
        "        processed_x, processed_y = self.process_dataset(train_dataset, training=True)\n",
        "\n",
        "        if val_dataset is not None:\n",
        "            processed_x_val, processed_y_val = self.process_dataset(val_dataset, training=False)\n",
        "            validation_data = (processed_x_val, processed_y_val)\n",
        "        else:\n",
        "            validation_data = None\n",
        "\n",
        "        # init the model\n",
        "        self.build_model()\n",
        "\n",
        "        self._model.compile(optimizer=self._optimizer,\n",
        "                            loss=\"mean_absolute_percentage_error\", # self.params[\"loss\"][\"name\"],\n",
        "                            metrics=self.params[\"metrics\"])\n",
        "\n",
        "        cb = [\n",
        "            tf.keras.callbacks.ModelCheckpoint(\n",
        "                \"temp.keras\",\n",
        "                monitor=\"val_mae\",\n",
        "                verbose=1,\n",
        "                save_best_only=True,\n",
        "                save_weights_only=True)\n",
        "            ]\n",
        "\n",
        "        self.logger.info(\"Training of {%s} started\", self.name)\n",
        "        history_callback = self._model.fit(x=processed_x,\n",
        "                                           y=processed_y,\n",
        "                                           validation_data=validation_data,\n",
        "                                           epochs=self.params[\"epochs\"],\n",
        "                                           batch_size=self.params[\"train_batch_size\"],\n",
        "                                           shuffle=self.params[\"shuffle\"],\n",
        "                                           callbacks=cb,\n",
        "                                           verbose=2)\n",
        "        self.logger.info(\"Training of {%s} finished\", self.name)\n",
        "        self.write_history(history=history_callback, val_dataset=validation_data)\n",
        "        self.trained = True\n",
        "        self._model.load_weights(\"temp.keras\")\n",
        "        os.remove(\"temp.keras\")\n",
        "\n",
        "        if save_path is not None:\n",
        "            self.save(save_path)\n",
        "\n",
        "        return history_callback\n",
        "\n",
        "    def predict(self, dataset: DataSet, **kwargs) -> dict:\n",
        "        \"\"\"_summary_\n",
        "\n",
        "        Parameters\n",
        "        ----------\n",
        "        dataset : DataSet\n",
        "            test datasets to evaluate\n",
        "        \"\"\"\n",
        "        super().predict(dataset)\n",
        "\n",
        "        if \"eval_batch_size\" in kwargs:\n",
        "            self.params[\"eval_batch_size\"] = kwargs[\"eval_batch_size\"]\n",
        "        # self.params.update(kwargs)\n",
        "\n",
        "        #processed_x, processed_y = self._process_all_dataset(dataset, training=False)\n",
        "        processed_x, _ = self.process_dataset(dataset, training=False)\n",
        "\n",
        "        # make the predictions\n",
        "        predictions = self._model.predict(processed_x, batch_size=self.params[\"eval_batch_size\"])\n",
        "\n",
        "        predictions = self._post_process(dataset, predictions)\n",
        "\n",
        "        self._predictions[dataset.name] = predictions\n",
        "        self._observations[dataset.name] = dataset.data\n",
        "\n",
        "        return predictions\n",
        "\n",
        "    def process_dataset(self, dataset: DataSet, training: bool) -> tuple:\n",
        "        \"\"\"process the datasets for training and evaluation\n",
        "\n",
        "        each augmented simulator requires its owan data preparation\n",
        "\n",
        "        This function transforms all the dataset into something that can be used by the neural network (for example)\n",
        "\n",
        "        Parameters\n",
        "        ----------\n",
        "        dataset : DataSet\n",
        "            _description_\n",
        "        training : bool, optional\n",
        "            _description_, by default False\n",
        "\n",
        "        Returns\n",
        "        -------\n",
        "        tuple\n",
        "            the normalized dataset with features and labels\n",
        "        \"\"\"\n",
        "        super().process_dataset(dataset, training)\n",
        "        inputs, outputs = dataset.extract_data()\n",
        "\n",
        "        return inputs, outputs\n",
        "\n",
        "    def _post_process(self, dataset, predictions):\n",
        "        \"\"\"Do some post processing on the predictions\n",
        "\n",
        "        Parameters\n",
        "        ----------\n",
        "        predictions : _type_\n",
        "            _description_\n",
        "\n",
        "        Returns\n",
        "        -------\n",
        "        _type_\n",
        "            _description_\n",
        "        \"\"\"\n",
        "        return dataset.reconstruct_output(predictions)\n",
        "\n",
        "\n",
        "    ###############################################\n",
        "    # function used to save and restore the model #\n",
        "    ###############################################\n",
        "    def save(self, path: str, save_metadata: bool=True):\n",
        "        \"\"\"_summary_\n",
        "\n",
        "        Parameters\n",
        "        ----------\n",
        "        path : str\n",
        "            _description_\n",
        "        save_metadata : bool, optional\n",
        "            _description_, by default True\n",
        "        \"\"\"\n",
        "        save_path =  pathlib.Path(path) / self.name\n",
        "        super().save(save_path)\n",
        "\n",
        "        self._save_model(save_path)\n",
        "\n",
        "        if save_metadata:\n",
        "            self._save_metadata(save_path)\n",
        "\n",
        "        self.logger.info(\"Model {%s} is saved at {%s}\", self.name, save_path)\n",
        "\n",
        "    def _save_model(self, path: Union[str, pathlib.Path], ext: str=\".h5\"):\n",
        "        if not isinstance(path, pathlib.Path):\n",
        "            path = pathlib.Path(path)\n",
        "        file_name = path / (\"weights\" + ext)\n",
        "        self._model.save_weights(file_name)\n",
        "\n",
        "    def _save_metadata(self, path: Union[str, pathlib.Path]):\n",
        "        if not isinstance(path, pathlib.Path):\n",
        "            path = pathlib.Path(path)\n",
        "        # for json serialization of paths\n",
        "        #pydantic.json.ENCODERS_BY_TYPE[pathlib.PosixPath] = str\n",
        "        #pydantic.json.ENCODERS_BY_TYPE[pathlib.WindowsPath] = str\n",
        "        self._save_losses(path)\n",
        "        with open((path / \"config.json\"), \"w\", encoding=\"utf-8\") as f:\n",
        "            json.dump(obj=self.params, fp=f, indent=4, sort_keys=True, cls=NpEncoder)\n",
        "\n",
        "    def restore(self, path: str):\n",
        "        if not isinstance(path, pathlib.Path):\n",
        "            path = pathlib.Path(path)\n",
        "        full_path = path / self.name\n",
        "        if not full_path.exists():\n",
        "            raise FileNotFoundError(f\"path {full_path} not found\")\n",
        "        # load the metadata\n",
        "        self._load_metadata(full_path)\n",
        "        self._load_model(full_path)\n",
        "\n",
        "        self.logger.info(\"Model {%s} is loaded from {%s}\", self.name, full_path)\n",
        "\n",
        "    def _load_model(self, path: str):\n",
        "        nm_file = \"weights.h5\"\n",
        "        path_weights = path / nm_file\n",
        "        if not path_weights.exists():\n",
        "            raise FileNotFoundError(f\"Weights file {path_weights} not found\")\n",
        "        self.build_model()\n",
        "        # load the weights\n",
        "        with tempfile.TemporaryDirectory() as path_tmp:\n",
        "            nm_tmp = os.path.join(path_tmp, nm_file)\n",
        "            # copy the weights into this file\n",
        "            shutil.copy(path_weights, nm_tmp)\n",
        "            # load this copy (make sure the proper file is not corrupted even if the loading fails)\n",
        "            self._model.load_weights(nm_tmp)\n",
        "\n",
        "    def _load_metadata(self, path: str):\n",
        "        \"\"\"\n",
        "        load the model metadata\n",
        "        \"\"\"\n",
        "        # load scaler parameters\n",
        "        #self.scaler.load(full_path)\n",
        "        self._load_losses(path)\n",
        "        with open((path / \"config.json\"), \"r\", encoding=\"utf-8\") as f:\n",
        "            res_json = json.load(fp=f)\n",
        "        self.params.update(res_json)\n",
        "        return self.params\n",
        "\n",
        "    def _save_losses(self, path: Union[str, pathlib.Path]):\n",
        "        \"\"\"\n",
        "        save the losses\n",
        "        \"\"\"\n",
        "        if not isinstance(path, pathlib.Path):\n",
        "            path = pathlib.Path(path)\n",
        "        res_losses = {}\n",
        "        res_losses[\"train_losses\"] = self.train_losses\n",
        "        res_losses[\"train_metrics\"] = self.train_metrics\n",
        "        res_losses[\"val_losses\"] = self.val_losses\n",
        "        res_losses[\"val_metrics\"] = self.val_metrics\n",
        "        with open((path / \"losses.json\"), \"w\", encoding=\"utf-8\") as f:\n",
        "            json.dump(obj=res_losses, fp=f, indent=4, sort_keys=True, cls=NpEncoder)\n",
        "\n",
        "    def _load_losses(self, path: Union[str, pathlib.Path]):\n",
        "        \"\"\"\n",
        "        load the losses\n",
        "        \"\"\"\n",
        "        if not isinstance(path, pathlib.Path):\n",
        "            path = pathlib.Path(path)\n",
        "        with open((path / \"losses.json\"), \"r\", encoding=\"utf-8\") as f:\n",
        "            res_losses = json.load(fp=f)\n",
        "        self.train_losses = res_losses[\"train_losses\"]\n",
        "        self.train_metrics = res_losses[\"train_metrics\"]\n",
        "        self.val_losses = res_losses[\"val_losses\"]\n",
        "        self.val_metrics = res_losses[\"val_metrics\"]\n",
        "\n",
        "    #########################\n",
        "    # Some Helper functions #\n",
        "    #########################\n",
        "    def summary(self):\n",
        "        \"\"\"summary of the model\n",
        "        \"\"\"\n",
        "        print(self._model.summary())\n",
        "\n",
        "    def plot_model(self, path: Union[str, None]=None, file_name: str=\"model\"):\n",
        "        \"\"\"Plot the model architecture using GraphViz Library\n",
        "\n",
        "        \"\"\"\n",
        "        # verify if GraphViz and pydot are installed\n",
        "        pydot_found = importlib.util.find_spec(\"pydot\")\n",
        "        graphviz_found = importlib.util.find_spec(\"graphviz\")\n",
        "        if pydot_found is None or graphviz_found is None:\n",
        "            raise RuntimeError(\"pydot and graphviz are required to use this function\")\n",
        "\n",
        "        if not pathlib.Path(path).exists():\n",
        "            pathlib.Path(path).mkdir(parents=True, exist_ok=True)\n",
        "\n",
        "        tf.keras.utils.plot_model(\n",
        "            self._model,\n",
        "            to_file=file_name+\".png\",\n",
        "            show_shapes=True,\n",
        "            show_dtype=True,\n",
        "            show_layer_names=True,\n",
        "            rankdir=\"TB\",\n",
        "            expand_nested=False,\n",
        "            dpi=56,\n",
        "            layer_range=None,\n",
        "            show_layer_activations=False,\n",
        "        )\n",
        "\n",
        "    def write_history(self, history: dict, val_dataset=None):\n",
        "        \"\"\"write the history of the training\n",
        "\n",
        "        Parameters\n",
        "        ----------\n",
        "        history_callback : keras.callbacks.History\n",
        "            the history of the training\n",
        "        \"\"\"\n",
        "        self.train_losses = history.history[\"loss\"]\n",
        "        if val_dataset is not None:\n",
        "            self.val_losses = history.history[\"val_loss\"]\n",
        "\n",
        "        for metric in self.params[\"metrics\"]:\n",
        "            self.train_metrics[metric] = history.history[metric]\n",
        "            if val_dataset is not None:\n",
        "                self.val_metrics[metric] = history.history[\"val_\" + metric]\n",
        "\n",
        "    def count_parameters(self):\n",
        "        \"\"\"count the number of parameters of the model\n",
        "\n",
        "        Returns\n",
        "        -------\n",
        "        int\n",
        "            the number of parameters\n",
        "        \"\"\"\n",
        "        return self._model.count_params()\n",
        "\n",
        "    def visualize_convergence(self, figsize=(15,5), save_path: str=None):\n",
        "        \"\"\"Visualizing the convergence of the model\n",
        "        \"\"\"\n",
        "        # raise an error if the train_losses is empty\n",
        "        if len(self.train_losses) == 0:\n",
        "            raise RuntimeError(\"The model should be trained before visualizing the convergence\")\n",
        "        num_metrics = len(self.params[\"metrics\"])\n",
        "        if num_metrics == 0:\n",
        "            nb_subplots = 1\n",
        "        else:\n",
        "            nb_subplots = num_metrics + 1\n",
        "        fig, ax = plt.subplots(1,nb_subplots, figsize=figsize)\n",
        "        ax[0].set_title(\"MSE\")\n",
        "        ax[0].plot(self.train_losses, label='train_loss')\n",
        "        if len(self.val_losses) > 0:\n",
        "            ax[0].plot(self.val_losses, label='val_loss')\n",
        "        for idx_, metric_name in enumerate(self.params[\"metrics\"]):\n",
        "            ax[idx_+1].set_title(metric_name)\n",
        "            ax[idx_+1].plot(self.train_metrics[metric_name], label=f\"train_{metric_name}\")\n",
        "            if len(self.val_metrics[metric_name]) > 0:\n",
        "                ax[idx_+1].plot(self.val_metrics[metric_name], label=f\"val_{metric_name}\")\n",
        "        for i in range(nb_subplots):\n",
        "            ax[i].grid()\n",
        "            ax[i].legend()\n",
        "        # save the figure\n",
        "        if save_path is not None:\n",
        "            if not pathlib.Path(save_path).exists():\n",
        "                pathlib.Path(save_path).mkdir(parents=True, exist_ok=True)\n",
        "            fig.savefig(save_path)\n"
      ],
      "metadata": {
        "colab": {
          "base_uri": "https://localhost:8080/"
        },
        "id": "j-IH8YpEMkTg",
        "outputId": "8b1534a4-1ad1-4624-805a-a32c7e7c2e8d"
      },
      "execution_count": 4,
      "outputs": [
        {
          "output_type": "stream",
          "name": "stdout",
          "text": [
            "Overwriting /content/LIPS/lips/augmented_simulators/tensorflow_simulator.py\n"
          ]
        }
      ]
    },
    {
      "cell_type": "markdown",
      "source": [
        "# run"
      ],
      "metadata": {
        "id": "pd8QYkHPX33x"
      }
    },
    {
      "cell_type": "code",
      "source": [
        "import os; os.chdir('/content/LIPS')\n",
        "import pathlib\n",
        "from lips import get_root_path\n",
        "from pprint import pprint\n",
        "from matplotlib import pyplot as plt\n",
        "from lips.benchmark.powergridBenchmark import PowerGridBenchmark\n",
        "from lips.utils import get_path\n",
        "\n",
        "from lips.augmented_simulators.tensorflow_models import TfFullyConnected\n",
        "#from lips.augmented_simulators.tensorflow_models.simpnet import SimpNet\n",
        "from lips.augmented_simulators.tensorflow_models.transformer import SimpNet\n",
        "from lips.dataset.scaler import StandardScaler\n",
        "\n",
        "from lips.benchmark.powergridBenchmark import PowerGridBenchmark\n",
        "\n",
        "LIPS_PATH = pathlib.Path('/content/LIPS')\n",
        "DATA_PATH = LIPS_PATH / \"reference_data\" / \"powergrid\" / \"l2rpn_case14_sandbox\"\n",
        "BENCH_CONFIG_PATH = LIPS_PATH / \"configurations\" / \"powergrid\" / \"benchmarks\" / \"l2rpn_case14_sandbox.ini\"\n",
        "SIM_CONFIG_PATH = LIPS_PATH / \"configurations\" / \"powergrid\" / \"simulators\"\n",
        "BASELINES_PATH = LIPS_PATH / \"trained_baselines\" / \"powergrid\"\n",
        "TRAINED_MODEL_PATH = LIPS_PATH / \"trained_models\" / \"powergrid\"\n",
        "EVALUATION_PATH = LIPS_PATH / \"evaluation_results\" / \"PowerGrid\"\n",
        "LOG_PATH = LIPS_PATH / \"lips_logs.log\"\n",
        "\n",
        "SAVE_PATH = \"/content/drive/MyDrive/Coda/POWERGRID/dataset/\""
      ],
      "metadata": {
        "id": "l1brAGKWytBs"
      },
      "execution_count": 1,
      "outputs": []
    },
    {
      "cell_type": "code",
      "source": [
        "# config\n",
        "benchmark_name = \"Benchmark2\" # @param [\"Benchmark1\", \"Benchmark2\", \"Benchmark3\"]\n",
        "debug = False"
      ],
      "metadata": {
        "id": "3WhtU_W7zUvO"
      },
      "execution_count": 2,
      "outputs": []
    },
    {
      "cell_type": "markdown",
      "source": [
        "## generate dataset"
      ],
      "metadata": {
        "id": "8I36D4HcYMVX"
      }
    },
    {
      "cell_type": "code",
      "source": [
        "benchmark = PowerGridBenchmark(benchmark_path=DATA_PATH,\n",
        "                                benchmark_name=benchmark_name,\n",
        "                                load_data_set=False,\n",
        "                                config_path=BENCH_CONFIG_PATH,\n",
        "                                log_path=LOG_PATH)"
      ],
      "metadata": {
        "id": "wGeK2cMt3v3H"
      },
      "execution_count": 3,
      "outputs": []
    },
    {
      "cell_type": "code",
      "source": [
        "if debug:\n",
        "  benchmark.generate(nb_sample_train=100,\n",
        "                      nb_sample_val=10,\n",
        "                      nb_sample_test=10,\n",
        "                      nb_sample_test_ood_topo=10,\n",
        "                    )\n",
        "else:\n",
        "  benchmark.generate(nb_sample_train=int(1e5),\n",
        "                      nb_sample_val=int(1e4),\n",
        "                      nb_sample_test=int(1e4),\n",
        "                      nb_sample_test_ood_topo=int(1e4),\n",
        "                    )"
      ],
      "metadata": {
        "colab": {
          "base_uri": "https://localhost:8080/"
        },
        "id": "v2ZJXkil383s",
        "outputId": "883c975f-c524-4feb-a8a0-c98a3a151ebe"
      },
      "execution_count": 4,
      "outputs": [
        {
          "output_type": "stream",
          "name": "stderr",
          "text": [
            "WARNING:Benchmark:Deleting path /content/LIPS/reference_data/powergrid/l2rpn_case14_sandbox/Benchmark2 that might contain previous runs\n"
          ]
        },
        {
          "output_type": "stream",
          "name": "stdout",
          "text": [
            "downloading the training data, this may take a while.\n"
          ]
        },
        {
          "output_type": "stream",
          "name": "stderr",
          "text": [
            "l2rpn_case14_sandbox.tar.bz2: 294MB [00:39, 7.51MB/s]                           \n"
          ]
        },
        {
          "output_type": "stream",
          "name": "stdout",
          "text": [
            "Extract the tar archive in \"/root/data_grid2op\"\n",
            "\t Successfully updated file \"config.py\" for environment \"l2rpn_case14_sandbox\"\n",
            "\t Successfully updated file \"grid.json\" for environment \"l2rpn_case14_sandbox\"\n",
            "You may now use the environment \"l2rpn_case14_sandbox\" with the available data by invoking:\n",
            "\tenv = grid2op.make(\"l2rpn_case14_sandbox\")\n"
          ]
        },
        {
          "output_type": "stream",
          "name": "stderr",
          "text": [
            "100%|██████████| 100000/100000 [11:40<00:00, 142.72it/s]\n",
            "100%|██████████| 10000/10000 [01:26<00:00, 115.71it/s]\n",
            "100%|██████████| 10000/10000 [01:26<00:00, 116.27it/s]\n",
            "100%|██████████| 10000/10000 [01:29<00:00, 111.74it/s]\n"
          ]
        }
      ]
    },
    {
      "cell_type": "markdown",
      "source": [
        "# save"
      ],
      "metadata": {
        "id": "kzhtEWfuzkbU"
      }
    },
    {
      "cell_type": "code",
      "source": [
        "import pickle\n",
        "\n",
        "with open(SAVE_PATH + f'{benchmark_name}.pkl', 'wb') as f:\n",
        "  pickle.dump(benchmark, f)"
      ],
      "metadata": {
        "colab": {
          "base_uri": "https://localhost:8080/",
          "height": 176
        },
        "id": "DVwROh6vzlsQ",
        "outputId": "404fcb43-3645-48fa-cba3-30cbea59e88f"
      },
      "execution_count": null,
      "outputs": [
        {
          "output_type": "error",
          "ename": "AttributeError",
          "evalue": "Can't pickle local object 'Grid2opSimulator.__init__.<locals>.<lambda>'",
          "traceback": [
            "\u001b[0;31m---------------------------------------------------------------------------\u001b[0m",
            "\u001b[0;31mAttributeError\u001b[0m                            Traceback (most recent call last)",
            "\u001b[0;32m<ipython-input-5-6af3797bdefd>\u001b[0m in \u001b[0;36m<cell line: 3>\u001b[0;34m()\u001b[0m\n\u001b[1;32m      2\u001b[0m \u001b[0;34m\u001b[0m\u001b[0m\n\u001b[1;32m      3\u001b[0m \u001b[0;32mwith\u001b[0m \u001b[0mopen\u001b[0m\u001b[0;34m(\u001b[0m\u001b[0mSAVE_PATH\u001b[0m \u001b[0;34m+\u001b[0m \u001b[0;34mf'{benchmark_name}.pkl'\u001b[0m\u001b[0;34m,\u001b[0m \u001b[0;34m'wb'\u001b[0m\u001b[0;34m)\u001b[0m \u001b[0;32mas\u001b[0m \u001b[0mf\u001b[0m\u001b[0;34m:\u001b[0m\u001b[0;34m\u001b[0m\u001b[0;34m\u001b[0m\u001b[0m\n\u001b[0;32m----> 4\u001b[0;31m   \u001b[0mpickle\u001b[0m\u001b[0;34m.\u001b[0m\u001b[0mdump\u001b[0m\u001b[0;34m(\u001b[0m\u001b[0mbenchmark\u001b[0m\u001b[0;34m,\u001b[0m \u001b[0mf\u001b[0m\u001b[0;34m)\u001b[0m\u001b[0;34m\u001b[0m\u001b[0;34m\u001b[0m\u001b[0m\n\u001b[0m",
            "\u001b[0;31mAttributeError\u001b[0m: Can't pickle local object 'Grid2opSimulator.__init__.<locals>.<lambda>'"
          ]
        }
      ]
    },
    {
      "cell_type": "markdown",
      "source": [
        "# load"
      ],
      "metadata": {
        "id": "U8Qri0H0zsWv"
      }
    },
    {
      "cell_type": "code",
      "source": [
        "import pickle\n",
        "\n",
        "with open(SAVE_PATH + f'{benchmark_name}.pkl', 'rb') as f:\n",
        "  benchmark = pickle.load(f)"
      ],
      "metadata": {
        "id": "wySMHqraztck"
      },
      "execution_count": null,
      "outputs": []
    },
    {
      "cell_type": "markdown",
      "source": [
        "# train"
      ],
      "metadata": {
        "id": "C9O8lKw8YOeZ"
      }
    },
    {
      "cell_type": "code",
      "source": [
        "benchmark = PowerGridBenchmark(benchmark_name=benchmark_name,\n",
        "                                benchmark_path=DATA_PATH,\n",
        "                                load_data_set=True,\n",
        "                                log_path=LOG_PATH,\n",
        "                                config_path=BENCH_CONFIG_PATH\n",
        "                               )"
      ],
      "metadata": {
        "id": "PIYkxL8my-rD"
      },
      "execution_count": 5,
      "outputs": []
    },
    {
      "cell_type": "code",
      "source": [
        "from lips.augmented_simulators.tensorflow_models import TfFullyConnected\n",
        "\n",
        "\n",
        "tf_fc = SimpNet(name=\"tf_fc\",\n",
        "                         bench_config_path=BENCH_CONFIG_PATH,\n",
        "                         bench_config_name=benchmark_name,\n",
        "                         sim_config_path=SIM_CONFIG_PATH / \"tf_fc.ini\",\n",
        "                         sim_config_name=\"DEFAULT\",\n",
        "                         scaler=StandardScaler,\n",
        "                         log_path=LOG_PATH,\n",
        "                lr= 1e-4,\n",
        "                )"
      ],
      "metadata": {
        "id": "tdUnkvn2zl0i",
        "colab": {
          "base_uri": "https://localhost:8080/"
        },
        "outputId": "4b102559-3f07-498d-e7ea-3f2d988e727f"
      },
      "execution_count": 6,
      "outputs": [
        {
          "output_type": "stream",
          "name": "stdout",
          "text": [
            "lr 0.0001\n"
          ]
        }
      ]
    },
    {
      "cell_type": "code",
      "source": [
        "tf_fc.train(train_dataset=benchmark.train_dataset,\n",
        "            val_dataset=benchmark.val_dataset,\n",
        "            epochs=1 if debug else 100\n",
        "           )"
      ],
      "metadata": {
        "colab": {
          "base_uri": "https://localhost:8080/"
        },
        "id": "zyyOWqx27U6e",
        "outputId": "1161d499-e426-4be5-a3e1-a74e758a707e"
      },
      "execution_count": 7,
      "outputs": [
        {
          "output_type": "stream",
          "name": "stdout",
          "text": [
            "Epoch 1/100\n",
            "\n",
            "Epoch 1: val_mae improved from inf to 0.57628, saving model to temp.keras\n",
            "782/782 - 47s - loss: 236.2394 - mae: 0.5498 - val_loss: 215.3112 - val_mae: 0.5763 - 47s/epoch - 60ms/step\n",
            "Epoch 2/100\n",
            "\n",
            "Epoch 2: val_mae did not improve from 0.57628\n",
            "782/782 - 27s - loss: 1018.1193 - mae: 0.5373 - val_loss: 224.5096 - val_mae: 0.5766 - 27s/epoch - 35ms/step\n",
            "Epoch 3/100\n",
            "\n",
            "Epoch 3: val_mae improved from 0.57628 to 0.56804, saving model to temp.keras\n",
            "782/782 - 27s - loss: 658.9605 - mae: 0.5437 - val_loss: 207.6718 - val_mae: 0.5680 - 27s/epoch - 35ms/step\n",
            "Epoch 4/100\n",
            "\n",
            "Epoch 4: val_mae did not improve from 0.56804\n",
            "782/782 - 27s - loss: 527.0431 - mae: 0.5723 - val_loss: 182.5623 - val_mae: 0.5754 - 27s/epoch - 34ms/step\n",
            "Epoch 5/100\n",
            "\n",
            "Epoch 5: val_mae improved from 0.56804 to 0.55458, saving model to temp.keras\n",
            "782/782 - 27s - loss: 526.0271 - mae: 0.5383 - val_loss: 136.8379 - val_mae: 0.5546 - 27s/epoch - 35ms/step\n",
            "Epoch 6/100\n",
            "\n",
            "Epoch 6: val_mae did not improve from 0.55458\n",
            "782/782 - 27s - loss: 503.5642 - mae: 0.5399 - val_loss: 162.3230 - val_mae: 0.5627 - 27s/epoch - 34ms/step\n",
            "Epoch 7/100\n",
            "\n",
            "Epoch 7: val_mae did not improve from 0.55458\n",
            "782/782 - 27s - loss: 379.6241 - mae: 0.5286 - val_loss: 177.2461 - val_mae: 0.5572 - 27s/epoch - 35ms/step\n",
            "Epoch 8/100\n",
            "\n",
            "Epoch 8: val_mae improved from 0.55458 to 0.55347, saving model to temp.keras\n",
            "782/782 - 28s - loss: 511.3624 - mae: 0.5264 - val_loss: 133.0753 - val_mae: 0.5535 - 28s/epoch - 36ms/step\n",
            "Epoch 9/100\n",
            "\n",
            "Epoch 9: val_mae improved from 0.55347 to 0.54749, saving model to temp.keras\n",
            "782/782 - 27s - loss: 342.2043 - mae: 0.5253 - val_loss: 109.3900 - val_mae: 0.5475 - 27s/epoch - 35ms/step\n",
            "Epoch 10/100\n",
            "\n",
            "Epoch 10: val_mae did not improve from 0.54749\n",
            "782/782 - 27s - loss: 279.0381 - mae: 0.5232 - val_loss: 118.5344 - val_mae: 0.5495 - 27s/epoch - 35ms/step\n",
            "Epoch 11/100\n",
            "\n",
            "Epoch 11: val_mae improved from 0.54749 to 0.54711, saving model to temp.keras\n",
            "782/782 - 28s - loss: 228.8144 - mae: 0.5231 - val_loss: 107.5339 - val_mae: 0.5471 - 28s/epoch - 36ms/step\n",
            "Epoch 12/100\n",
            "\n",
            "Epoch 12: val_mae did not improve from 0.54711\n",
            "782/782 - 27s - loss: 196.1463 - mae: 0.5240 - val_loss: 108.4357 - val_mae: 0.5505 - 27s/epoch - 35ms/step\n",
            "Epoch 13/100\n",
            "\n",
            "Epoch 13: val_mae improved from 0.54711 to 0.54692, saving model to temp.keras\n",
            "782/782 - 27s - loss: 186.7025 - mae: 0.5236 - val_loss: 100.5542 - val_mae: 0.5469 - 27s/epoch - 35ms/step\n",
            "Epoch 14/100\n",
            "\n",
            "Epoch 14: val_mae did not improve from 0.54692\n",
            "782/782 - 27s - loss: 186.3995 - mae: 0.5229 - val_loss: 108.4861 - val_mae: 0.5480 - 27s/epoch - 35ms/step\n",
            "Epoch 15/100\n",
            "\n",
            "Epoch 15: val_mae did not improve from 0.54692\n",
            "782/782 - 28s - loss: 204.0550 - mae: 0.5240 - val_loss: 106.9079 - val_mae: 0.5474 - 28s/epoch - 35ms/step\n",
            "Epoch 16/100\n",
            "\n",
            "Epoch 16: val_mae did not improve from 0.54692\n",
            "782/782 - 29s - loss: 162.9003 - mae: 0.5220 - val_loss: 109.4735 - val_mae: 0.5478 - 29s/epoch - 37ms/step\n",
            "Epoch 17/100\n",
            "\n",
            "Epoch 17: val_mae did not improve from 0.54692\n",
            "782/782 - 29s - loss: 204.1119 - mae: 0.5221 - val_loss: 99.2040 - val_mae: 0.5470 - 29s/epoch - 36ms/step\n",
            "Epoch 18/100\n",
            "\n",
            "Epoch 18: val_mae did not improve from 0.54692\n",
            "782/782 - 27s - loss: 183.5326 - mae: 0.5220 - val_loss: 94.0909 - val_mae: 0.5484 - 27s/epoch - 35ms/step\n",
            "Epoch 19/100\n",
            "\n",
            "Epoch 19: val_mae did not improve from 0.54692\n",
            "782/782 - 28s - loss: 144.6581 - mae: 0.5225 - val_loss: 99.9435 - val_mae: 0.5482 - 28s/epoch - 35ms/step\n",
            "Epoch 20/100\n",
            "\n",
            "Epoch 20: val_mae did not improve from 0.54692\n",
            "782/782 - 29s - loss: 140.6633 - mae: 0.5232 - val_loss: 97.6651 - val_mae: 0.5495 - 29s/epoch - 38ms/step\n",
            "Epoch 21/100\n",
            "\n",
            "Epoch 21: val_mae improved from 0.54692 to 0.54667, saving model to temp.keras\n",
            "782/782 - 28s - loss: 129.3108 - mae: 0.5235 - val_loss: 100.6537 - val_mae: 0.5467 - 28s/epoch - 36ms/step\n",
            "Epoch 22/100\n",
            "\n",
            "Epoch 22: val_mae did not improve from 0.54667\n",
            "782/782 - 29s - loss: 145.1258 - mae: 0.5214 - val_loss: 93.9549 - val_mae: 0.5478 - 29s/epoch - 37ms/step\n",
            "Epoch 23/100\n",
            "\n",
            "Epoch 23: val_mae improved from 0.54667 to 0.54464, saving model to temp.keras\n",
            "782/782 - 30s - loss: 155.9065 - mae: 0.5218 - val_loss: 92.7732 - val_mae: 0.5446 - 30s/epoch - 38ms/step\n",
            "Epoch 24/100\n",
            "\n",
            "Epoch 24: val_mae did not improve from 0.54464\n",
            "782/782 - 29s - loss: 201.1314 - mae: 0.5217 - val_loss: 89.0127 - val_mae: 0.5484 - 29s/epoch - 37ms/step\n",
            "Epoch 25/100\n",
            "\n",
            "Epoch 25: val_mae did not improve from 0.54464\n",
            "782/782 - 28s - loss: 103.7064 - mae: 0.5243 - val_loss: 84.7622 - val_mae: 0.5486 - 28s/epoch - 36ms/step\n",
            "Epoch 26/100\n",
            "\n",
            "Epoch 26: val_mae did not improve from 0.54464\n",
            "782/782 - 28s - loss: 98.6611 - mae: 0.5243 - val_loss: 84.7117 - val_mae: 0.5491 - 28s/epoch - 35ms/step\n",
            "Epoch 27/100\n",
            "\n",
            "Epoch 27: val_mae did not improve from 0.54464\n",
            "782/782 - 28s - loss: 109.2807 - mae: 0.5245 - val_loss: 84.4215 - val_mae: 0.5494 - 28s/epoch - 36ms/step\n",
            "Epoch 28/100\n",
            "\n",
            "Epoch 28: val_mae did not improve from 0.54464\n",
            "782/782 - 28s - loss: 114.7760 - mae: 0.5241 - val_loss: 85.4678 - val_mae: 0.5478 - 28s/epoch - 36ms/step\n",
            "Epoch 29/100\n",
            "\n",
            "Epoch 29: val_mae did not improve from 0.54464\n",
            "782/782 - 28s - loss: 108.0324 - mae: 0.5227 - val_loss: 89.8331 - val_mae: 0.5466 - 28s/epoch - 36ms/step\n",
            "Epoch 30/100\n",
            "\n",
            "Epoch 30: val_mae did not improve from 0.54464\n",
            "782/782 - 29s - loss: 112.5350 - mae: 0.5236 - val_loss: 85.4735 - val_mae: 0.5481 - 29s/epoch - 38ms/step\n",
            "Epoch 31/100\n",
            "\n",
            "Epoch 31: val_mae did not improve from 0.54464\n",
            "782/782 - 29s - loss: 106.7718 - mae: 0.5220 - val_loss: 87.8113 - val_mae: 0.5465 - 29s/epoch - 37ms/step\n",
            "Epoch 32/100\n",
            "\n",
            "Epoch 32: val_mae did not improve from 0.54464\n",
            "782/782 - 28s - loss: 110.2550 - mae: 0.5227 - val_loss: 90.7657 - val_mae: 0.5481 - 28s/epoch - 36ms/step\n",
            "Epoch 33/100\n",
            "\n",
            "Epoch 33: val_mae did not improve from 0.54464\n",
            "782/782 - 29s - loss: 124.9332 - mae: 0.5228 - val_loss: 93.2319 - val_mae: 0.5472 - 29s/epoch - 37ms/step\n",
            "Epoch 34/100\n",
            "\n",
            "Epoch 34: val_mae did not improve from 0.54464\n",
            "782/782 - 29s - loss: 110.8612 - mae: 0.5227 - val_loss: 85.9912 - val_mae: 0.5470 - 29s/epoch - 37ms/step\n",
            "Epoch 35/100\n",
            "\n",
            "Epoch 35: val_mae did not improve from 0.54464\n",
            "782/782 - 29s - loss: 101.6223 - mae: 0.5228 - val_loss: 84.3110 - val_mae: 0.5470 - 29s/epoch - 37ms/step\n",
            "Epoch 36/100\n",
            "\n",
            "Epoch 36: val_mae did not improve from 0.54464\n",
            "782/782 - 27s - loss: 97.2039 - mae: 0.5235 - val_loss: 83.4736 - val_mae: 0.5487 - 27s/epoch - 35ms/step\n",
            "Epoch 37/100\n",
            "\n",
            "Epoch 37: val_mae did not improve from 0.54464\n",
            "782/782 - 28s - loss: 89.5735 - mae: 0.5245 - val_loss: 82.2544 - val_mae: 0.5498 - 28s/epoch - 35ms/step\n",
            "Epoch 38/100\n",
            "\n",
            "Epoch 38: val_mae did not improve from 0.54464\n",
            "782/782 - 27s - loss: 85.3637 - mae: 0.5243 - val_loss: 82.1856 - val_mae: 0.5483 - 27s/epoch - 35ms/step\n",
            "Epoch 39/100\n",
            "\n",
            "Epoch 39: val_mae did not improve from 0.54464\n",
            "782/782 - 29s - loss: 88.3549 - mae: 0.5231 - val_loss: 85.5207 - val_mae: 0.5480 - 29s/epoch - 36ms/step\n",
            "Epoch 40/100\n",
            "\n",
            "Epoch 40: val_mae did not improve from 0.54464\n",
            "782/782 - 29s - loss: 100.5027 - mae: 0.5232 - val_loss: 83.9624 - val_mae: 0.5475 - 29s/epoch - 37ms/step\n",
            "Epoch 41/100\n",
            "\n",
            "Epoch 41: val_mae did not improve from 0.54464\n",
            "782/782 - 29s - loss: 93.5355 - mae: 0.5228 - val_loss: 84.5425 - val_mae: 0.5482 - 29s/epoch - 37ms/step\n",
            "Epoch 42/100\n",
            "\n",
            "Epoch 42: val_mae did not improve from 0.54464\n",
            "782/782 - 28s - loss: 105.0968 - mae: 0.5240 - val_loss: 82.9826 - val_mae: 0.5489 - 28s/epoch - 35ms/step\n",
            "Epoch 43/100\n",
            "\n",
            "Epoch 43: val_mae did not improve from 0.54464\n",
            "782/782 - 29s - loss: 94.0643 - mae: 0.5234 - val_loss: 84.3486 - val_mae: 0.5471 - 29s/epoch - 37ms/step\n",
            "Epoch 44/100\n",
            "\n",
            "Epoch 44: val_mae did not improve from 0.54464\n",
            "782/782 - 28s - loss: 89.2866 - mae: 0.5238 - val_loss: 83.7424 - val_mae: 0.5491 - 28s/epoch - 35ms/step\n",
            "Epoch 45/100\n",
            "\n",
            "Epoch 45: val_mae did not improve from 0.54464\n",
            "782/782 - 29s - loss: 96.2150 - mae: 0.5242 - val_loss: 84.4112 - val_mae: 0.5482 - 29s/epoch - 37ms/step\n",
            "Epoch 46/100\n",
            "\n",
            "Epoch 46: val_mae did not improve from 0.54464\n",
            "782/782 - 28s - loss: 87.7106 - mae: 0.5242 - val_loss: 83.6206 - val_mae: 0.5492 - 28s/epoch - 36ms/step\n",
            "Epoch 47/100\n",
            "\n",
            "Epoch 47: val_mae did not improve from 0.54464\n",
            "782/782 - 29s - loss: 85.5736 - mae: 0.5244 - val_loss: 82.6266 - val_mae: 0.5487 - 29s/epoch - 37ms/step\n",
            "Epoch 48/100\n",
            "\n",
            "Epoch 48: val_mae did not improve from 0.54464\n",
            "782/782 - 28s - loss: 84.2040 - mae: 0.5243 - val_loss: 82.7200 - val_mae: 0.5482 - 28s/epoch - 35ms/step\n",
            "Epoch 49/100\n",
            "\n",
            "Epoch 49: val_mae did not improve from 0.54464\n",
            "782/782 - 27s - loss: 82.9126 - mae: 0.5243 - val_loss: 82.1957 - val_mae: 0.5497 - 27s/epoch - 35ms/step\n",
            "Epoch 50/100\n",
            "\n",
            "Epoch 50: val_mae did not improve from 0.54464\n",
            "782/782 - 27s - loss: 82.9619 - mae: 0.5245 - val_loss: 82.2686 - val_mae: 0.5485 - 27s/epoch - 35ms/step\n",
            "Epoch 51/100\n",
            "\n",
            "Epoch 51: val_mae did not improve from 0.54464\n",
            "782/782 - 28s - loss: 83.0530 - mae: 0.5237 - val_loss: 82.5657 - val_mae: 0.5475 - 28s/epoch - 35ms/step\n",
            "Epoch 52/100\n",
            "\n",
            "Epoch 52: val_mae did not improve from 0.54464\n",
            "782/782 - 28s - loss: 83.1354 - mae: 0.5237 - val_loss: 82.2297 - val_mae: 0.5469 - 28s/epoch - 35ms/step\n",
            "Epoch 53/100\n",
            "\n",
            "Epoch 53: val_mae did not improve from 0.54464\n",
            "782/782 - 28s - loss: 82.6516 - mae: 0.5232 - val_loss: 81.9521 - val_mae: 0.5458 - 28s/epoch - 35ms/step\n",
            "Epoch 54/100\n",
            "\n",
            "Epoch 54: val_mae did not improve from 0.54464\n",
            "782/782 - 29s - loss: 83.0395 - mae: 0.5224 - val_loss: 82.1597 - val_mae: 0.5450 - 29s/epoch - 37ms/step\n",
            "Epoch 55/100\n",
            "\n",
            "Epoch 55: val_mae did not improve from 0.54464\n",
            "782/782 - 28s - loss: 83.5391 - mae: 0.5257 - val_loss: 83.0923 - val_mae: 0.5515 - 28s/epoch - 36ms/step\n",
            "Epoch 56/100\n",
            "\n",
            "Epoch 56: val_mae did not improve from 0.54464\n",
            "782/782 - 27s - loss: 82.8998 - mae: 0.5267 - val_loss: 82.7885 - val_mae: 0.5516 - 27s/epoch - 35ms/step\n",
            "Epoch 57/100\n",
            "\n",
            "Epoch 57: val_mae did not improve from 0.54464\n",
            "782/782 - 29s - loss: 82.8248 - mae: 0.5268 - val_loss: 82.7235 - val_mae: 0.5516 - 29s/epoch - 37ms/step\n",
            "Epoch 58/100\n",
            "\n",
            "Epoch 58: val_mae did not improve from 0.54464\n",
            "782/782 - 27s - loss: 82.3238 - mae: 0.5269 - val_loss: 82.8190 - val_mae: 0.5517 - 27s/epoch - 34ms/step\n",
            "Epoch 59/100\n",
            "\n",
            "Epoch 59: val_mae did not improve from 0.54464\n",
            "782/782 - 27s - loss: 82.5564 - mae: 0.5270 - val_loss: 82.6715 - val_mae: 0.5518 - 27s/epoch - 34ms/step\n",
            "Epoch 60/100\n",
            "\n",
            "Epoch 60: val_mae did not improve from 0.54464\n",
            "782/782 - 27s - loss: 82.3381 - mae: 0.5270 - val_loss: 82.6630 - val_mae: 0.5519 - 27s/epoch - 35ms/step\n",
            "Epoch 61/100\n",
            "\n",
            "Epoch 61: val_mae did not improve from 0.54464\n",
            "782/782 - 27s - loss: 82.6180 - mae: 0.5271 - val_loss: 82.7129 - val_mae: 0.5519 - 27s/epoch - 34ms/step\n",
            "Epoch 62/100\n",
            "\n",
            "Epoch 62: val_mae did not improve from 0.54464\n",
            "782/782 - 28s - loss: 82.3407 - mae: 0.5271 - val_loss: 82.9981 - val_mae: 0.5519 - 28s/epoch - 35ms/step\n",
            "Epoch 63/100\n",
            "\n",
            "Epoch 63: val_mae did not improve from 0.54464\n",
            "782/782 - 27s - loss: 82.4594 - mae: 0.5271 - val_loss: 82.7856 - val_mae: 0.5519 - 27s/epoch - 34ms/step\n",
            "Epoch 64/100\n",
            "\n",
            "Epoch 64: val_mae did not improve from 0.54464\n",
            "782/782 - 27s - loss: 82.6045 - mae: 0.5272 - val_loss: 82.7255 - val_mae: 0.5520 - 27s/epoch - 34ms/step\n",
            "Epoch 65/100\n",
            "\n",
            "Epoch 65: val_mae did not improve from 0.54464\n",
            "782/782 - 26s - loss: 82.2161 - mae: 0.5272 - val_loss: 82.7199 - val_mae: 0.5520 - 26s/epoch - 34ms/step\n",
            "Epoch 66/100\n",
            "\n",
            "Epoch 66: val_mae did not improve from 0.54464\n",
            "782/782 - 27s - loss: 82.6540 - mae: 0.5272 - val_loss: 82.8146 - val_mae: 0.5520 - 27s/epoch - 34ms/step\n",
            "Epoch 67/100\n",
            "\n",
            "Epoch 67: val_mae did not improve from 0.54464\n",
            "782/782 - 28s - loss: 82.2873 - mae: 0.5272 - val_loss: 82.7558 - val_mae: 0.5520 - 28s/epoch - 36ms/step\n",
            "Epoch 68/100\n",
            "\n",
            "Epoch 68: val_mae did not improve from 0.54464\n",
            "782/782 - 27s - loss: 82.4770 - mae: 0.5273 - val_loss: 82.8247 - val_mae: 0.5521 - 27s/epoch - 34ms/step\n",
            "Epoch 69/100\n",
            "\n",
            "Epoch 69: val_mae did not improve from 0.54464\n",
            "782/782 - 28s - loss: 82.4805 - mae: 0.5273 - val_loss: 82.7721 - val_mae: 0.5521 - 28s/epoch - 36ms/step\n",
            "Epoch 70/100\n",
            "\n",
            "Epoch 70: val_mae did not improve from 0.54464\n",
            "782/782 - 27s - loss: 82.4374 - mae: 0.5273 - val_loss: 82.6656 - val_mae: 0.5521 - 27s/epoch - 34ms/step\n",
            "Epoch 71/100\n",
            "\n",
            "Epoch 71: val_mae did not improve from 0.54464\n",
            "782/782 - 27s - loss: 82.4424 - mae: 0.5273 - val_loss: 82.7067 - val_mae: 0.5521 - 27s/epoch - 34ms/step\n",
            "Epoch 72/100\n",
            "\n",
            "Epoch 72: val_mae did not improve from 0.54464\n",
            "782/782 - 26s - loss: 82.4209 - mae: 0.5273 - val_loss: 82.8297 - val_mae: 0.5521 - 26s/epoch - 34ms/step\n",
            "Epoch 73/100\n",
            "\n",
            "Epoch 73: val_mae did not improve from 0.54464\n",
            "782/782 - 26s - loss: 82.4876 - mae: 0.5273 - val_loss: 82.9458 - val_mae: 0.5521 - 26s/epoch - 34ms/step\n",
            "Epoch 74/100\n",
            "\n",
            "Epoch 74: val_mae did not improve from 0.54464\n",
            "782/782 - 26s - loss: 82.4481 - mae: 0.5273 - val_loss: 82.7399 - val_mae: 0.5521 - 26s/epoch - 34ms/step\n",
            "Epoch 75/100\n",
            "\n",
            "Epoch 75: val_mae did not improve from 0.54464\n",
            "782/782 - 28s - loss: 82.3529 - mae: 0.5273 - val_loss: 82.8738 - val_mae: 0.5521 - 28s/epoch - 36ms/step\n",
            "Epoch 76/100\n",
            "\n",
            "Epoch 76: val_mae did not improve from 0.54464\n",
            "782/782 - 26s - loss: 82.6146 - mae: 0.5273 - val_loss: 82.8406 - val_mae: 0.5521 - 26s/epoch - 33ms/step\n",
            "Epoch 77/100\n",
            "\n",
            "Epoch 77: val_mae did not improve from 0.54464\n",
            "782/782 - 26s - loss: 82.1879 - mae: 0.5274 - val_loss: 82.7473 - val_mae: 0.5521 - 26s/epoch - 34ms/step\n",
            "Epoch 78/100\n",
            "\n",
            "Epoch 78: val_mae did not improve from 0.54464\n",
            "782/782 - 26s - loss: 82.7237 - mae: 0.5274 - val_loss: 82.6914 - val_mae: 0.5522 - 26s/epoch - 33ms/step\n",
            "Epoch 79/100\n",
            "\n",
            "Epoch 79: val_mae did not improve from 0.54464\n",
            "782/782 - 28s - loss: 82.1718 - mae: 0.5274 - val_loss: 82.7335 - val_mae: 0.5521 - 28s/epoch - 35ms/step\n",
            "Epoch 80/100\n",
            "\n",
            "Epoch 80: val_mae did not improve from 0.54464\n",
            "782/782 - 26s - loss: 82.7564 - mae: 0.5274 - val_loss: 82.7418 - val_mae: 0.5521 - 26s/epoch - 33ms/step\n",
            "Epoch 81/100\n",
            "\n",
            "Epoch 81: val_mae did not improve from 0.54464\n",
            "782/782 - 26s - loss: 82.1406 - mae: 0.5273 - val_loss: 82.8100 - val_mae: 0.5522 - 26s/epoch - 34ms/step\n",
            "Epoch 82/100\n",
            "\n",
            "Epoch 82: val_mae did not improve from 0.54464\n",
            "782/782 - 26s - loss: 82.6992 - mae: 0.5274 - val_loss: 82.8942 - val_mae: 0.5522 - 26s/epoch - 33ms/step\n",
            "Epoch 83/100\n",
            "\n",
            "Epoch 83: val_mae did not improve from 0.54464\n",
            "782/782 - 28s - loss: 82.2840 - mae: 0.5274 - val_loss: 82.7569 - val_mae: 0.5521 - 28s/epoch - 36ms/step\n",
            "Epoch 84/100\n",
            "\n",
            "Epoch 84: val_mae did not improve from 0.54464\n",
            "782/782 - 26s - loss: 82.4563 - mae: 0.5274 - val_loss: 82.6741 - val_mae: 0.5522 - 26s/epoch - 33ms/step\n",
            "Epoch 85/100\n",
            "\n",
            "Epoch 85: val_mae did not improve from 0.54464\n",
            "782/782 - 26s - loss: 82.5691 - mae: 0.5274 - val_loss: 82.7554 - val_mae: 0.5522 - 26s/epoch - 34ms/step\n",
            "Epoch 86/100\n",
            "\n",
            "Epoch 86: val_mae did not improve from 0.54464\n",
            "782/782 - 28s - loss: 82.2243 - mae: 0.5274 - val_loss: 82.9803 - val_mae: 0.5521 - 28s/epoch - 36ms/step\n",
            "Epoch 87/100\n",
            "\n",
            "Epoch 87: val_mae did not improve from 0.54464\n",
            "782/782 - 28s - loss: 82.6224 - mae: 0.5274 - val_loss: 82.7165 - val_mae: 0.5521 - 28s/epoch - 35ms/step\n",
            "Epoch 88/100\n",
            "\n",
            "Epoch 88: val_mae did not improve from 0.54464\n",
            "782/782 - 26s - loss: 82.3275 - mae: 0.5274 - val_loss: 82.8088 - val_mae: 0.5521 - 26s/epoch - 34ms/step\n",
            "Epoch 89/100\n",
            "\n",
            "Epoch 89: val_mae did not improve from 0.54464\n",
            "782/782 - 28s - loss: 82.5793 - mae: 0.5274 - val_loss: 82.9021 - val_mae: 0.5521 - 28s/epoch - 35ms/step\n",
            "Epoch 90/100\n",
            "\n",
            "Epoch 90: val_mae did not improve from 0.54464\n",
            "782/782 - 28s - loss: 82.1761 - mae: 0.5274 - val_loss: 82.7407 - val_mae: 0.5521 - 28s/epoch - 36ms/step\n",
            "Epoch 91/100\n",
            "\n",
            "Epoch 91: val_mae did not improve from 0.54464\n",
            "782/782 - 28s - loss: 82.6867 - mae: 0.5273 - val_loss: 82.7036 - val_mae: 0.5521 - 28s/epoch - 35ms/step\n",
            "Epoch 92/100\n",
            "\n",
            "Epoch 92: val_mae did not improve from 0.54464\n",
            "782/782 - 28s - loss: 82.1431 - mae: 0.5274 - val_loss: 82.7605 - val_mae: 0.5522 - 28s/epoch - 36ms/step\n",
            "Epoch 93/100\n",
            "\n",
            "Epoch 93: val_mae did not improve from 0.54464\n",
            "782/782 - 28s - loss: 82.7699 - mae: 0.5274 - val_loss: 82.7505 - val_mae: 0.5522 - 28s/epoch - 36ms/step\n",
            "Epoch 94/100\n",
            "\n",
            "Epoch 94: val_mae did not improve from 0.54464\n",
            "782/782 - 26s - loss: 82.1349 - mae: 0.5273 - val_loss: 82.8049 - val_mae: 0.5521 - 26s/epoch - 34ms/step\n",
            "Epoch 95/100\n",
            "\n",
            "Epoch 95: val_mae did not improve from 0.54464\n",
            "782/782 - 27s - loss: 82.7649 - mae: 0.5274 - val_loss: 82.7202 - val_mae: 0.5521 - 27s/epoch - 34ms/step\n",
            "Epoch 96/100\n",
            "\n",
            "Epoch 96: val_mae did not improve from 0.54464\n",
            "782/782 - 27s - loss: 82.1680 - mae: 0.5274 - val_loss: 82.6718 - val_mae: 0.5522 - 27s/epoch - 34ms/step\n",
            "Epoch 97/100\n",
            "\n",
            "Epoch 97: val_mae did not improve from 0.54464\n",
            "782/782 - 27s - loss: 82.6551 - mae: 0.5274 - val_loss: 82.6554 - val_mae: 0.5521 - 27s/epoch - 34ms/step\n",
            "Epoch 98/100\n",
            "\n",
            "Epoch 98: val_mae did not improve from 0.54464\n",
            "782/782 - 28s - loss: 82.3404 - mae: 0.5274 - val_loss: 82.7524 - val_mae: 0.5522 - 28s/epoch - 35ms/step\n",
            "Epoch 99/100\n",
            "\n",
            "Epoch 99: val_mae did not improve from 0.54464\n",
            "782/782 - 27s - loss: 82.5701 - mae: 0.5274 - val_loss: 82.7748 - val_mae: 0.5522 - 27s/epoch - 34ms/step\n",
            "Epoch 100/100\n",
            "\n",
            "Epoch 100: val_mae did not improve from 0.54464\n",
            "782/782 - 27s - loss: 82.4190 - mae: 0.5274 - val_loss: 82.7639 - val_mae: 0.5522 - 27s/epoch - 34ms/step\n"
          ]
        },
        {
          "output_type": "execute_result",
          "data": {
            "text/plain": [
              "<keras.src.callbacks.History at 0x7fac504e9c30>"
            ]
          },
          "metadata": {},
          "execution_count": 7
        }
      ]
    },
    {
      "cell_type": "markdown",
      "source": [
        "# Evaluate"
      ],
      "metadata": {
        "id": "Xk5A3t9QnQSe"
      }
    },
    {
      "cell_type": "code",
      "source": [
        "EVAL_SAVE_PATH = get_path(EVALUATION_PATH, benchmark)\n",
        "tf_fc_metrics = benchmark.evaluate_simulator(augmented_simulator=tf_fc,\n",
        "                                              eval_batch_size=128,\n",
        "                                              dataset=\"all\",\n",
        "                                              shuffle=False,\n",
        "                                              save_path=None,\n",
        "                                              save_predictions=False\n",
        "                                             )\n",
        "benchmark_name"
      ],
      "metadata": {
        "id": "NK_4FqBFldbS",
        "colab": {
          "base_uri": "https://localhost:8080/",
          "height": 243
        },
        "outputId": "655a3277-8bb4-474c-ea26-a1537b510ad7"
      },
      "execution_count": 8,
      "outputs": [
        {
          "output_type": "stream",
          "name": "stdout",
          "text": [
            "79/79 [==============================] - 3s 19ms/step\n",
            "1/1 [==============================] - 0s 481ms/step\n"
          ]
        },
        {
          "output_type": "stream",
          "name": "stderr",
          "text": [
            "100%|██████████| 10000/10000 [00:55<00:00, 180.06it/s]\n"
          ]
        },
        {
          "output_type": "stream",
          "name": "stdout",
          "text": [
            "34/34 [==============================] - 1s 25ms/step\n",
            "79/79 [==============================] - 2s 24ms/step\n",
            "1/1 [==============================] - 0s 497ms/step\n"
          ]
        },
        {
          "output_type": "stream",
          "name": "stderr",
          "text": [
            "100%|██████████| 10000/10000 [00:57<00:00, 173.41it/s]\n"
          ]
        },
        {
          "output_type": "stream",
          "name": "stdout",
          "text": [
            "34/34 [==============================] - 1s 26ms/step\n",
            "79/79 [==============================] - 1s 18ms/step\n",
            "1/1 [==============================] - 0s 494ms/step\n"
          ]
        },
        {
          "output_type": "stream",
          "name": "stderr",
          "text": [
            "100%|██████████| 10000/10000 [00:56<00:00, 178.04it/s]\n"
          ]
        },
        {
          "output_type": "stream",
          "name": "stdout",
          "text": [
            "34/34 [==============================] - 1s 26ms/step\n"
          ]
        },
        {
          "output_type": "execute_result",
          "data": {
            "text/plain": [
              "'Benchmark2'"
            ],
            "application/vnd.google.colaboratory.intrinsic+json": {
              "type": "string"
            }
          },
          "metadata": {},
          "execution_count": 8
        }
      ]
    },
    {
      "cell_type": "markdown",
      "source": [
        "## this"
      ],
      "metadata": {
        "id": "RldGUuHxHNo8"
      }
    },
    {
      "cell_type": "code",
      "source": [
        "tf_fc_metrics[\"test\"][\"ML\"]"
      ],
      "metadata": {
        "colab": {
          "base_uri": "https://localhost:8080/"
        },
        "outputId": "3e7583b1-1a6a-47c0-fc9b-f74ad0022c59",
        "id": "kO4akJG3HMA6"
      },
      "execution_count": 9,
      "outputs": [
        {
          "output_type": "execute_result",
          "data": {
            "text/plain": [
              "{'MSE_avg': {'a_or': 14217.05859375,\n",
              "  'a_ex': 29104.046875,\n",
              "  'p_or': 76.75428771972656,\n",
              "  'p_ex': 74.50575256347656,\n",
              "  'v_or': 262.2690734863281,\n",
              "  'v_ex': 183.61663818359375},\n",
              " 'MAE_avg': {'a_or': 66.88104248046875,\n",
              "  'a_ex': 96.34941864013672,\n",
              "  'p_or': 5.628706455230713,\n",
              "  'p_ex': 5.545525074005127,\n",
              "  'v_or': 2.4226315021514893,\n",
              "  'v_ex': 1.9507699012756348},\n",
              " 'MAPE_avg': {'a_or': 2.633896210464768e+16,\n",
              "  'a_ex': 3.844669610288742e+16,\n",
              "  'p_or': 2158800081518592.0,\n",
              "  'p_ex': 2167819647057920.0,\n",
              "  'v_or': 9382669590724608.0,\n",
              "  'v_ex': 7157213495820288.0},\n",
              " 'MAPE_90_avg': {'a_or': 0.4060016141809523,\n",
              "  'a_ex': 0.4066787521235645,\n",
              "  'p_or': 0.5093362069740891,\n",
              "  'p_ex': 0.5099989616297186,\n",
              "  'v_or': 0.0105414654373177,\n",
              "  'v_ex': 0.015006513080139736},\n",
              " 'TIME_INF': 0.6824117469996054}"
            ]
          },
          "metadata": {},
          "execution_count": 9
        }
      ]
    },
    {
      "cell_type": "code",
      "source": [
        "tf_fc_metrics[\"test\"][\"Physics\"]"
      ],
      "metadata": {
        "id": "LXathhCdHMA6",
        "colab": {
          "base_uri": "https://localhost:8080/"
        },
        "outputId": "68253277-ef51-4b4f-d09d-87d01b41132f"
      },
      "execution_count": 10,
      "outputs": [
        {
          "output_type": "execute_result",
          "data": {
            "text/plain": [
              "{'CURRENT_POS': {},\n",
              " 'VOLTAGE_POS': {},\n",
              " 'LOSS_POS': {'loss_criterion': 12713.584, 'violation_proportion': 0.302615},\n",
              " 'DISC_LINES': {'p_or': 1.0,\n",
              "  'p_ex': 1.0,\n",
              "  'a_or': 1.0,\n",
              "  'a_ex': 1.0,\n",
              "  'v_or': 1.0,\n",
              "  'v_ex': 1.0,\n",
              "  'violation_proportion': 1.0},\n",
              " 'CHECK_LOSS': {'violation_percentage': 0.0},\n",
              " 'CHECK_GC': {'violation_percentage': 99.92,\n",
              "  'mae': 1.1690978,\n",
              "  'wmape': 0.25146472},\n",
              " 'CHECK_LC': {'violation_percentage': 99.33142857142857,\n",
              "  'mae': 3.296624375697651,\n",
              "  'mape': 0.1553187069415481},\n",
              " 'CHECK_VOLTAGE_EQ': {'prop_voltages_violation': 0.9167933333333333},\n",
              " 'CHECK_JOULE_LAW': {'violation_proportion': 0.80192,\n",
              "  'mae': 0.05965056737594283,\n",
              "  'wmape': 0.49141952320329063}}"
            ]
          },
          "metadata": {},
          "execution_count": 10
        }
      ]
    },
    {
      "cell_type": "code",
      "source": [
        "tf_fc_metrics[\"test_ood_topo\"][\"ML\"]"
      ],
      "metadata": {
        "id": "Px73SL1xHMA6",
        "colab": {
          "base_uri": "https://localhost:8080/"
        },
        "outputId": "b349f64a-57a5-435a-f985-8c7c869b4639"
      },
      "execution_count": 11,
      "outputs": [
        {
          "output_type": "execute_result",
          "data": {
            "text/plain": [
              "{'MSE_avg': {'a_or': 28065.169921875,\n",
              "  'a_ex': 50374.16796875,\n",
              "  'p_or': 116.88166046142578,\n",
              "  'p_ex': 112.86602020263672,\n",
              "  'v_or': 264.9669189453125,\n",
              "  'v_ex': 189.63560485839844},\n",
              " 'MAE_avg': {'a_or': 89.33525085449219,\n",
              "  'a_ex': 125.35391998291016,\n",
              "  'p_or': 7.205313682556152,\n",
              "  'p_ex': 7.081238269805908,\n",
              "  'v_or': 2.513566732406616,\n",
              "  'v_ex': 2.098938226699829},\n",
              " 'MAPE_avg': {'a_or': 2.573194149180211e+16,\n",
              "  'a_ex': 3.778917096960819e+16,\n",
              "  'p_or': 2172600348311552.0,\n",
              "  'p_ex': 2254061919272960.0,\n",
              "  'v_or': 9410631975305216.0,\n",
              "  'v_ex': 7283339505434624.0},\n",
              " 'MAPE_90_avg': {'a_or': 0.4707261161543429,\n",
              "  'a_ex': 0.47159165241271256,\n",
              "  'p_or': 0.5571071199201046,\n",
              "  'p_ex': 0.5576454503722489,\n",
              "  'v_or': 0.012560535382333923,\n",
              "  'v_ex': 0.018158105024061726},\n",
              " 'TIME_INF': 0.5579535970000506}"
            ]
          },
          "metadata": {},
          "execution_count": 11
        }
      ]
    },
    {
      "cell_type": "code",
      "source": [
        "phys = tf_fc_metrics[\"test\"][\"Physics\"]\n",
        "\n",
        "print(\"1) Current positivity violation:\", (phys[\"CURRENT_POS\"][\"a_or\"][\"Violation_proportion\"]+phys[\"CURRENT_POS\"][\"a_ex\"][\"Violation_proportion\"])/2)#[\"a_or\"][\"Violation_proportion\"]\n",
        "if phys[\"VOLTAGE_POS\"]:\n",
        "    print(\"2) Voltage positivity violation:\", (phys[\"VOLTAGE_POS\"][\"v_or\"][\"Violation_proportion\"]+phys[\"VOLTAGE_POS\"][\"v_ex\"][\"Violation_proportion\"])/2)\n",
        "else:\n",
        "    print(\"2) Voltage positivity violation:\", 0)\n",
        "print(\"3) Loss positivity violation:\", phys[\"LOSS_POS\"][\"violation_proportion\"])\n",
        "print(\"4) Disconnected lines violation:\", phys[\"DISC_LINES\"])\n",
        "print(\"5) Violation of loss to be between [1,4]% of production:\", phys[\"CHECK_LOSS\"][\"violation_percentage\"])\n",
        "print(\"6) Violation of global conservation: {}% and its weighted mape: {}\".format(phys[\"CHECK_GC\"][\"violation_percentage\"], phys[\"CHECK_GC\"][\"wmape\"]))\n",
        "print(\"7) Violation of local conservation: {}% and its weighted mape: {}\".format(phys[\"CHECK_LC\"][\"violation_percentage\"], phys[\"CHECK_LC\"][\"mape\"]))\n",
        "print(\"8) Violation proportion of voltage equality at subs:\", phys[\"CHECK_VOLTAGE_EQ\"][\"prop_voltages_violation\"])"
      ],
      "metadata": {
        "id": "u5lDdpJcHMA7"
      },
      "execution_count": null,
      "outputs": []
    },
    {
      "cell_type": "markdown",
      "source": [
        "## b1"
      ],
      "metadata": {
        "id": "4Hx1n5u-pEd3"
      }
    },
    {
      "cell_type": "code",
      "source": [
        "tf_fc_metrics[\"test\"][\"ML\"] # this, b1"
      ],
      "metadata": {
        "colab": {
          "base_uri": "https://localhost:8080/"
        },
        "id": "rMr4IL1Pe4v6",
        "outputId": "8419c337-73f1-4da2-ac33-3fdbac9c3060"
      },
      "execution_count": null,
      "outputs": [
        {
          "output_type": "execute_result",
          "data": {
            "text/plain": [
              "{'MSE_avg': {'a_or': 1.7248914241790771, 'a_ex': 3.2528140544891357},\n",
              " 'MAE_avg': {'a_or': 0.755136251449585, 'a_ex': 1.0725153684616089},\n",
              " 'MAPE_avg': {'a_or': 229841953619968.0, 'a_ex': 360194714370048.0},\n",
              " 'MAPE_90_avg': {'a_or': 0.0028101804701745245, 'a_ex': 0.0027460730909808664},\n",
              " 'TIME_INF': 0.6930989120000959}"
            ]
          },
          "metadata": {},
          "execution_count": 6
        }
      ]
    },
    {
      "cell_type": "code",
      "source": [
        "tf_fc_metrics[\"test\"][\"Physics\"] # this"
      ],
      "metadata": {
        "colab": {
          "base_uri": "https://localhost:8080/"
        },
        "id": "bV17wzv0e69p",
        "outputId": "1f3d931d-8e0f-46d7-dd24-27ad6429627a"
      },
      "execution_count": null,
      "outputs": [
        {
          "output_type": "execute_result",
          "data": {
            "text/plain": [
              "{'CURRENT_POS': {'a_or': {'Error': 4648.5322265625,\n",
              "   'Violation_proportion': 0.01981},\n",
              "  'a_ex': {'Error': 7252.73681640625, 'Violation_proportion': 0.019355}}}"
            ]
          },
          "metadata": {},
          "execution_count": 7
        }
      ]
    },
    {
      "cell_type": "code",
      "source": [
        "tf_fc_metrics[\"test_ood_topo\"][\"ML\"] # this"
      ],
      "metadata": {
        "colab": {
          "base_uri": "https://localhost:8080/"
        },
        "id": "Vr5dlqeJ9hB9",
        "outputId": "9b324125-cf0e-4dde-8d35-98aa9ca30200"
      },
      "execution_count": null,
      "outputs": [
        {
          "output_type": "execute_result",
          "data": {
            "text/plain": [
              "{'MSE_avg': {'a_or': 9340.43359375, 'a_ex': 15330.8017578125},\n",
              " 'MAE_avg': {'a_or': 44.300376892089844, 'a_ex': 59.453521728515625},\n",
              " 'MAPE_avg': {'a_or': 3.277412448914637e+16, 'a_ex': 4.899427678840422e+16},\n",
              " 'MAPE_90_avg': {'a_or': 0.20768380483642468, 'a_ex': 0.20786264408335828},\n",
              " 'TIME_INF': 0.6934249860005366}"
            ]
          },
          "metadata": {},
          "execution_count": 8
        }
      ]
    },
    {
      "cell_type": "code",
      "source": [
        "tf_fc_metrics[\"test\"][\"ML\"] # best, transformer layernorm d_model=dff=512 layers=6 heads=8"
      ],
      "metadata": {
        "colab": {
          "base_uri": "https://localhost:8080/"
        },
        "id": "4CO6DGGI1iGB",
        "outputId": "d9dcc8a1-6997-4357-a49b-1fd33097fb47"
      },
      "execution_count": null,
      "outputs": [
        {
          "output_type": "execute_result",
          "data": {
            "text/plain": [
              "{'MSE_avg': {'a_or': 1.784806251525879, 'a_ex': 2.854123830795288},\n",
              " 'MAE_avg': {'a_or': 0.798844039440155, 'a_ex': 1.0281407833099365},\n",
              " 'MAPE_avg': {'a_or': 228601379160064.0, 'a_ex': 290862433042432.0},\n",
              " 'MAPE_90_avg': {'a_or': 0.002680124914613662, 'a_ex': 0.0027341529372285596},\n",
              " 'TIME_INF': 0.6518575379996037}"
            ]
          },
          "metadata": {},
          "execution_count": 11
        }
      ]
    },
    {
      "cell_type": "code",
      "source": [
        "tf_fc_metrics[\"test\"][\"Physics\"] # best, transformer layernorm d_model=dff=512 layers=6 heads=8"
      ],
      "metadata": {
        "colab": {
          "base_uri": "https://localhost:8080/"
        },
        "id": "hhuEI68rb52j",
        "outputId": "bd4adfb2-4ed3-4587-e408-a3c7c1aa7600"
      },
      "execution_count": null,
      "outputs": [
        {
          "output_type": "execute_result",
          "data": {
            "text/plain": [
              "{'CURRENT_POS': {'a_or': {'Error': 8489.2646484375,\n",
              "   'Violation_proportion': 0.039765},\n",
              "  'a_ex': {'Error': 10200.7568359375, 'Violation_proportion': 0.03856}}}"
            ]
          },
          "metadata": {},
          "execution_count": 12
        }
      ]
    },
    {
      "cell_type": "code",
      "source": [
        "tf_fc_metrics[\"test_ood_topo\"][\"ML\"] # best, transformer layernorm d_model=dff=512 layers=6 heads=8"
      ],
      "metadata": {
        "colab": {
          "base_uri": "https://localhost:8080/"
        },
        "id": "tDyM87yCYiDB",
        "outputId": "6ed3638a-ab65-4cbf-dc45-caf675c2dd3b"
      },
      "execution_count": null,
      "outputs": [
        {
          "output_type": "execute_result",
          "data": {
            "text/plain": [
              "{'MSE_avg': {'a_or': 9912.9638671875, 'a_ex': 17243.9375},\n",
              " 'MAE_avg': {'a_or': 45.83586883544922, 'a_ex': 62.482566833496094},\n",
              " 'MAPE_avg': {'a_or': 3.4595882112385024e+16, 'a_ex': 5.423528364579226e+16},\n",
              " 'MAPE_90_avg': {'a_or': 0.21768888555268973, 'a_ex': 0.21705632176991366},\n",
              " 'TIME_INF': 0.6531008499987365}"
            ]
          },
          "metadata": {},
          "execution_count": 14
        }
      ]
    },
    {
      "cell_type": "markdown",
      "source": [
        "## B2"
      ],
      "metadata": {
        "id": "P5dt7FfE6uW3"
      }
    },
    {
      "cell_type": "code",
      "source": [
        "tf_fc_metrics[\"test\"][\"ML\"] # this"
      ],
      "metadata": {
        "id": "LzvJNf9BiZhH",
        "colab": {
          "base_uri": "https://localhost:8080/"
        },
        "outputId": "092cb929-4f0c-4206-d9fd-10dc6313c5ad"
      },
      "execution_count": null,
      "outputs": [
        {
          "output_type": "execute_result",
          "data": {
            "text/plain": [
              "{'MSE_avg': {'a_or': 3.4163074493408203,\n",
              "  'a_ex': 7.435972690582275,\n",
              "  'p_or': 0.00812915526330471,\n",
              "  'p_ex': 0.007996125146746635,\n",
              "  'v_or': 0.009718255139887333,\n",
              "  'v_ex': 0.007805672008544207},\n",
              " 'MAE_avg': {'a_or': 0.8820344805717468,\n",
              "  'a_ex': 1.2305068969726562,\n",
              "  'p_or': 0.05603257939219475,\n",
              "  'p_ex': 0.055735811591148376,\n",
              "  'v_or': 0.0538327731192112,\n",
              "  'v_ex': 0.042450688779354095},\n",
              " 'MAPE_avg': {'a_or': 156576623099904.0,\n",
              "  'a_ex': 227041853046784.0,\n",
              "  'p_or': 12760949719040.0,\n",
              "  'p_ex': 12954137264128.0,\n",
              "  'v_or': 21397730492416.0,\n",
              "  'v_ex': 19181099548672.0},\n",
              " 'MAPE_90_avg': {'a_or': 0.004189981612305778,\n",
              "  'a_ex': 0.004246600014431888,\n",
              "  'p_or': 0.0036684688836049915,\n",
              "  'p_ex': 0.003685390282287055,\n",
              "  'v_or': 0.0006132913072607021,\n",
              "  'v_ex': 0.0006335886259249298},\n",
              " 'TIME_INF': 0.6836444879991177}"
            ]
          },
          "metadata": {},
          "execution_count": 7
        }
      ]
    },
    {
      "cell_type": "code",
      "source": [
        "tf_fc_metrics[\"test\"][\"Physics\"] # this"
      ],
      "metadata": {
        "colab": {
          "base_uri": "https://localhost:8080/"
        },
        "id": "C0x26mUh0g5M",
        "outputId": "4b3f671d-4482-4965-9494-fd355087d0bb"
      },
      "execution_count": null,
      "outputs": [
        {
          "output_type": "execute_result",
          "data": {
            "text/plain": [
              "{'CURRENT_POS': {'a_or': {'Error': 3108.304443359375,\n",
              "   'Violation_proportion': 0.01267},\n",
              "  'a_ex': {'Error': 5611.6328125, 'Violation_proportion': 0.01287}},\n",
              " 'VOLTAGE_POS': {'v_or': {'Error': 416.2125244140625,\n",
              "   'Violation_proportion': 0.010835},\n",
              "  'v_ex': {'Error': 284.34210205078125, 'Violation_proportion': 0.009535}},\n",
              " 'LOSS_POS': {'loss_criterion': 841.58325, 'violation_proportion': 0.15677},\n",
              " 'DISC_LINES': {'p_or': 1.0,\n",
              "  'p_ex': 1.0,\n",
              "  'a_or': 1.0,\n",
              "  'a_ex': 1.0,\n",
              "  'v_or': 1.0,\n",
              "  'v_ex': 1.0,\n",
              "  'violation_proportion': 1.0},\n",
              " 'CHECK_LOSS': {'violation_percentage': 0.24},\n",
              " 'CHECK_GC': {'violation_percentage': 99.35000000000001,\n",
              "  'mae': 0.116668105,\n",
              "  'wmape': 0.02509449},\n",
              " 'CHECK_LC': {'violation_percentage': 80.79571428571428,\n",
              "  'mae': 0.05077320722671492,\n",
              "  'mape': 0.0023921526977303074},\n",
              " 'CHECK_VOLTAGE_EQ': {'prop_voltages_violation': 0.9936733333333333},\n",
              " 'CHECK_JOULE_LAW': {'violation_proportion': 0.2858133333333333,\n",
              "  'mae': 0.00849332081342187,\n",
              "  'wmape': 0.08036202025490415}}"
            ]
          },
          "metadata": {},
          "execution_count": 8
        }
      ]
    },
    {
      "cell_type": "code",
      "source": [
        "tf_fc_metrics[\"test_ood_topo\"][\"ML\"] # this"
      ],
      "metadata": {
        "colab": {
          "base_uri": "https://localhost:8080/"
        },
        "id": "VFRgVoRR0l5L",
        "outputId": "e5398dd3-ef96-4800-b789-ee6b2088b505"
      },
      "execution_count": null,
      "outputs": [
        {
          "output_type": "execute_result",
          "data": {
            "text/plain": [
              "{'MSE_avg': {'a_or': 4951.73876953125,\n",
              "  'a_ex': 7253.33837890625,\n",
              "  'p_or': 12.615303993225098,\n",
              "  'p_ex': 12.286676406860352,\n",
              "  'v_or': 0.798795759677887,\n",
              "  'v_ex': 0.4736838638782501},\n",
              " 'MAE_avg': {'a_or': 23.74113655090332,\n",
              "  'a_ex': 31.379329681396484,\n",
              "  'p_or': 1.825121283531189,\n",
              "  'p_ex': 1.7927690744400024,\n",
              "  'v_or': 0.5396459102630615,\n",
              "  'v_ex': 0.3918887972831726},\n",
              " 'MAPE_avg': {'a_or': 836157587849216.0,\n",
              "  'a_ex': 1346239111102464.0,\n",
              "  'p_or': 91425962196992.0,\n",
              "  'p_ex': 112682996858880.0,\n",
              "  'v_or': 81713589911552.0,\n",
              "  'v_ex': 65628731867136.0},\n",
              " 'MAPE_90_avg': {'a_or': 0.10341826005645646,\n",
              "  'a_ex': 0.10392443256988113,\n",
              "  'p_or': 0.10687728993259207,\n",
              "  'p_ex': 0.1064772475787747,\n",
              "  'v_or': 0.007269532575512265,\n",
              "  'v_ex': 0.007646203201812851},\n",
              " 'TIME_INF': 0.5293780879992482}"
            ]
          },
          "metadata": {},
          "execution_count": 9
        }
      ]
    },
    {
      "cell_type": "code",
      "source": [
        "# this\n",
        "phys = tf_fc_metrics[\"test\"][\"Physics\"]\n",
        "\n",
        "print(\"1) Current positivity violation:\", (phys[\"CURRENT_POS\"][\"a_or\"][\"Violation_proportion\"]+phys[\"CURRENT_POS\"][\"a_ex\"][\"Violation_proportion\"])/2)#[\"a_or\"][\"Violation_proportion\"]\n",
        "if phys[\"VOLTAGE_POS\"]:\n",
        "    print(\"2) Voltage positivity violation:\", (phys[\"VOLTAGE_POS\"][\"v_or\"][\"Violation_proportion\"]+phys[\"VOLTAGE_POS\"][\"v_ex\"][\"Violation_proportion\"])/2)\n",
        "else:\n",
        "    print(\"2) Voltage positivity violation:\", 0)\n",
        "print(\"3) Loss positivity violation:\", phys[\"LOSS_POS\"][\"violation_proportion\"])\n",
        "print(\"4) Disconnected lines violation:\", phys[\"DISC_LINES\"])\n",
        "print(\"5) Violation of loss to be between [1,4]% of production:\", phys[\"CHECK_LOSS\"][\"violation_percentage\"])\n",
        "print(\"6) Violation of global conservation: {}% and its weighted mape: {}\".format(phys[\"CHECK_GC\"][\"violation_percentage\"], phys[\"CHECK_GC\"][\"wmape\"]))\n",
        "print(\"7) Violation of local conservation: {}% and its weighted mape: {}\".format(phys[\"CHECK_LC\"][\"violation_percentage\"], phys[\"CHECK_LC\"][\"mape\"]))\n",
        "print(\"8) Violation proportion of voltage equality at subs:\", phys[\"CHECK_VOLTAGE_EQ\"][\"prop_voltages_violation\"])"
      ],
      "metadata": {
        "colab": {
          "base_uri": "https://localhost:8080/"
        },
        "id": "p4lR5cY-0pqp",
        "outputId": "9b703988-85b1-48a2-d3d0-2844c805d001"
      },
      "execution_count": null,
      "outputs": [
        {
          "output_type": "stream",
          "name": "stdout",
          "text": [
            "1) Current positivity violation: 0.01277\n",
            "2) Voltage positivity violation: 0.010185\n",
            "3) Loss positivity violation: 0.15677\n",
            "4) Disconnected lines violation: {'p_or': 1.0, 'p_ex': 1.0, 'a_or': 1.0, 'a_ex': 1.0, 'v_or': 1.0, 'v_ex': 1.0, 'violation_proportion': 1.0}\n",
            "5) Violation of loss to be between [1,4]% of production: 0.24\n",
            "6) Violation of global conservation: 99.35000000000001% and its weighted mape: 0.025094490498304367\n",
            "7) Violation of local conservation: 80.79571428571428% and its weighted mape: 0.0023921526977303074\n",
            "8) Violation proportion of voltage equality at subs: 0.9936733333333333\n"
          ]
        }
      ]
    },
    {
      "cell_type": "code",
      "source": [
        "tf_fc_metrics[\"test\"][\"ML\"] # best"
      ],
      "metadata": {
        "colab": {
          "base_uri": "https://localhost:8080/"
        },
        "id": "Y3yNXdXOqXXy",
        "outputId": "96f454b1-676b-4f22-fc1e-9e1bfd7d22ed"
      },
      "execution_count": null,
      "outputs": [
        {
          "output_type": "execute_result",
          "data": {
            "text/plain": [
              "{'MSE_avg': {'a_or': 3.3345768451690674,\n",
              "  'a_ex': 7.118857383728027,\n",
              "  'p_or': 0.012164519168436527,\n",
              "  'p_ex': 0.011876890435814857,\n",
              "  'v_or': 0.022410036996006966,\n",
              "  'v_ex': 0.015381082892417908},\n",
              " 'MAE_avg': {'a_or': 0.938480794429779,\n",
              "  'a_ex': 1.3300251960754395,\n",
              "  'p_or': 0.068013496696949,\n",
              "  'p_ex': 0.06734646111726761,\n",
              "  'v_or': 0.06679807603359222,\n",
              "  'v_ex': 0.04887884110212326},\n",
              " 'MAPE_avg': {'a_or': 160140137332736.0,\n",
              "  'a_ex': 244198452232192.0,\n",
              "  'p_or': 14076988096512.0,\n",
              "  'p_ex': 14900682293248.0,\n",
              "  'v_or': 43712197427200.0,\n",
              "  'v_ex': 35290919993344.0},\n",
              " 'MAPE_90_avg': {'a_or': 0.004435715727755689,\n",
              "  'a_ex': 0.004490790138938692,\n",
              "  'p_or': 0.004508825384497544,\n",
              "  'p_ex': 0.004568100071565232,\n",
              "  'v_or': 0.0006994158451197991,\n",
              "  'v_ex': 0.000686637240927417},\n",
              " 'TIME_INF': 0.5706053100002464}"
            ]
          },
          "metadata": {},
          "execution_count": 13
        }
      ]
    },
    {
      "cell_type": "code",
      "source": [
        "tf_fc_metrics[\"test\"][\"Physics\"] # best"
      ],
      "metadata": {
        "id": "W7eR2f2I6scX",
        "colab": {
          "base_uri": "https://localhost:8080/"
        },
        "outputId": "e128f93c-0210-4e07-b9a5-7c41f029d562"
      },
      "execution_count": null,
      "outputs": [
        {
          "output_type": "execute_result",
          "data": {
            "text/plain": [
              "{'CURRENT_POS': {'a_or': {'Error': 2351.00146484375,\n",
              "   'Violation_proportion': 0.01195},\n",
              "  'a_ex': {'Error': 6405.8076171875, 'Violation_proportion': 0.012055}},\n",
              " 'VOLTAGE_POS': {'v_or': {'Error': 885.3673095703125,\n",
              "   'Violation_proportion': 0.01359},\n",
              "  'v_ex': {'Error': 627.9515380859375, 'Violation_proportion': 0.013135}},\n",
              " 'LOSS_POS': {'loss_criterion': 1540.0264, 'violation_proportion': 0.202105},\n",
              " 'DISC_LINES': {'p_or': 1.0,\n",
              "  'p_ex': 1.0,\n",
              "  'a_or': 1.0,\n",
              "  'a_ex': 1.0,\n",
              "  'v_or': 1.0,\n",
              "  'v_ex': 1.0,\n",
              "  'violation_proportion': 1.0},\n",
              " 'CHECK_LOSS': {'violation_percentage': 0.12},\n",
              " 'CHECK_GC': {'violation_percentage': 99.51,\n",
              "  'mae': 0.15969355,\n",
              "  'wmape': 0.03434896},\n",
              " 'CHECK_LC': {'violation_percentage': 85.33714285714285,\n",
              "  'mae': 0.06889437722883054,\n",
              "  'mape': 0.003245921999973283},\n",
              " 'CHECK_VOLTAGE_EQ': {'prop_voltages_violation': 0.9899733333333334},\n",
              " 'CHECK_JOULE_LAW': {'violation_proportion': 0.36358666666666667,\n",
              "  'mae': 0.011123282501521616,\n",
              "  'wmape': 0.1066430275099315}}"
            ]
          },
          "metadata": {},
          "execution_count": 14
        }
      ]
    },
    {
      "cell_type": "code",
      "source": [
        "phys = {'CURRENT_POS': {'a_or': {'Error': 2351.00146484375,\n",
        "   'Violation_proportion': 0.01195},\n",
        "  'a_ex': {'Error': 6405.8076171875, 'Violation_proportion': 0.012055}},\n",
        " 'VOLTAGE_POS': {'v_or': {'Error': 885.3673095703125,\n",
        "   'Violation_proportion': 0.01359},\n",
        "  'v_ex': {'Error': 627.9515380859375, 'Violation_proportion': 0.013135}},\n",
        " 'LOSS_POS': {'loss_criterion': 1540.0264, 'violation_proportion': 0.202105},\n",
        " 'DISC_LINES': {'p_or': 1.0,\n",
        "  'p_ex': 1.0,\n",
        "  'a_or': 1.0,\n",
        "  'a_ex': 1.0,\n",
        "  'v_or': 1.0,\n",
        "  'v_ex': 1.0,\n",
        "  'violation_proportion': 1.0},\n",
        " 'CHECK_LOSS': {'violation_percentage': 0.12},\n",
        " 'CHECK_GC': {'violation_percentage': 99.51,\n",
        "  'mae': 0.15969355,\n",
        "  'wmape': 0.03434896},\n",
        " 'CHECK_LC': {'violation_percentage': 85.33714285714285,\n",
        "  'mae': 0.06889437722883054,\n",
        "  'mape': 0.003245921999973283},\n",
        " 'CHECK_VOLTAGE_EQ': {'prop_voltages_violation': 0.9899733333333334},\n",
        " 'CHECK_JOULE_LAW': {'violation_proportion': 0.36358666666666667,\n",
        "  'mae': 0.011123282501521616,\n",
        "  'wmape': 0.1066430275099315}}"
      ],
      "metadata": {
        "id": "1ManQasTid01"
      },
      "execution_count": null,
      "outputs": []
    },
    {
      "cell_type": "code",
      "source": [
        "print(\"1) Current positivity violation:\", (phys[\"CURRENT_POS\"][\"a_or\"][\"Violation_proportion\"]+phys[\"CURRENT_POS\"][\"a_ex\"][\"Violation_proportion\"])/2)#[\"a_or\"][\"Violation_proportion\"]\n",
        "if phys[\"VOLTAGE_POS\"]:\n",
        "    print(\"2) Voltage positivity violation:\", (phys[\"VOLTAGE_POS\"][\"v_or\"][\"Violation_proportion\"]+phys[\"VOLTAGE_POS\"][\"v_ex\"][\"Violation_proportion\"])/2)\n",
        "else:\n",
        "    print(\"2) Voltage positivity violation:\", 0)\n",
        "print(\"3) Loss positivity violation:\", phys[\"LOSS_POS\"][\"violation_proportion\"])\n",
        "print(\"4) Disconnected lines violation:\", phys[\"DISC_LINES\"])\n",
        "print(\"5) Violation of loss to be between [1,4]% of production:\", phys[\"CHECK_LOSS\"][\"violation_percentage\"])\n",
        "print(\"6) Violation of global conservation: {}% and its weighted mape: {}\".format(phys[\"CHECK_GC\"][\"violation_percentage\"], phys[\"CHECK_GC\"][\"wmape\"]))\n",
        "print(\"7) Violation of local conservation: {}% and its weighted mape: {}\".format(phys[\"CHECK_LC\"][\"violation_percentage\"], phys[\"CHECK_LC\"][\"mape\"]))\n",
        "print(\"8) Violation proportion of voltage equality at subs:\", phys[\"CHECK_VOLTAGE_EQ\"][\"prop_voltages_violation\"])"
      ],
      "metadata": {
        "colab": {
          "base_uri": "https://localhost:8080/"
        },
        "id": "xoVyy8Ngia4W",
        "outputId": "9b4ffec3-f465-4bfd-cd5a-4755e95f746e"
      },
      "execution_count": null,
      "outputs": [
        {
          "output_type": "stream",
          "name": "stdout",
          "text": [
            "1) Current positivity violation: 0.0120025\n",
            "2) Voltage positivity violation: 0.0133625\n",
            "3) Loss positivity violation: 0.202105\n",
            "4) Disconnected lines violation: {'p_or': 1.0, 'p_ex': 1.0, 'a_or': 1.0, 'a_ex': 1.0, 'v_or': 1.0, 'v_ex': 1.0, 'violation_proportion': 1.0}\n",
            "5) Violation of loss to be between [1,4]% of production: 0.12\n",
            "6) Violation of global conservation: 99.51% and its weighted mape: 0.03434896\n",
            "7) Violation of local conservation: 85.33714285714285% and its weighted mape: 0.003245921999973283\n",
            "8) Violation proportion of voltage equality at subs: 0.9899733333333334\n"
          ]
        }
      ]
    },
    {
      "cell_type": "code",
      "source": [
        "tf_fc_metrics[\"test_ood_topo\"][\"ML\"] # best"
      ],
      "metadata": {
        "id": "utftupHm6t4Z",
        "colab": {
          "base_uri": "https://localhost:8080/"
        },
        "outputId": "9ac9f75f-bf49-497f-f4af-177b52932059"
      },
      "execution_count": null,
      "outputs": [
        {
          "output_type": "execute_result",
          "data": {
            "text/plain": [
              "{'MSE_avg': {'a_or': 5894.8837890625,\n",
              "  'a_ex': 8586.091796875,\n",
              "  'p_or': 16.85958480834961,\n",
              "  'p_ex': 16.473779678344727,\n",
              "  'v_or': 0.8979676365852356,\n",
              "  'v_ex': 0.5282770991325378},\n",
              " 'MAE_avg': {'a_or': 28.1899356842041,\n",
              "  'a_ex': 36.7491455078125,\n",
              "  'p_or': 2.171426296234131,\n",
              "  'p_ex': 2.154911756515503,\n",
              "  'v_or': 0.5106374025344849,\n",
              "  'v_ex': 0.3797556161880493},\n",
              " 'MAPE_avg': {'a_or': 1004337971068928.0,\n",
              "  'a_ex': 1590081047494656.0,\n",
              "  'p_or': 118584684576768.0,\n",
              "  'p_ex': 145763690610688.0,\n",
              "  'v_or': 149274792820736.0,\n",
              "  'v_ex': 124617226190848.0},\n",
              " 'MAPE_90_avg': {'a_or': 0.12828775049733776,\n",
              "  'a_ex': 0.12835795985201354,\n",
              "  'p_or': 0.13189085260852623,\n",
              "  'p_ex': 0.13114805391786594,\n",
              "  'v_or': 0.007774807833734673,\n",
              "  'v_ex': 0.00811277348159304},\n",
              " 'TIME_INF': 0.6962272950004262}"
            ]
          },
          "metadata": {},
          "execution_count": 15
        }
      ]
    },
    {
      "cell_type": "code",
      "source": [
        "from google.colab import runtime\n",
        "runtime.unassign()"
      ],
      "metadata": {
        "id": "DNSHmzFgpsTf"
      },
      "execution_count": null,
      "outputs": []
    }
  ]
}